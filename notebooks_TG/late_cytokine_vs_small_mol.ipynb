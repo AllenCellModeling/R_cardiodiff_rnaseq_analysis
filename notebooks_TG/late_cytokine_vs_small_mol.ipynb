{
 "cells": [
  {
   "cell_type": "code",
   "execution_count": 1,
   "metadata": {
    "scrolled": true
   },
   "outputs": [
    {
     "name": "stderr",
     "output_type": "stream",
     "text": [
      "Loading required package: Matrix\n",
      "Loading required package: foreach\n",
      "Loaded glmnet 2.0-13\n",
      "\n"
     ]
    }
   ],
   "source": [
    "library(glmnet)\n",
    "library(ggplot2)"
   ]
  },
  {
   "cell_type": "code",
   "execution_count": 2,
   "metadata": {
    "collapsed": true
   },
   "outputs": [],
   "source": [
    "options(stringsAsFactors = FALSE)"
   ]
  },
  {
   "cell_type": "code",
   "execution_count": 3,
   "metadata": {
    "collapsed": true,
    "scrolled": true
   },
   "outputs": [],
   "source": [
    "base_dir <- \"/allen/aics/gene-editing/RNA_seq/scRNAseq_SeeligCollaboration/12012017_cardio/seurat/all_cells/regressions/reg1/feature_selection/\""
   ]
  },
  {
   "cell_type": "code",
   "execution_count": 4,
   "metadata": {
    "collapsed": true
   },
   "outputs": [],
   "source": [
    "load(paste0(base_dir, \"late.RData\"))"
   ]
  },
  {
   "cell_type": "code",
   "execution_count": 5,
   "metadata": {},
   "outputs": [
    {
     "data": {
      "text/html": [
       "1000"
      ],
      "text/latex": [
       "1000"
      ],
      "text/markdown": [
       "1000"
      ],
      "text/plain": [
       "[1] 1000"
      ]
     },
     "metadata": {},
     "output_type": "display_data"
    }
   ],
   "source": [
    "length(bootstraps)"
   ]
  },
  {
   "cell_type": "code",
   "execution_count": 6,
   "metadata": {
    "collapsed": true,
    "scrolled": true
   },
   "outputs": [],
   "source": [
    "lambda_sequence <- bootstraps[[1]][[\"lambda\"]]\n",
    "genes <- rownames(coef(bootstraps[[1]], s = lambda_sequence[1]))"
   ]
  },
  {
   "cell_type": "code",
   "execution_count": 7,
   "metadata": {},
   "outputs": [
    {
     "data": {
      "text/html": [
       "<ol class=list-inline>\n",
       "\t<li>'(Intercept)'</li>\n",
       "\t<li>'TTN_HUMAN'</li>\n",
       "\t<li>'AATF_HUMAN'</li>\n",
       "\t<li>'NEXN_HUMAN'</li>\n",
       "\t<li>'SOD2_HUMAN'</li>\n",
       "\t<li>'MALAT1_HUMAN'</li>\n",
       "</ol>\n"
      ],
      "text/latex": [
       "\\begin{enumerate*}\n",
       "\\item '(Intercept)'\n",
       "\\item 'TTN\\_HUMAN'\n",
       "\\item 'AATF\\_HUMAN'\n",
       "\\item 'NEXN\\_HUMAN'\n",
       "\\item 'SOD2\\_HUMAN'\n",
       "\\item 'MALAT1\\_HUMAN'\n",
       "\\end{enumerate*}\n"
      ],
      "text/markdown": [
       "1. '(Intercept)'\n",
       "2. 'TTN_HUMAN'\n",
       "3. 'AATF_HUMAN'\n",
       "4. 'NEXN_HUMAN'\n",
       "5. 'SOD2_HUMAN'\n",
       "6. 'MALAT1_HUMAN'\n",
       "\n",
       "\n"
      ],
      "text/plain": [
       "[1] \"(Intercept)\"  \"TTN_HUMAN\"    \"AATF_HUMAN\"   \"NEXN_HUMAN\"   \"SOD2_HUMAN\"  \n",
       "[6] \"MALAT1_HUMAN\""
      ]
     },
     "metadata": {},
     "output_type": "display_data"
    }
   ],
   "source": [
    "head(genes)"
   ]
  },
  {
   "cell_type": "code",
   "execution_count": 8,
   "metadata": {},
   "outputs": [
    {
     "data": {
      "text/html": [
       "<ol class=list-inline>\n",
       "\t<li>0.56301196083732</li>\n",
       "\t<li>0.535036615565917</li>\n",
       "\t<li>0.508451329471748</li>\n",
       "\t<li>0.483187032289639</li>\n",
       "\t<li>0.459178085767678</li>\n",
       "\t<li>0.436362113134862</li>\n",
       "</ol>\n"
      ],
      "text/latex": [
       "\\begin{enumerate*}\n",
       "\\item 0.56301196083732\n",
       "\\item 0.535036615565917\n",
       "\\item 0.508451329471748\n",
       "\\item 0.483187032289639\n",
       "\\item 0.459178085767678\n",
       "\\item 0.436362113134862\n",
       "\\end{enumerate*}\n"
      ],
      "text/markdown": [
       "1. 0.56301196083732\n",
       "2. 0.535036615565917\n",
       "3. 0.508451329471748\n",
       "4. 0.483187032289639\n",
       "5. 0.459178085767678\n",
       "6. 0.436362113134862\n",
       "\n",
       "\n"
      ],
      "text/plain": [
       "[1] 0.5630120 0.5350366 0.5084513 0.4831870 0.4591781 0.4363621"
      ]
     },
     "metadata": {},
     "output_type": "display_data"
    }
   ],
   "source": [
    "head(lambda_sequence)"
   ]
  },
  {
   "cell_type": "code",
   "execution_count": 9,
   "metadata": {
    "collapsed": true
   },
   "outputs": [],
   "source": [
    "genes <- genes[2:length(genes)]"
   ]
  },
  {
   "cell_type": "code",
   "execution_count": 10,
   "metadata": {},
   "outputs": [
    {
     "data": {
      "text/html": [
       "<ol class=list-inline>\n",
       "\t<li>'TTN_HUMAN'</li>\n",
       "\t<li>'AATF_HUMAN'</li>\n",
       "\t<li>'NEXN_HUMAN'</li>\n",
       "\t<li>'SOD2_HUMAN'</li>\n",
       "\t<li>'MALAT1_HUMAN'</li>\n",
       "\t<li>'PIGP_HUMAN'</li>\n",
       "</ol>\n"
      ],
      "text/latex": [
       "\\begin{enumerate*}\n",
       "\\item 'TTN\\_HUMAN'\n",
       "\\item 'AATF\\_HUMAN'\n",
       "\\item 'NEXN\\_HUMAN'\n",
       "\\item 'SOD2\\_HUMAN'\n",
       "\\item 'MALAT1\\_HUMAN'\n",
       "\\item 'PIGP\\_HUMAN'\n",
       "\\end{enumerate*}\n"
      ],
      "text/markdown": [
       "1. 'TTN_HUMAN'\n",
       "2. 'AATF_HUMAN'\n",
       "3. 'NEXN_HUMAN'\n",
       "4. 'SOD2_HUMAN'\n",
       "5. 'MALAT1_HUMAN'\n",
       "6. 'PIGP_HUMAN'\n",
       "\n",
       "\n"
      ],
      "text/plain": [
       "[1] \"TTN_HUMAN\"    \"AATF_HUMAN\"   \"NEXN_HUMAN\"   \"SOD2_HUMAN\"   \"MALAT1_HUMAN\"\n",
       "[6] \"PIGP_HUMAN\"  "
      ]
     },
     "metadata": {},
     "output_type": "display_data"
    },
    {
     "data": {
      "text/html": [
       "22187"
      ],
      "text/latex": [
       "22187"
      ],
      "text/markdown": [
       "22187"
      ],
      "text/plain": [
       "[1] 22187"
      ]
     },
     "metadata": {},
     "output_type": "display_data"
    }
   ],
   "source": [
    "head(genes)\n",
    "length(genes)\n",
    "num_genes <- length(genes)"
   ]
  },
  {
   "cell_type": "code",
   "execution_count": 11,
   "metadata": {
    "collapsed": true
   },
   "outputs": [],
   "source": [
    "nonzero_gene_count <- c()\n",
    "lambda <- min(lambda_sequence)\n",
    "\n",
    "genes_coeff <- coef(bootstraps[[1]], s = lambda)\n",
    "genes_coeff <- genes_coeff[2:length(genes_coeff),]\n",
    "gene_names <- names(genes_coeff)\n",
    "genes_nonzero <- gene_names[abs(genes_coeff) > 0]\n",
    "nonzero_gene_count <- c(nonzero_gene_count, length(genes_nonzero))\n",
    "\n",
    "genes_intersect <- genes_nonzero\n",
    "\n",
    "for (i in 2:length(bootstraps)) {\n",
    "    lambda_seq <- bootstraps[[i]][[\"lambda\"]]\n",
    "    if (lambda < tail(lambda_seq, n = 1)) {\n",
    "        print(i)\n",
    "    } \n",
    "    genes_coeff <- coef(bootstraps[[i]], s = lambda)\n",
    "    genes_coeff <- genes_coeff[2:length(genes_coeff),]\n",
    "    gene_names <- names(genes_coeff)\n",
    "    genes_nonzero <- gene_names[abs(genes_coeff) > 0]\n",
    "    nonzero_gene_count <- c(nonzero_gene_count, length(genes_nonzero))\n",
    "    genes_intersect <- intersect(genes_intersect, genes_nonzero)\n",
    "}"
   ]
  },
  {
   "cell_type": "markdown",
   "metadata": {},
   "source": [
    "### Non-zero genes in all rounds"
   ]
  },
  {
   "cell_type": "code",
   "execution_count": 12,
   "metadata": {},
   "outputs": [
    {
     "name": "stdout",
     "output_type": "stream",
     "text": [
      "[1] 27\n"
     ]
    },
    {
     "data": {
      "text/html": [
       "<ol class=list-inline>\n",
       "\t<li>'COL2A1_HUMAN'</li>\n",
       "\t<li>'KCNIP4_HUMAN'</li>\n",
       "\t<li>'SORCS1_HUMAN'</li>\n",
       "\t<li>'ROBO2_HUMAN'</li>\n",
       "\t<li>'PTCHD4_HUMAN'</li>\n",
       "\t<li>'GPC6_HUMAN'</li>\n",
       "\t<li>'KIF26B_HUMAN'</li>\n",
       "\t<li>'CNTN5_HUMAN'</li>\n",
       "\t<li>'COL4A2_HUMAN'</li>\n",
       "\t<li>'SYT1_HUMAN'</li>\n",
       "\t<li>'TENM3_HUMAN'</li>\n",
       "\t<li>'TENM4_HUMAN'</li>\n",
       "\t<li>'RBMS3_HUMAN'</li>\n",
       "\t<li>'SPHKAP_HUMAN'</li>\n",
       "\t<li>'NEAT1_HUMAN'</li>\n",
       "\t<li>'DLEU1_HUMAN'</li>\n",
       "\t<li>'NRP2_HUMAN'</li>\n",
       "\t<li>'CASC9_HUMAN'</li>\n",
       "\t<li>'NR2F2-AS1_HUMAN'</li>\n",
       "\t<li>'LAMA1_HUMAN'</li>\n",
       "\t<li>'SGIP1_HUMAN'</li>\n",
       "\t<li>'QRFPR_HUMAN'</li>\n",
       "\t<li>'DACT1_HUMAN'</li>\n",
       "\t<li>'HSPB7_HUMAN'</li>\n",
       "\t<li>'SOX6_HUMAN'</li>\n",
       "\t<li>'PPP1R3A_HUMAN'</li>\n",
       "\t<li>'PRRX1_HUMAN'</li>\n",
       "</ol>\n"
      ],
      "text/latex": [
       "\\begin{enumerate*}\n",
       "\\item 'COL2A1\\_HUMAN'\n",
       "\\item 'KCNIP4\\_HUMAN'\n",
       "\\item 'SORCS1\\_HUMAN'\n",
       "\\item 'ROBO2\\_HUMAN'\n",
       "\\item 'PTCHD4\\_HUMAN'\n",
       "\\item 'GPC6\\_HUMAN'\n",
       "\\item 'KIF26B\\_HUMAN'\n",
       "\\item 'CNTN5\\_HUMAN'\n",
       "\\item 'COL4A2\\_HUMAN'\n",
       "\\item 'SYT1\\_HUMAN'\n",
       "\\item 'TENM3\\_HUMAN'\n",
       "\\item 'TENM4\\_HUMAN'\n",
       "\\item 'RBMS3\\_HUMAN'\n",
       "\\item 'SPHKAP\\_HUMAN'\n",
       "\\item 'NEAT1\\_HUMAN'\n",
       "\\item 'DLEU1\\_HUMAN'\n",
       "\\item 'NRP2\\_HUMAN'\n",
       "\\item 'CASC9\\_HUMAN'\n",
       "\\item 'NR2F2-AS1\\_HUMAN'\n",
       "\\item 'LAMA1\\_HUMAN'\n",
       "\\item 'SGIP1\\_HUMAN'\n",
       "\\item 'QRFPR\\_HUMAN'\n",
       "\\item 'DACT1\\_HUMAN'\n",
       "\\item 'HSPB7\\_HUMAN'\n",
       "\\item 'SOX6\\_HUMAN'\n",
       "\\item 'PPP1R3A\\_HUMAN'\n",
       "\\item 'PRRX1\\_HUMAN'\n",
       "\\end{enumerate*}\n"
      ],
      "text/markdown": [
       "1. 'COL2A1_HUMAN'\n",
       "2. 'KCNIP4_HUMAN'\n",
       "3. 'SORCS1_HUMAN'\n",
       "4. 'ROBO2_HUMAN'\n",
       "5. 'PTCHD4_HUMAN'\n",
       "6. 'GPC6_HUMAN'\n",
       "7. 'KIF26B_HUMAN'\n",
       "8. 'CNTN5_HUMAN'\n",
       "9. 'COL4A2_HUMAN'\n",
       "10. 'SYT1_HUMAN'\n",
       "11. 'TENM3_HUMAN'\n",
       "12. 'TENM4_HUMAN'\n",
       "13. 'RBMS3_HUMAN'\n",
       "14. 'SPHKAP_HUMAN'\n",
       "15. 'NEAT1_HUMAN'\n",
       "16. 'DLEU1_HUMAN'\n",
       "17. 'NRP2_HUMAN'\n",
       "18. 'CASC9_HUMAN'\n",
       "19. 'NR2F2-AS1_HUMAN'\n",
       "20. 'LAMA1_HUMAN'\n",
       "21. 'SGIP1_HUMAN'\n",
       "22. 'QRFPR_HUMAN'\n",
       "23. 'DACT1_HUMAN'\n",
       "24. 'HSPB7_HUMAN'\n",
       "25. 'SOX6_HUMAN'\n",
       "26. 'PPP1R3A_HUMAN'\n",
       "27. 'PRRX1_HUMAN'\n",
       "\n",
       "\n"
      ],
      "text/plain": [
       " [1] \"COL2A1_HUMAN\"    \"KCNIP4_HUMAN\"    \"SORCS1_HUMAN\"    \"ROBO2_HUMAN\"    \n",
       " [5] \"PTCHD4_HUMAN\"    \"GPC6_HUMAN\"      \"KIF26B_HUMAN\"    \"CNTN5_HUMAN\"    \n",
       " [9] \"COL4A2_HUMAN\"    \"SYT1_HUMAN\"      \"TENM3_HUMAN\"     \"TENM4_HUMAN\"    \n",
       "[13] \"RBMS3_HUMAN\"     \"SPHKAP_HUMAN\"    \"NEAT1_HUMAN\"     \"DLEU1_HUMAN\"    \n",
       "[17] \"NRP2_HUMAN\"      \"CASC9_HUMAN\"     \"NR2F2-AS1_HUMAN\" \"LAMA1_HUMAN\"    \n",
       "[21] \"SGIP1_HUMAN\"     \"QRFPR_HUMAN\"     \"DACT1_HUMAN\"     \"HSPB7_HUMAN\"    \n",
       "[25] \"SOX6_HUMAN\"      \"PPP1R3A_HUMAN\"   \"PRRX1_HUMAN\"    "
      ]
     },
     "metadata": {},
     "output_type": "display_data"
    }
   ],
   "source": [
    "print(length(genes_intersect))\n",
    "genes_intersect"
   ]
  },
  {
   "cell_type": "markdown",
   "metadata": {},
   "source": [
    "### Distribution of non-zero genes at min lambda"
   ]
  },
  {
   "cell_type": "code",
   "execution_count": 13,
   "metadata": {
    "scrolled": false
   },
   "outputs": [
    {
     "name": "stderr",
     "output_type": "stream",
     "text": [
      "`stat_bin()` using `bins = 30`. Pick better value with `binwidth`.\n"
     ]
    },
    {
     "data": {},
     "metadata": {},
     "output_type": "display_data"
    },
    {
     "data": {
      "image/png": "[encoded data removed]",
      "text/plain": [
       "plot without title"
      ]
     },
     "metadata": {},
     "output_type": "display_data"
    }
   ],
   "source": [
    "nonzero_gene_count <- as.data.frame(nonzero_gene_count)\n",
    "colnames(nonzero_gene_count) <- \"nonzeroGenes\"\n",
    "ggplot(nonzero_gene_count) + geom_histogram(aes(nonzeroGenes))"
   ]
  },
  {
   "cell_type": "markdown",
   "metadata": {},
   "source": [
    "### Compare gene list to previous analysis (remove_1s2exp data)"
   ]
  },
  {
   "cell_type": "code",
   "execution_count": 14,
   "metadata": {},
   "outputs": [
    {
     "data": {
      "text/html": [
       "<ol class=list-inline>\n",
       "\t<li>'COL2A1_HUMAN'</li>\n",
       "\t<li>'CNTN5_HUMAN'</li>\n",
       "\t<li>'SPHKAP_HUMAN'</li>\n",
       "\t<li>'QRFPR_HUMAN'</li>\n",
       "</ol>\n"
      ],
      "text/latex": [
       "\\begin{enumerate*}\n",
       "\\item 'COL2A1\\_HUMAN'\n",
       "\\item 'CNTN5\\_HUMAN'\n",
       "\\item 'SPHKAP\\_HUMAN'\n",
       "\\item 'QRFPR\\_HUMAN'\n",
       "\\end{enumerate*}\n"
      ],
      "text/markdown": [
       "1. 'COL2A1_HUMAN'\n",
       "2. 'CNTN5_HUMAN'\n",
       "3. 'SPHKAP_HUMAN'\n",
       "4. 'QRFPR_HUMAN'\n",
       "\n",
       "\n"
      ],
      "text/plain": [
       "[1] \"COL2A1_HUMAN\" \"CNTN5_HUMAN\"  \"SPHKAP_HUMAN\" \"QRFPR_HUMAN\" "
      ]
     },
     "metadata": {},
     "output_type": "display_data"
    },
    {
     "data": {
      "text/html": [
       "4"
      ],
      "text/latex": [
       "4"
      ],
      "text/markdown": [
       "4"
      ],
      "text/plain": [
       "[1] 4"
      ]
     },
     "metadata": {},
     "output_type": "display_data"
    }
   ],
   "source": [
    "remove_1st2exp_genes <- c('ACTA1_HUMAN','FBN2_HUMAN','MYH6_HUMAN','COL2A1_HUMAN','ADAMTS12_HUMAN','CCDC141_HUMAN','FAM189A2_HUMAN','GRIN2A_HUMAN','GOLIM4_HUMAN','PRTG_HUMAN','PLN_HUMAN','VCAN_HUMAN','MYO1D_HUMAN','CNTN5_HUMAN','BMPER_HUMAN','KCNH7_HUMAN','FAM19A4_HUMAN','ATP1A1_HUMAN','WWOX_HUMAN','SAMD4A_HUMAN','SPHKAP_HUMAN','MYH7_HUMAN','SEMA5A_HUMAN','FBXL7_HUMAN','PAM_HUMAN','PDGFD_HUMAN','RNF150_HUMAN','ADAM28_HUMAN','MEF2C_HUMAN','H19_HUMAN','RBFOX2_HUMAN','LINC00881_HUMAN','MLIP_HUMAN','GAS6_HUMAN','ADAM23_HUMAN','EPB41L4A_HUMAN','MOXD1_HUMAN','SV2C_HUMAN','PRSS35_HUMAN','QRFPR_HUMAN','DOK4_HUMAN','LIN28A_HUMAN')\n",
    "x <- intersect(remove_1st2exp_genes, genes_intersect)\n",
    "x\n",
    "length(x)"
   ]
  },
  {
   "cell_type": "markdown",
   "metadata": {},
   "source": [
    "Only 4 genes are detected in both analyses"
   ]
  },
  {
   "cell_type": "markdown",
   "metadata": {},
   "source": [
    "### Caclulate fold changes for genes"
   ]
  },
  {
   "cell_type": "code",
   "execution_count": 15,
   "metadata": {
    "scrolled": false
   },
   "outputs": [
    {
     "name": "stderr",
     "output_type": "stream",
     "text": [
      "\n",
      "Attaching package: ‘dplyr’\n",
      "\n",
      "The following objects are masked from ‘package:stats’:\n",
      "\n",
      "    filter, lag\n",
      "\n",
      "The following objects are masked from ‘package:base’:\n",
      "\n",
      "    intersect, setdiff, setequal, union\n",
      "\n"
     ]
    }
   ],
   "source": [
    "library(dplyr)"
   ]
  },
  {
   "cell_type": "code",
   "execution_count": 16,
   "metadata": {
    "collapsed": true
   },
   "outputs": [],
   "source": [
    "load(\"/allen/aics/gene-editing/RNA_seq/scRNAseq_SeeligCollaboration/12012017_cardio/seurat/all_cells/regressions/reg1/train_cm_filtered_cells_entrez_only_normalized_counts.RData\")"
   ]
  },
  {
   "cell_type": "code",
   "execution_count": 17,
   "metadata": {
    "collapsed": true
   },
   "outputs": [],
   "source": [
    "cell_metadata <- read.csv(\"/allen/aics/gene-editing/RNA_seq/scRNAseq_SeeligCollaboration/12012017_cardio/seurat/all_cells/regressions/reg1/train_cm_filtered_cells_entrez_only_metadata.csv\")"
   ]
  },
  {
   "cell_type": "code",
   "execution_count": 18,
   "metadata": {},
   "outputs": [
    {
     "data": {
      "text/html": [
       "<table>\n",
       "<thead><tr><th scope=col>X</th><th scope=col>nGene</th><th scope=col>nUMI</th><th scope=col>orig.ident</th><th scope=col>day</th><th scope=col>protocol</th><th scope=col>cell_line</th><th scope=col>diff_harvest</th><th scope=col>passage</th><th scope=col>scientist</th><th scope=col>diff_exp</th><th scope=col>sci_exp</th><th scope=col>ctnt</th><th scope=col>cell_sample</th></tr></thead>\n",
       "<tbody>\n",
       "\t<tr><td>AAACATCGAAACATCG_14_6 </td><td>1577                  </td><td>2986                  </td><td>SeuratProject         </td><td>D12                   </td><td>Lian                  </td><td>AICS11                </td><td>08_8_2017             </td><td>44                    </td><td>KG                    </td><td>7_24_2017             </td><td>KG_7_24               </td><td>90                    </td><td>15                    </td></tr>\n",
       "\t<tr><td>AAACATCGAAACATCG_21_10</td><td> 578                  </td><td> 727                  </td><td>SeuratProject         </td><td>D14                   </td><td>Murry                 </td><td>AICS0                 </td><td>08_11_2017            </td><td>28                    </td><td>KG                    </td><td>7_27_2017             </td><td>KG_7_27               </td><td>78                    </td><td>22                    </td></tr>\n",
       "\t<tr><td>AAACATCGAACAACCA_2_9  </td><td> 489                  </td><td> 606                  </td><td>SeuratProject         </td><td>D12                   </td><td>Lian                  </td><td>AICS37                </td><td>07_24_2017            </td><td>34                    </td><td>AN                    </td><td>7_10_2017             </td><td>AN_7_10               </td><td>89                    </td><td> 3                    </td></tr>\n",
       "\t<tr><td>AAACATCGAACAACCA_5_8  </td><td>1117                  </td><td>1511                  </td><td>SeuratProject         </td><td>D14                   </td><td>Murry                 </td><td>AICS0                 </td><td>07_28_2017            </td><td>32                    </td><td>AN                    </td><td>7_13_2017             </td><td>AN_7_13               </td><td>75                    </td><td> 6                    </td></tr>\n",
       "\t<tr><td>AAACATCGAACGCTTA_32_8 </td><td> 940                  </td><td>1599                  </td><td>SeuratProject         </td><td>D24                   </td><td>Lian                  </td><td>AICS11                </td><td>08_18_2017            </td><td>44                    </td><td>KG                    </td><td>7_24_2017             </td><td>KG_7_24               </td><td>92                    </td><td>33                    </td></tr>\n",
       "\t<tr><td>AAACATCGAACTCACC_26_2 </td><td>2282                  </td><td>4392                  </td><td>SeuratProject         </td><td>D12                   </td><td>Lian                  </td><td>AICS37                </td><td>08_11_2017            </td><td>37                    </td><td>KG                    </td><td>7_27_2017             </td><td>KG_7_27               </td><td>87                    </td><td>27                    </td></tr>\n",
       "</tbody>\n",
       "</table>\n"
      ],
      "text/latex": [
       "\\begin{tabular}{r|llllllllllllll}\n",
       " X & nGene & nUMI & orig.ident & day & protocol & cell\\_line & diff\\_harvest & passage & scientist & diff\\_exp & sci\\_exp & ctnt & cell\\_sample\\\\\n",
       "\\hline\n",
       "\t AAACATCGAAACATCG\\_14\\_6  & 1577                       & 2986                       & SeuratProject              & D12                        & Lian                       & AICS11                     & 08\\_8\\_2017              & 44                         & KG                         & 7\\_24\\_2017              & KG\\_7\\_24                & 90                         & 15                        \\\\\n",
       "\t AAACATCGAAACATCG\\_21\\_10 &  578                       &  727                       & SeuratProject              & D14                        & Murry                      & AICS0                      & 08\\_11\\_2017             & 28                         & KG                         & 7\\_27\\_2017              & KG\\_7\\_27                & 78                         & 22                        \\\\\n",
       "\t AAACATCGAACAACCA\\_2\\_9   &  489                       &  606                       & SeuratProject              & D12                        & Lian                       & AICS37                     & 07\\_24\\_2017             & 34                         & AN                         & 7\\_10\\_2017              & AN\\_7\\_10                & 89                         &  3                        \\\\\n",
       "\t AAACATCGAACAACCA\\_5\\_8   & 1117                       & 1511                       & SeuratProject              & D14                        & Murry                      & AICS0                      & 07\\_28\\_2017             & 32                         & AN                         & 7\\_13\\_2017              & AN\\_7\\_13                & 75                         &  6                        \\\\\n",
       "\t AAACATCGAACGCTTA\\_32\\_8  &  940                       & 1599                       & SeuratProject              & D24                        & Lian                       & AICS11                     & 08\\_18\\_2017             & 44                         & KG                         & 7\\_24\\_2017              & KG\\_7\\_24                & 92                         & 33                        \\\\\n",
       "\t AAACATCGAACTCACC\\_26\\_2  & 2282                       & 4392                       & SeuratProject              & D12                        & Lian                       & AICS37                     & 08\\_11\\_2017             & 37                         & KG                         & 7\\_27\\_2017              & KG\\_7\\_27                & 87                         & 27                        \\\\\n",
       "\\end{tabular}\n"
      ],
      "text/markdown": [
       "\n",
       "X | nGene | nUMI | orig.ident | day | protocol | cell_line | diff_harvest | passage | scientist | diff_exp | sci_exp | ctnt | cell_sample | \n",
       "|---|---|---|---|---|---|\n",
       "| AAACATCGAAACATCG_14_6  | 1577                   | 2986                   | SeuratProject          | D12                    | Lian                   | AICS11                 | 08_8_2017              | 44                     | KG                     | 7_24_2017              | KG_7_24                | 90                     | 15                     | \n",
       "| AAACATCGAAACATCG_21_10 |  578                   |  727                   | SeuratProject          | D14                    | Murry                  | AICS0                  | 08_11_2017             | 28                     | KG                     | 7_27_2017              | KG_7_27                | 78                     | 22                     | \n",
       "| AAACATCGAACAACCA_2_9   |  489                   |  606                   | SeuratProject          | D12                    | Lian                   | AICS37                 | 07_24_2017             | 34                     | AN                     | 7_10_2017              | AN_7_10                | 89                     |  3                     | \n",
       "| AAACATCGAACAACCA_5_8   | 1117                   | 1511                   | SeuratProject          | D14                    | Murry                  | AICS0                  | 07_28_2017             | 32                     | AN                     | 7_13_2017              | AN_7_13                | 75                     |  6                     | \n",
       "| AAACATCGAACGCTTA_32_8  |  940                   | 1599                   | SeuratProject          | D24                    | Lian                   | AICS11                 | 08_18_2017             | 44                     | KG                     | 7_24_2017              | KG_7_24                | 92                     | 33                     | \n",
       "| AAACATCGAACTCACC_26_2  | 2282                   | 4392                   | SeuratProject          | D12                    | Lian                   | AICS37                 | 08_11_2017             | 37                     | KG                     | 7_27_2017              | KG_7_27                | 87                     | 27                     | \n",
       "\n",
       "\n"
      ],
      "text/plain": [
       "  X                      nGene nUMI orig.ident    day protocol cell_line\n",
       "1 AAACATCGAAACATCG_14_6  1577  2986 SeuratProject D12 Lian     AICS11   \n",
       "2 AAACATCGAAACATCG_21_10  578   727 SeuratProject D14 Murry    AICS0    \n",
       "3 AAACATCGAACAACCA_2_9    489   606 SeuratProject D12 Lian     AICS37   \n",
       "4 AAACATCGAACAACCA_5_8   1117  1511 SeuratProject D14 Murry    AICS0    \n",
       "5 AAACATCGAACGCTTA_32_8   940  1599 SeuratProject D24 Lian     AICS11   \n",
       "6 AAACATCGAACTCACC_26_2  2282  4392 SeuratProject D12 Lian     AICS37   \n",
       "  diff_harvest passage scientist diff_exp  sci_exp ctnt cell_sample\n",
       "1 08_8_2017    44      KG        7_24_2017 KG_7_24 90   15         \n",
       "2 08_11_2017   28      KG        7_27_2017 KG_7_27 78   22         \n",
       "3 07_24_2017   34      AN        7_10_2017 AN_7_10 89    3         \n",
       "4 07_28_2017   32      AN        7_13_2017 AN_7_13 75    6         \n",
       "5 08_18_2017   44      KG        7_24_2017 KG_7_24 92   33         \n",
       "6 08_11_2017   37      KG        7_27_2017 KG_7_27 87   27         "
      ]
     },
     "metadata": {},
     "output_type": "display_data"
    }
   ],
   "source": [
    "head(cell_metadata)"
   ]
  },
  {
   "cell_type": "code",
   "execution_count": 19,
   "metadata": {
    "collapsed": true
   },
   "outputs": [],
   "source": [
    "cardioAICS <- t(cardioAICS)\n",
    "\n",
    "late_cells <- cell_metadata$day %in% c(\"D24\", \"D26\")\n",
    "cardioAICS <- cardioAICS[late_cells,]\n",
    "\n",
    "diff_day <- cell_metadata$day[late_cells]\n",
    "\n",
    "names(diff_day) <- cell_metadata$X[late_cells]\n",
    "\n",
    "cell_metadata <- cell_metadata[late_cells,]"
   ]
  },
  {
   "cell_type": "code",
   "execution_count": 20,
   "metadata": {},
   "outputs": [
    {
     "data": {
      "text/html": [
       "<table>\n",
       "<thead><tr><th></th><th scope=col>X</th><th scope=col>nGene</th><th scope=col>nUMI</th><th scope=col>orig.ident</th><th scope=col>day</th><th scope=col>protocol</th><th scope=col>cell_line</th><th scope=col>diff_harvest</th><th scope=col>passage</th><th scope=col>scientist</th><th scope=col>diff_exp</th><th scope=col>sci_exp</th><th scope=col>ctnt</th><th scope=col>cell_sample</th></tr></thead>\n",
       "<tbody>\n",
       "\t<tr><th scope=row>5</th><td>AAACATCGAACGCTTA_32_8 </td><td> 940                  </td><td>1599                  </td><td>SeuratProject         </td><td>D24                   </td><td>Lian                  </td><td>AICS11                </td><td>08_18_2017            </td><td>44                    </td><td>KG                    </td><td>7_24_2017             </td><td>KG_7_24               </td><td>92                    </td><td>33                    </td></tr>\n",
       "\t<tr><th scope=row>11</th><td>AAACATCGAAGAGATC_46_1 </td><td>1697                  </td><td>2722                  </td><td>SeuratProject         </td><td>D24                   </td><td>Lian                  </td><td>AICS37                </td><td>08_22_2017            </td><td>36                    </td><td>AN                    </td><td>7_27_2017             </td><td>AN_7_27               </td><td>65                    </td><td>47                    </td></tr>\n",
       "\t<tr><th scope=row>12</th><td>AAACATCGAAGGACAC_35_12</td><td>1659                  </td><td>2651                  </td><td>SeuratProject         </td><td>D26                   </td><td>Murry                 </td><td>AICS11                </td><td>08_18_2017            </td><td>44                    </td><td>AN                    </td><td>7_24_2017             </td><td>AN_7_24               </td><td>92                    </td><td>36                    </td></tr>\n",
       "\t<tr><th scope=row>18</th><td>AAACATCGACAAGCTA_44_7 </td><td> 412                  </td><td> 499                  </td><td>SeuratProject         </td><td>D24                   </td><td>Lian                  </td><td>AICS37                </td><td>08_22_2017            </td><td>37                    </td><td>KG                    </td><td>7_27_2017             </td><td>KG_7_27               </td><td>84                    </td><td>45                    </td></tr>\n",
       "\t<tr><th scope=row>22</th><td>AAACATCGACACGACC_28_5 </td><td>2200                  </td><td>4082                  </td><td>SeuratProject         </td><td>D24                   </td><td>Lian                  </td><td>AICS0                 </td><td>08_16_2017            </td><td>33                    </td><td>AN                    </td><td>7_20_2017             </td><td>AN_7_20               </td><td>68                    </td><td>29                    </td></tr>\n",
       "\t<tr><th scope=row>25</th><td>AAACATCGACAGCAGA_28_12</td><td>1544                  </td><td>2503                  </td><td>SeuratProject         </td><td>D24                   </td><td>Lian                  </td><td>AICS0                 </td><td>08_16_2017            </td><td>33                    </td><td>AN                    </td><td>7_20_2017             </td><td>AN_7_20               </td><td>68                    </td><td>29                    </td></tr>\n",
       "</tbody>\n",
       "</table>\n"
      ],
      "text/latex": [
       "\\begin{tabular}{r|llllllllllllll}\n",
       "  & X & nGene & nUMI & orig.ident & day & protocol & cell\\_line & diff\\_harvest & passage & scientist & diff\\_exp & sci\\_exp & ctnt & cell\\_sample\\\\\n",
       "\\hline\n",
       "\t5 & AAACATCGAACGCTTA\\_32\\_8  &  940                       & 1599                       & SeuratProject              & D24                        & Lian                       & AICS11                     & 08\\_18\\_2017             & 44                         & KG                         & 7\\_24\\_2017              & KG\\_7\\_24                & 92                         & 33                        \\\\\n",
       "\t11 & AAACATCGAAGAGATC\\_46\\_1  & 1697                       & 2722                       & SeuratProject              & D24                        & Lian                       & AICS37                     & 08\\_22\\_2017             & 36                         & AN                         & 7\\_27\\_2017              & AN\\_7\\_27                & 65                         & 47                        \\\\\n",
       "\t12 & AAACATCGAAGGACAC\\_35\\_12 & 1659                       & 2651                       & SeuratProject              & D26                        & Murry                      & AICS11                     & 08\\_18\\_2017             & 44                         & AN                         & 7\\_24\\_2017              & AN\\_7\\_24                & 92                         & 36                        \\\\\n",
       "\t18 & AAACATCGACAAGCTA\\_44\\_7  &  412                       &  499                       & SeuratProject              & D24                        & Lian                       & AICS37                     & 08\\_22\\_2017             & 37                         & KG                         & 7\\_27\\_2017              & KG\\_7\\_27                & 84                         & 45                        \\\\\n",
       "\t22 & AAACATCGACACGACC\\_28\\_5  & 2200                       & 4082                       & SeuratProject              & D24                        & Lian                       & AICS0                      & 08\\_16\\_2017             & 33                         & AN                         & 7\\_20\\_2017              & AN\\_7\\_20                & 68                         & 29                        \\\\\n",
       "\t25 & AAACATCGACAGCAGA\\_28\\_12 & 1544                       & 2503                       & SeuratProject              & D24                        & Lian                       & AICS0                      & 08\\_16\\_2017             & 33                         & AN                         & 7\\_20\\_2017              & AN\\_7\\_20                & 68                         & 29                        \\\\\n",
       "\\end{tabular}\n"
      ],
      "text/markdown": [
       "\n",
       "| <!--/--> | X | nGene | nUMI | orig.ident | day | protocol | cell_line | diff_harvest | passage | scientist | diff_exp | sci_exp | ctnt | cell_sample | \n",
       "|---|---|---|---|---|---|\n",
       "| 5 | AAACATCGAACGCTTA_32_8  |  940                   | 1599                   | SeuratProject          | D24                    | Lian                   | AICS11                 | 08_18_2017             | 44                     | KG                     | 7_24_2017              | KG_7_24                | 92                     | 33                     | \n",
       "| 11 | AAACATCGAAGAGATC_46_1  | 1697                   | 2722                   | SeuratProject          | D24                    | Lian                   | AICS37                 | 08_22_2017             | 36                     | AN                     | 7_27_2017              | AN_7_27                | 65                     | 47                     | \n",
       "| 12 | AAACATCGAAGGACAC_35_12 | 1659                   | 2651                   | SeuratProject          | D26                    | Murry                  | AICS11                 | 08_18_2017             | 44                     | AN                     | 7_24_2017              | AN_7_24                | 92                     | 36                     | \n",
       "| 18 | AAACATCGACAAGCTA_44_7  |  412                   |  499                   | SeuratProject          | D24                    | Lian                   | AICS37                 | 08_22_2017             | 37                     | KG                     | 7_27_2017              | KG_7_27                | 84                     | 45                     | \n",
       "| 22 | AAACATCGACACGACC_28_5  | 2200                   | 4082                   | SeuratProject          | D24                    | Lian                   | AICS0                  | 08_16_2017             | 33                     | AN                     | 7_20_2017              | AN_7_20                | 68                     | 29                     | \n",
       "| 25 | AAACATCGACAGCAGA_28_12 | 1544                   | 2503                   | SeuratProject          | D24                    | Lian                   | AICS0                  | 08_16_2017             | 33                     | AN                     | 7_20_2017              | AN_7_20                | 68                     | 29                     | \n",
       "\n",
       "\n"
      ],
      "text/plain": [
       "   X                      nGene nUMI orig.ident    day protocol cell_line\n",
       "5  AAACATCGAACGCTTA_32_8   940  1599 SeuratProject D24 Lian     AICS11   \n",
       "11 AAACATCGAAGAGATC_46_1  1697  2722 SeuratProject D24 Lian     AICS37   \n",
       "12 AAACATCGAAGGACAC_35_12 1659  2651 SeuratProject D26 Murry    AICS11   \n",
       "18 AAACATCGACAAGCTA_44_7   412   499 SeuratProject D24 Lian     AICS37   \n",
       "22 AAACATCGACACGACC_28_5  2200  4082 SeuratProject D24 Lian     AICS0    \n",
       "25 AAACATCGACAGCAGA_28_12 1544  2503 SeuratProject D24 Lian     AICS0    \n",
       "   diff_harvest passage scientist diff_exp  sci_exp ctnt cell_sample\n",
       "5  08_18_2017   44      KG        7_24_2017 KG_7_24 92   33         \n",
       "11 08_22_2017   36      AN        7_27_2017 AN_7_27 65   47         \n",
       "12 08_18_2017   44      AN        7_24_2017 AN_7_24 92   36         \n",
       "18 08_22_2017   37      KG        7_27_2017 KG_7_27 84   45         \n",
       "22 08_16_2017   33      AN        7_20_2017 AN_7_20 68   29         \n",
       "25 08_16_2017   33      AN        7_20_2017 AN_7_20 68   29         "
      ]
     },
     "metadata": {},
     "output_type": "display_data"
    }
   ],
   "source": [
    "head(cell_metadata)"
   ]
  },
  {
   "cell_type": "code",
   "execution_count": 21,
   "metadata": {
    "collapsed": true
   },
   "outputs": [],
   "source": [
    "genes.use <- genes_intersect\n",
    "\n",
    "cytokine_cells <- cell_metadata$X[cell_metadata$protocol == \"Murry\"]\n",
    "small_mol_cells <- cell_metadata$X[cell_metadata$protocol == \"Lian\"]\n",
    "\n",
    "cytokine_exp_mat <- cardioAICS[cytokine_cells,]\n",
    "small_mol_exp_mat <- cardioAICS[small_mol_cells,]\n",
    "\n",
    "foldChange_list <- list()\n",
    "for (i in 1:length(genes.use)) {\n",
    "    gene <- genes.use[i]\n",
    "    cytokine_exp <- cytokine_exp_mat[,gene]\n",
    "    small_mol_exp <- small_mol_exp_mat[,gene]\n",
    "    log2fc <- log2(mean(expm1(small_mol_exp)) + 1) - log2(mean(expm1(cytokine_exp)) + 1)\n",
    "    foldChange_list[[gene]] <- log2fc\n",
    "    \n",
    "}\n",
    "\n",
    "lfc_df <- data.frame(\"log2fc\" = as.numeric(foldChange_list), \"gene\" = names(foldChange_list), row.names = names(foldChange_list))\n",
    "lfc_df <- dplyr::arrange(lfc_df, log2fc)"
   ]
  },
  {
   "cell_type": "code",
   "execution_count": 22,
   "metadata": {
    "scrolled": true
   },
   "outputs": [
    {
     "data": {
      "text/html": [
       "<table>\n",
       "<thead><tr><th scope=col>log2fc</th><th scope=col>gene</th></tr></thead>\n",
       "<tbody>\n",
       "\t<tr><td>-2.31623337    </td><td>CNTN5_HUMAN    </td></tr>\n",
       "\t<tr><td>-0.99836845    </td><td>ROBO2_HUMAN    </td></tr>\n",
       "\t<tr><td>-0.76626134    </td><td>SOX6_HUMAN     </td></tr>\n",
       "\t<tr><td>-0.75889264    </td><td>KIF26B_HUMAN   </td></tr>\n",
       "\t<tr><td>-0.60881212    </td><td>DACT1_HUMAN    </td></tr>\n",
       "\t<tr><td>-0.59181289    </td><td>SPHKAP_HUMAN   </td></tr>\n",
       "\t<tr><td>-0.58328797    </td><td>SORCS1_HUMAN   </td></tr>\n",
       "\t<tr><td>-0.55093675    </td><td>PPP1R3A_HUMAN  </td></tr>\n",
       "\t<tr><td>-0.21021912    </td><td>RBMS3_HUMAN    </td></tr>\n",
       "\t<tr><td>-0.09507894    </td><td>PRRX1_HUMAN    </td></tr>\n",
       "\t<tr><td> 0.29870032    </td><td>KCNIP4_HUMAN   </td></tr>\n",
       "\t<tr><td> 0.32208344    </td><td>HSPB7_HUMAN    </td></tr>\n",
       "\t<tr><td> 0.35173117    </td><td>CASC9_HUMAN    </td></tr>\n",
       "\t<tr><td> 0.40898890    </td><td>QRFPR_HUMAN    </td></tr>\n",
       "\t<tr><td> 0.50192136    </td><td>SGIP1_HUMAN    </td></tr>\n",
       "\t<tr><td> 0.65431610    </td><td>NRP2_HUMAN     </td></tr>\n",
       "\t<tr><td> 0.82095842    </td><td>DLEU1_HUMAN    </td></tr>\n",
       "\t<tr><td> 0.84085499    </td><td>COL4A2_HUMAN   </td></tr>\n",
       "\t<tr><td> 0.86905906    </td><td>NR2F2-AS1_HUMAN</td></tr>\n",
       "\t<tr><td> 0.87023453    </td><td>TENM4_HUMAN    </td></tr>\n",
       "\t<tr><td> 0.89398876    </td><td>COL2A1_HUMAN   </td></tr>\n",
       "\t<tr><td> 1.14862241    </td><td>SYT1_HUMAN     </td></tr>\n",
       "\t<tr><td> 1.17629341    </td><td>LAMA1_HUMAN    </td></tr>\n",
       "\t<tr><td> 1.18254111    </td><td>PTCHD4_HUMAN   </td></tr>\n",
       "\t<tr><td> 1.21042791    </td><td>GPC6_HUMAN     </td></tr>\n",
       "\t<tr><td> 1.25266977    </td><td>NEAT1_HUMAN    </td></tr>\n",
       "\t<tr><td> 1.27893793    </td><td>TENM3_HUMAN    </td></tr>\n",
       "</tbody>\n",
       "</table>\n"
      ],
      "text/latex": [
       "\\begin{tabular}{r|ll}\n",
       " log2fc & gene\\\\\n",
       "\\hline\n",
       "\t -2.31623337       & CNTN5\\_HUMAN    \\\\\n",
       "\t -0.99836845       & ROBO2\\_HUMAN    \\\\\n",
       "\t -0.76626134       & SOX6\\_HUMAN     \\\\\n",
       "\t -0.75889264       & KIF26B\\_HUMAN   \\\\\n",
       "\t -0.60881212       & DACT1\\_HUMAN    \\\\\n",
       "\t -0.59181289       & SPHKAP\\_HUMAN   \\\\\n",
       "\t -0.58328797       & SORCS1\\_HUMAN   \\\\\n",
       "\t -0.55093675       & PPP1R3A\\_HUMAN  \\\\\n",
       "\t -0.21021912       & RBMS3\\_HUMAN    \\\\\n",
       "\t -0.09507894       & PRRX1\\_HUMAN    \\\\\n",
       "\t  0.29870032       & KCNIP4\\_HUMAN   \\\\\n",
       "\t  0.32208344       & HSPB7\\_HUMAN    \\\\\n",
       "\t  0.35173117       & CASC9\\_HUMAN    \\\\\n",
       "\t  0.40898890       & QRFPR\\_HUMAN    \\\\\n",
       "\t  0.50192136       & SGIP1\\_HUMAN    \\\\\n",
       "\t  0.65431610       & NRP2\\_HUMAN     \\\\\n",
       "\t  0.82095842       & DLEU1\\_HUMAN    \\\\\n",
       "\t  0.84085499       & COL4A2\\_HUMAN   \\\\\n",
       "\t  0.86905906       & NR2F2-AS1\\_HUMAN\\\\\n",
       "\t  0.87023453       & TENM4\\_HUMAN    \\\\\n",
       "\t  0.89398876       & COL2A1\\_HUMAN   \\\\\n",
       "\t  1.14862241       & SYT1\\_HUMAN     \\\\\n",
       "\t  1.17629341       & LAMA1\\_HUMAN    \\\\\n",
       "\t  1.18254111       & PTCHD4\\_HUMAN   \\\\\n",
       "\t  1.21042791       & GPC6\\_HUMAN     \\\\\n",
       "\t  1.25266977       & NEAT1\\_HUMAN    \\\\\n",
       "\t  1.27893793       & TENM3\\_HUMAN    \\\\\n",
       "\\end{tabular}\n"
      ],
      "text/markdown": [
       "\n",
       "log2fc | gene | \n",
       "|---|---|---|---|---|---|---|---|---|---|---|---|---|---|---|---|---|---|---|---|---|---|---|---|---|---|---|\n",
       "| -2.31623337     | CNTN5_HUMAN     | \n",
       "| -0.99836845     | ROBO2_HUMAN     | \n",
       "| -0.76626134     | SOX6_HUMAN      | \n",
       "| -0.75889264     | KIF26B_HUMAN    | \n",
       "| -0.60881212     | DACT1_HUMAN     | \n",
       "| -0.59181289     | SPHKAP_HUMAN    | \n",
       "| -0.58328797     | SORCS1_HUMAN    | \n",
       "| -0.55093675     | PPP1R3A_HUMAN   | \n",
       "| -0.21021912     | RBMS3_HUMAN     | \n",
       "| -0.09507894     | PRRX1_HUMAN     | \n",
       "|  0.29870032     | KCNIP4_HUMAN    | \n",
       "|  0.32208344     | HSPB7_HUMAN     | \n",
       "|  0.35173117     | CASC9_HUMAN     | \n",
       "|  0.40898890     | QRFPR_HUMAN     | \n",
       "|  0.50192136     | SGIP1_HUMAN     | \n",
       "|  0.65431610     | NRP2_HUMAN      | \n",
       "|  0.82095842     | DLEU1_HUMAN     | \n",
       "|  0.84085499     | COL4A2_HUMAN    | \n",
       "|  0.86905906     | NR2F2-AS1_HUMAN | \n",
       "|  0.87023453     | TENM4_HUMAN     | \n",
       "|  0.89398876     | COL2A1_HUMAN    | \n",
       "|  1.14862241     | SYT1_HUMAN      | \n",
       "|  1.17629341     | LAMA1_HUMAN     | \n",
       "|  1.18254111     | PTCHD4_HUMAN    | \n",
       "|  1.21042791     | GPC6_HUMAN      | \n",
       "|  1.25266977     | NEAT1_HUMAN     | \n",
       "|  1.27893793     | TENM3_HUMAN     | \n",
       "\n",
       "\n"
      ],
      "text/plain": [
       "   log2fc      gene           \n",
       "1  -2.31623337 CNTN5_HUMAN    \n",
       "2  -0.99836845 ROBO2_HUMAN    \n",
       "3  -0.76626134 SOX6_HUMAN     \n",
       "4  -0.75889264 KIF26B_HUMAN   \n",
       "5  -0.60881212 DACT1_HUMAN    \n",
       "6  -0.59181289 SPHKAP_HUMAN   \n",
       "7  -0.58328797 SORCS1_HUMAN   \n",
       "8  -0.55093675 PPP1R3A_HUMAN  \n",
       "9  -0.21021912 RBMS3_HUMAN    \n",
       "10 -0.09507894 PRRX1_HUMAN    \n",
       "11  0.29870032 KCNIP4_HUMAN   \n",
       "12  0.32208344 HSPB7_HUMAN    \n",
       "13  0.35173117 CASC9_HUMAN    \n",
       "14  0.40898890 QRFPR_HUMAN    \n",
       "15  0.50192136 SGIP1_HUMAN    \n",
       "16  0.65431610 NRP2_HUMAN     \n",
       "17  0.82095842 DLEU1_HUMAN    \n",
       "18  0.84085499 COL4A2_HUMAN   \n",
       "19  0.86905906 NR2F2-AS1_HUMAN\n",
       "20  0.87023453 TENM4_HUMAN    \n",
       "21  0.89398876 COL2A1_HUMAN   \n",
       "22  1.14862241 SYT1_HUMAN     \n",
       "23  1.17629341 LAMA1_HUMAN    \n",
       "24  1.18254111 PTCHD4_HUMAN   \n",
       "25  1.21042791 GPC6_HUMAN     \n",
       "26  1.25266977 NEAT1_HUMAN    \n",
       "27  1.27893793 TENM3_HUMAN    "
      ]
     },
     "metadata": {},
     "output_type": "display_data"
    }
   ],
   "source": [
    "lfc_df"
   ]
  },
  {
   "cell_type": "markdown",
   "metadata": {},
   "source": [
    "### Fit using 27 genes"
   ]
  },
  {
   "cell_type": "code",
   "execution_count": 23,
   "metadata": {
    "collapsed": true
   },
   "outputs": [],
   "source": [
    "diff_day <- as.factor(diff_day)"
   ]
  },
  {
   "cell_type": "code",
   "execution_count": 25,
   "metadata": {
    "collapsed": true
   },
   "outputs": [],
   "source": [
    "library(boot)"
   ]
  },
  {
   "cell_type": "code",
   "execution_count": 26,
   "metadata": {
    "collapsed": true
   },
   "outputs": [],
   "source": [
    "subset_cardio <- cardioAICS[,genes.use]\n",
    "subset_cardio <- as.data.frame(as.matrix(subset_cardio))"
   ]
  },
  {
   "cell_type": "code",
   "execution_count": 28,
   "metadata": {},
   "outputs": [
    {
     "data": {
      "text/html": [
       "<ol class=list-inline>\n",
       "\t<li>4773</li>\n",
       "\t<li>27</li>\n",
       "</ol>\n"
      ],
      "text/latex": [
       "\\begin{enumerate*}\n",
       "\\item 4773\n",
       "\\item 27\n",
       "\\end{enumerate*}\n"
      ],
      "text/markdown": [
       "1. 4773\n",
       "2. 27\n",
       "\n",
       "\n"
      ],
      "text/plain": [
       "[1] 4773   27"
      ]
     },
     "metadata": {},
     "output_type": "display_data"
    }
   ],
   "source": [
    "dim(subset_cardio)"
   ]
  },
  {
   "cell_type": "code",
   "execution_count": 29,
   "metadata": {
    "collapsed": true
   },
   "outputs": [],
   "source": [
    "fit <- glm(diff_day ~ .,\n",
    "    data = subset_cardio, family = binomial(\"logit\")\n",
    "   )"
   ]
  },
  {
   "cell_type": "code",
   "execution_count": 30,
   "metadata": {},
   "outputs": [
    {
     "data": {
      "text/plain": [
       "\n",
       "Call:  glm(formula = diff_day ~ ., family = binomial(\"logit\"), data = subset_cardio)\n",
       "\n",
       "Coefficients:\n",
       "      (Intercept)       COL2A1_HUMAN       KCNIP4_HUMAN       SORCS1_HUMAN  \n",
       "           0.2847            -0.3881            -0.3323             0.3108  \n",
       "      ROBO2_HUMAN       PTCHD4_HUMAN         GPC6_HUMAN       KIF26B_HUMAN  \n",
       "           0.3683            -0.4988            -0.3070             0.5061  \n",
       "      CNTN5_HUMAN       COL4A2_HUMAN         SYT1_HUMAN        TENM3_HUMAN  \n",
       "           0.5638            -0.3143            -0.5946            -0.4330  \n",
       "      TENM4_HUMAN        RBMS3_HUMAN       SPHKAP_HUMAN        NEAT1_HUMAN  \n",
       "          -0.3244             0.3641             0.2732            -0.2388  \n",
       "      DLEU1_HUMAN         NRP2_HUMAN        CASC9_HUMAN  `NR2F2-AS1_HUMAN`  \n",
       "          -0.4787            -0.3250            -0.6158            -1.3699  \n",
       "      LAMA1_HUMAN        SGIP1_HUMAN        QRFPR_HUMAN        DACT1_HUMAN  \n",
       "          -0.3205            -0.6215            -0.7502             0.9874  \n",
       "      HSPB7_HUMAN         SOX6_HUMAN      PPP1R3A_HUMAN        PRRX1_HUMAN  \n",
       "          -0.4783             0.6537             0.4187             1.3122  \n",
       "\n",
       "Degrees of Freedom: 4772 Total (i.e. Null);  4745 Residual\n",
       "Null Deviance:\t    6592 \n",
       "Residual Deviance: 2455 \tAIC: 2511"
      ]
     },
     "metadata": {},
     "output_type": "display_data"
    }
   ],
   "source": [
    "fit"
   ]
  },
  {
   "cell_type": "code",
   "execution_count": 31,
   "metadata": {
    "collapsed": true
   },
   "outputs": [],
   "source": [
    "subset_cardio$diff_day <- diff_day"
   ]
  },
  {
   "cell_type": "code",
   "execution_count": 32,
   "metadata": {
    "collapsed": true
   },
   "outputs": [],
   "source": [
    "cost <- function(r, pi = 0) mean(abs(r-pi) > 0.5)\n",
    "cv.test <- cv.glm(subset_cardio, cost = cost, fit, K = 5)"
   ]
  },
  {
   "cell_type": "code",
   "execution_count": 33,
   "metadata": {},
   "outputs": [
    {
     "data": {
      "text/html": [
       "<ol class=list-inline>\n",
       "\t<li>0.101613241148125</li>\n",
       "\t<li>0.101906505046259</li>\n",
       "</ol>\n"
      ],
      "text/latex": [
       "\\begin{enumerate*}\n",
       "\\item 0.101613241148125\n",
       "\\item 0.101906505046259\n",
       "\\end{enumerate*}\n"
      ],
      "text/markdown": [
       "1. 0.101613241148125\n",
       "2. 0.101906505046259\n",
       "\n",
       "\n"
      ],
      "text/plain": [
       "[1] 0.1016132 0.1019065"
      ]
     },
     "metadata": {},
     "output_type": "display_data"
    }
   ],
   "source": [
    "cv.test$delta"
   ]
  },
  {
   "cell_type": "code",
   "execution_count": 35,
   "metadata": {
    "collapsed": true,
    "scrolled": false
   },
   "outputs": [],
   "source": [
    "load(\"/allen/aics/gene-editing/RNA_seq/scRNAseq_SeeligCollaboration/12012017_cardio/seurat/all_cells/regressions/reg1/holdout_cm_filtered_cells_entrez_only_normalized_counts.RData\")\n",
    "holdout_cell_metadata <- read.csv(\"/allen/aics/gene-editing/RNA_seq/scRNAseq_SeeligCollaboration/12012017_cardio/seurat/all_cells/regressions/reg1/holdout_cm_filtered_cells_entrez_only_metadata.csv\")"
   ]
  },
  {
   "cell_type": "code",
   "execution_count": 36,
   "metadata": {
    "collapsed": true
   },
   "outputs": [],
   "source": [
    "holdout_cardioAICS <- t(holdout_cardioAICS)\n",
    "holdout_late_cells <- holdout_cell_metadata$day %in% c(\"D24\", \"D26\")\n",
    "holdout_cardioAICS <- holdout_cardioAICS[holdout_late_cells,]\n",
    "\n",
    "diff_day <- holdout_cell_metadata$day[holdout_late_cells]\n",
    "\n",
    "names(diff_day) <- holdout_cell_metadata$X[holdout_late_cells]\n",
    "\n",
    "holdout_cell_metadata <- holdout_cell_metadata[holdout_late_cells,]"
   ]
  },
  {
   "cell_type": "code",
   "execution_count": 38,
   "metadata": {
    "collapsed": true
   },
   "outputs": [],
   "source": [
    "holdout_mat <- holdout_cardioAICS[,genes.use]\n",
    "holdout_mat <- as.data.frame(as.matrix(holdout_mat))"
   ]
  },
  {
   "cell_type": "code",
   "execution_count": 40,
   "metadata": {},
   "outputs": [
    {
     "data": {
      "text/html": [
       "<ol class=list-inline>\n",
       "\t<li>539</li>\n",
       "\t<li>27</li>\n",
       "</ol>\n"
      ],
      "text/latex": [
       "\\begin{enumerate*}\n",
       "\\item 539\n",
       "\\item 27\n",
       "\\end{enumerate*}\n"
      ],
      "text/markdown": [
       "1. 539\n",
       "2. 27\n",
       "\n",
       "\n"
      ],
      "text/plain": [
       "[1] 539  27"
      ]
     },
     "metadata": {},
     "output_type": "display_data"
    }
   ],
   "source": [
    "dim(holdout_mat)"
   ]
  },
  {
   "cell_type": "code",
   "execution_count": 41,
   "metadata": {
    "collapsed": true
   },
   "outputs": [],
   "source": [
    "holdout_predict <- predict(fit, newdata = holdout_mat, type = c(\"response\"))"
   ]
  },
  {
   "cell_type": "code",
   "execution_count": 52,
   "metadata": {
    "collapsed": true
   },
   "outputs": [],
   "source": [
    "get_predicted_time <- function(predict_prob) {\n",
    "    if (predict_prob < 0.5) {\n",
    "        return(\"D24\")\n",
    "    } else {\n",
    "        return(\"D26\")\n",
    "    }\n",
    "}"
   ]
  },
  {
   "cell_type": "code",
   "execution_count": 53,
   "metadata": {
    "collapsed": true
   },
   "outputs": [],
   "source": [
    "predicted_day <- sapply(holdout_predict, get_predicted_time, simplify = TRUE)"
   ]
  },
  {
   "cell_type": "code",
   "execution_count": 55,
   "metadata": {},
   "outputs": [
    {
     "data": {
      "text/plain": [
       "         actual\n",
       "predicted D24 D26\n",
       "      D24 219  31\n",
       "      D26  32 257"
      ]
     },
     "metadata": {},
     "output_type": "display_data"
    }
   ],
   "source": [
    "predict_actual_df <- data.frame(\"predicted\" = predicted_day, \"actual\" = diff_day)\n",
    "xtabs(~ predicted + actual, data = predict_actual_df)"
   ]
  },
  {
   "cell_type": "code",
   "execution_count": null,
   "metadata": {
    "collapsed": true
   },
   "outputs": [],
   "source": []
  }
 ],
 "metadata": {
  "kernelspec": {
   "display_name": "R",
   "language": "R",
   "name": "ir"
  },
  "language_info": {
   "codemirror_mode": "r",
   "file_extension": ".r",
   "mimetype": "text/x-r-source",
   "name": "R",
   "pygments_lexer": "r",
   "version": "3.4.1"
  }
 },
 "nbformat": 4,
 "nbformat_minor": 2
}
