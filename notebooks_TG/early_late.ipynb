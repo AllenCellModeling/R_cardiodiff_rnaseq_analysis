{
 "cells": [
  {
   "cell_type": "code",
   "execution_count": 1,
   "metadata": {
    "scrolled": false
   },
   "outputs": [
    {
     "name": "stderr",
     "output_type": "stream",
     "text": [
      "Loading required package: Matrix\n",
      "Loading required package: foreach\n",
      "Loaded glmnet 2.0-13\n",
      "\n"
     ]
    }
   ],
   "source": [
    "library(glmnet)\n",
    "library(ggplot2)"
   ]
  },
  {
   "cell_type": "code",
   "execution_count": 2,
   "metadata": {
    "collapsed": true
   },
   "outputs": [],
   "source": [
    "options(stringsAsFactors = FALSE)"
   ]
  },
  {
   "cell_type": "code",
   "execution_count": 18,
   "metadata": {
    "collapsed": true
   },
   "outputs": [],
   "source": [
    "base_dir <- \"/allen/aics/gene-editing/RNA_seq/scRNAseq_SeeligCollaboration/12012017_cardio/seurat/all_cells/regressions/reg1/feature_selection/\""
   ]
  },
  {
   "cell_type": "markdown",
   "metadata": {},
   "source": [
    "# Generate lambda sequence:\n",
    "- fit on orginal data set (b/f) bootstrapping to get lambda sequence (100 lambdas) \n",
    "- use this sequence of lambdas for bootstrapping"
   ]
  },
  {
   "cell_type": "code",
   "execution_count": 5,
   "metadata": {
    "collapsed": true
   },
   "outputs": [],
   "source": [
    "load(\"/allen/aics/gene-editing/RNA_seq/scRNAseq_SeeligCollaboration/12012017_cardio/seurat/all_cells/regressions/reg1/train_cm_filtered_cells_entrez_only_normalized_counts.RData\")"
   ]
  },
  {
   "cell_type": "code",
   "execution_count": 6,
   "metadata": {
    "collapsed": true
   },
   "outputs": [],
   "source": [
    "cell_metadata <- read.csv(\"/allen/aics/gene-editing/RNA_seq/scRNAseq_SeeligCollaboration/12012017_cardio/seurat/all_cells/regressions/reg1/train_cm_filtered_cells_entrez_only_metadata.csv\")"
   ]
  },
  {
   "cell_type": "code",
   "execution_count": 7,
   "metadata": {},
   "outputs": [
    {
     "data": {
      "text/html": [
       "<ol class=list-inline>\n",
       "\t<li>'base_dir'</li>\n",
       "\t<li>'cardioAICS'</li>\n",
       "\t<li>'cell_metadata'</li>\n",
       "</ol>\n"
      ],
      "text/latex": [
       "\\begin{enumerate*}\n",
       "\\item 'base\\_dir'\n",
       "\\item 'cardioAICS'\n",
       "\\item 'cell\\_metadata'\n",
       "\\end{enumerate*}\n"
      ],
      "text/markdown": [
       "1. 'base_dir'\n",
       "2. 'cardioAICS'\n",
       "3. 'cell_metadata'\n",
       "\n",
       "\n"
      ],
      "text/plain": [
       "[1] \"base_dir\"      \"cardioAICS\"    \"cell_metadata\""
      ]
     },
     "metadata": {},
     "output_type": "display_data"
    },
    {
     "data": {
      "text/html": [
       "<ol class=list-inline>\n",
       "\t<li>22187</li>\n",
       "\t<li>14573</li>\n",
       "</ol>\n"
      ],
      "text/latex": [
       "\\begin{enumerate*}\n",
       "\\item 22187\n",
       "\\item 14573\n",
       "\\end{enumerate*}\n"
      ],
      "text/markdown": [
       "1. 22187\n",
       "2. 14573\n",
       "\n",
       "\n"
      ],
      "text/plain": [
       "[1] 22187 14573"
      ]
     },
     "metadata": {},
     "output_type": "display_data"
    }
   ],
   "source": [
    "ls()\n",
    "dim(cardioAICS)"
   ]
  },
  {
   "cell_type": "code",
   "execution_count": 8,
   "metadata": {
    "collapsed": true
   },
   "outputs": [],
   "source": [
    "cardioAICS <- t(cardioAICS)"
   ]
  },
  {
   "cell_type": "code",
   "execution_count": 9,
   "metadata": {
    "collapsed": true
   },
   "outputs": [],
   "source": [
    "diff_day <- cell_metadata$day\n",
    "diff_day <- gsub('D12|D14', \"early\", diff_day)\n",
    "diff_day <- gsub('D24|D26', \"late\", diff_day)\n",
    "names(diff_day) <- cell_metadata$X\n",
    "\n",
    "diff_day <- as.factor(diff_day)\n",
    "\n",
    "# get lambda sequence to use in all bootstraps\n",
    "fit <- glmnet(cardioAICS, diff_day, family = \"binomial\", nlambda = 100, alpha = 0.5)\n",
    "lambda_seq1 <- fit$lambda"
   ]
  },
  {
   "cell_type": "markdown",
   "metadata": {},
   "source": [
    "### Lambda sequence for early late small molecule"
   ]
  },
  {
   "cell_type": "code",
   "execution_count": 10,
   "metadata": {
    "collapsed": true
   },
   "outputs": [],
   "source": [
    "small_mol <- cell_metadata$protocol == \"Lian\"\n",
    "exp_mat <- cardioAICS[small_mol,]\n",
    "\n",
    "diff_day <- cell_metadata$day[small_mol]\n",
    "\n",
    "diff_day <- gsub('D12|D14', \"early\", diff_day)\n",
    "diff_day <- gsub('D24|D26', \"late\", diff_day)\n",
    "names(diff_day) <- cell_metadata$X[small_mol]\n",
    "\n",
    "diff_day <- as.factor(diff_day)\n",
    "\n",
    "fit <- glmnet(exp_mat, diff_day, family = \"binomial\", nlambda = 100, alpha = 0.5)\n",
    "lambda_seq2 <- fit$lambda"
   ]
  },
  {
   "cell_type": "markdown",
   "metadata": {},
   "source": [
    "### Lambda sequence for early late cytokine"
   ]
  },
  {
   "cell_type": "code",
   "execution_count": 11,
   "metadata": {
    "collapsed": true
   },
   "outputs": [],
   "source": [
    "cytokine <- cell_metadata$protocol == \"Murry\"\n",
    "exp_mat <- cardioAICS[cytokine,]\n",
    "\n",
    "diff_day <- cell_metadata$day[cytokine]\n",
    "\n",
    "diff_day <- gsub('D12|D14', \"early\", diff_day)\n",
    "diff_day <- gsub('D24|D26', \"late\", diff_day)\n",
    "names(diff_day) <- cell_metadata$X[cytokine]\n",
    "\n",
    "diff_day <- as.factor(diff_day)\n",
    "\n",
    "fit <- glmnet(exp_mat, diff_day, family = \"binomial\", nlambda = 100, alpha = 0.5)\n",
    "lambda_seq3 <- fit$lambda"
   ]
  },
  {
   "cell_type": "markdown",
   "metadata": {},
   "source": [
    "### Lambda sequence for early (cytokine and small molecule)"
   ]
  },
  {
   "cell_type": "code",
   "execution_count": 12,
   "metadata": {
    "collapsed": true
   },
   "outputs": [],
   "source": [
    "early_cells <- cell_metadata$day %in% c(\"D12\", \"D14\")\n",
    "exp_mat <- cardioAICS[early_cells,]\n",
    "\n",
    "diff_day <- cell_metadata$day[early_cells]\n",
    "\n",
    "names(diff_day) <- cell_metadata$X[early_cells]\n",
    "\n",
    "diff_day <- as.factor(diff_day)\n",
    "\n",
    "fit <- glmnet(exp_mat, diff_day, family = \"binomial\", nlambda = 100, alpha = 0.5)\n",
    "lambda_seq4 <- fit$lambda"
   ]
  },
  {
   "cell_type": "markdown",
   "metadata": {},
   "source": [
    "### Lambda sequence for late (cytokine and small molecule)"
   ]
  },
  {
   "cell_type": "code",
   "execution_count": 13,
   "metadata": {
    "collapsed": true
   },
   "outputs": [],
   "source": [
    "late_cells <- cell_metadata$day %in% c(\"D24\", \"D26\")\n",
    "exp_mat <- cardioAICS[late_cells,]\n",
    "\n",
    "diff_day <- cell_metadata$day[late_cells]\n",
    "\n",
    "names(diff_day) <- cell_metadata$X[late_cells]\n",
    "\n",
    "diff_day <- as.factor(diff_day)\n",
    "\n",
    "fit <- glmnet(exp_mat, diff_day, family = \"binomial\", nlambda = 100, alpha = 0.5)\n",
    "lambda_seq5 <- fit$lambda"
   ]
  },
  {
   "cell_type": "markdown",
   "metadata": {},
   "source": [
    "### Lambda sequence\n",
    "- create one lambda sequence to use for all (evenly spaced on log scale from min to max of union of all lambda sequences)"
   ]
  },
  {
   "cell_type": "code",
   "execution_count": 14,
   "metadata": {
    "collapsed": true,
    "scrolled": true
   },
   "outputs": [],
   "source": [
    "all_lambda <- union(union(union(lambda_seq1, lambda_seq2), union(lambda_seq3, lambda_seq4)), lambda_seq5)"
   ]
  },
  {
   "cell_type": "code",
   "execution_count": 19,
   "metadata": {},
   "outputs": [
    {
     "data": {
      "text/html": [
       "<ol class=list-inline>\n",
       "\t<li>0.56301196083732</li>\n",
       "\t<li>0.535036615565917</li>\n",
       "\t<li>0.508451329471748</li>\n",
       "\t<li>0.483187032289639</li>\n",
       "\t<li>0.459178085767678</li>\n",
       "\t<li>0.436362113134862</li>\n",
       "\t<li>0.414679837042269</li>\n",
       "\t<li>0.394074925556741</li>\n",
       "\t<li>0.374493845806931</li>\n",
       "\t<li>0.355885724901501</li>\n",
       "\t<li>0.338202217758107</li>\n",
       "\t<li>0.321397381499804</li>\n",
       "\t<li>0.305427556092524</li>\n",
       "\t<li>0.290251250913534</li>\n",
       "\t<li>0.275829036956149</li>\n",
       "\t<li>0.262123444390671</li>\n",
       "\t<li>0.249098865215386</li>\n",
       "\t<li>0.236721460744704</li>\n",
       "\t<li>0.224959073694107</li>\n",
       "\t<li>0.213781144633474</li>\n",
       "\t<li>0.203158632591735</li>\n",
       "\t<li>0.193063939606586</li>\n",
       "\t<li>0.183470839023218</li>\n",
       "\t<li>0.174354407355807</li>\n",
       "\t<li>0.165690959534706</li>\n",
       "\t<li>0.157457987371131</li>\n",
       "\t<li>0.14963410107945</li>\n",
       "\t<li>0.142198973705161</li>\n",
       "\t<li>0.135133288314171</li>\n",
       "\t<li>0.12841868780617</li>\n",
       "\t<li>0.122037727221718</li>\n",
       "\t<li>0.115973828419128</li>\n",
       "\t<li>0.110211237003403</li>\n",
       "\t<li>0.104734981395311</li>\n",
       "\t<li>0.0995308339342688</li>\n",
       "\t<li>0.0945852739139793</li>\n",
       "\t<li>0.0898854524547717</li>\n",
       "\t<li>0.085419159121396</li>\n",
       "\t<li>0.0811747901995349</li>\n",
       "\t<li>0.0771413185486158</li>\n",
       "\t<li>0.0733082649525975</li>\n",
       "\t<li>0.0696656708943001</li>\n",
       "\t<li>0.0662040726825436</li>\n",
       "\t<li>0.0629144768648761</li>\n",
       "\t<li>0.0597883368620118</li>\n",
       "\t<li>0.0568175307632742</li>\n",
       "\t<li>0.0539943402253552</li>\n",
       "\t<li>0.051311430419568</li>\n",
       "\t<li>0.0487618309754955</li>\n",
       "\t<li>0.0463389178715243</li>\n",
       "\t<li>0.0440363962252148</li>\n",
       "\t<li>0.0418482839387963</li>\n",
       "\t<li>0.0397688961572962</li>\n",
       "\t<li>0.0377928304989249</li>\n",
       "\t<li>0.0359149530193441</li>\n",
       "\t<li>0.0341303848733528</li>\n",
       "\t<li>0.032434489639337</li>\n",
       "\t<li>0.030822861273551</li>\n",
       "\t<li>0.0292913126629358</li>\n",
       "\t<li>0.0278358647467324</li>\n",
       "\t<li>0.0264527361786292</li>\n",
       "\t<li>0.0251383335025832</li>\n",
       "\t<li>0.0238892418167928</li>\n",
       "\t<li>0.0227022159015655</li>\n",
       "\t<li>0.0215741717880307</li>\n",
       "\t<li>0.0205021787457921</li>\n",
       "\t<li>0.0194834516687038</li>\n",
       "\t<li>0.0185153438389872</li>\n",
       "\t<li>0.01759534005089</li>\n",
       "\t<li>0.016721050076021</li>\n",
       "\t<li>0.0158902024533854</li>\n",
       "\t<li>0.0151006385879839</li>\n",
       "\t<li>0.0143503071426462</li>\n",
       "\t<li>0.0136372587085256</li>\n",
       "\t<li>0.0129596407404116</li>\n",
       "\t<li>0.0123156927436991</li>\n",
       "\t<li>0.0117037417005115</li>\n",
       "\t<li>0.0111221977230937</li>\n",
       "\t<li>0.0105695499231827</li>\n",
       "\t<li>0.0100443624866234</li>\n",
       "\t<li>0.00954527094303252</li>\n",
       "\t<li>0.00907097862081739</li>\n",
       "\t<li>0.00862025327834068</li>\n",
       "\t<li>0.00819192390247827</li>\n",
       "\t<li>0.00778487766625255</li>\n",
       "\t<li>0.00739805703763721</li>\n",
       "\t<li>0.00703045703202163</li>\n",
       "\t<li>0.006681122601197</li>\n",
       "\t<li>0.0063491461520802</li>\n",
       "\t<li>0.00603366518872929</li>\n",
       "\t<li>0.00573386007152411</li>\n",
       "\t<li>0.00544895188769044</li>\n",
       "\t<li>0.00517820042763495</li>\n",
       "\t<li>0.00492090226183369</li>\n",
       "\t<li>0.00467638891327731</li>\n",
       "\t<li>0.00444402512072532</li>\n",
       "\t<li>0.00422320718825692</li>\n",
       "\t<li>0.00401336141683059</li>\n",
       "\t<li>0.00381394261377748</li>\n",
       "\t<li>0.00362443267635614</li>\n",
       "</ol>\n"
      ],
      "text/latex": [
       "\\begin{enumerate*}\n",
       "\\item 0.56301196083732\n",
       "\\item 0.535036615565917\n",
       "\\item 0.508451329471748\n",
       "\\item 0.483187032289639\n",
       "\\item 0.459178085767678\n",
       "\\item 0.436362113134862\n",
       "\\item 0.414679837042269\n",
       "\\item 0.394074925556741\n",
       "\\item 0.374493845806931\n",
       "\\item 0.355885724901501\n",
       "\\item 0.338202217758107\n",
       "\\item 0.321397381499804\n",
       "\\item 0.305427556092524\n",
       "\\item 0.290251250913534\n",
       "\\item 0.275829036956149\n",
       "\\item 0.262123444390671\n",
       "\\item 0.249098865215386\n",
       "\\item 0.236721460744704\n",
       "\\item 0.224959073694107\n",
       "\\item 0.213781144633474\n",
       "\\item 0.203158632591735\n",
       "\\item 0.193063939606586\n",
       "\\item 0.183470839023218\n",
       "\\item 0.174354407355807\n",
       "\\item 0.165690959534706\n",
       "\\item 0.157457987371131\n",
       "\\item 0.14963410107945\n",
       "\\item 0.142198973705161\n",
       "\\item 0.135133288314171\n",
       "\\item 0.12841868780617\n",
       "\\item 0.122037727221718\n",
       "\\item 0.115973828419128\n",
       "\\item 0.110211237003403\n",
       "\\item 0.104734981395311\n",
       "\\item 0.0995308339342688\n",
       "\\item 0.0945852739139793\n",
       "\\item 0.0898854524547717\n",
       "\\item 0.085419159121396\n",
       "\\item 0.0811747901995349\n",
       "\\item 0.0771413185486158\n",
       "\\item 0.0733082649525975\n",
       "\\item 0.0696656708943001\n",
       "\\item 0.0662040726825436\n",
       "\\item 0.0629144768648761\n",
       "\\item 0.0597883368620118\n",
       "\\item 0.0568175307632742\n",
       "\\item 0.0539943402253552\n",
       "\\item 0.051311430419568\n",
       "\\item 0.0487618309754955\n",
       "\\item 0.0463389178715243\n",
       "\\item 0.0440363962252148\n",
       "\\item 0.0418482839387963\n",
       "\\item 0.0397688961572962\n",
       "\\item 0.0377928304989249\n",
       "\\item 0.0359149530193441\n",
       "\\item 0.0341303848733528\n",
       "\\item 0.032434489639337\n",
       "\\item 0.030822861273551\n",
       "\\item 0.0292913126629358\n",
       "\\item 0.0278358647467324\n",
       "\\item 0.0264527361786292\n",
       "\\item 0.0251383335025832\n",
       "\\item 0.0238892418167928\n",
       "\\item 0.0227022159015655\n",
       "\\item 0.0215741717880307\n",
       "\\item 0.0205021787457921\n",
       "\\item 0.0194834516687038\n",
       "\\item 0.0185153438389872\n",
       "\\item 0.01759534005089\n",
       "\\item 0.016721050076021\n",
       "\\item 0.0158902024533854\n",
       "\\item 0.0151006385879839\n",
       "\\item 0.0143503071426462\n",
       "\\item 0.0136372587085256\n",
       "\\item 0.0129596407404116\n",
       "\\item 0.0123156927436991\n",
       "\\item 0.0117037417005115\n",
       "\\item 0.0111221977230937\n",
       "\\item 0.0105695499231827\n",
       "\\item 0.0100443624866234\n",
       "\\item 0.00954527094303252\n",
       "\\item 0.00907097862081739\n",
       "\\item 0.00862025327834068\n",
       "\\item 0.00819192390247827\n",
       "\\item 0.00778487766625255\n",
       "\\item 0.00739805703763721\n",
       "\\item 0.00703045703202163\n",
       "\\item 0.006681122601197\n",
       "\\item 0.0063491461520802\n",
       "\\item 0.00603366518872929\n",
       "\\item 0.00573386007152411\n",
       "\\item 0.00544895188769044\n",
       "\\item 0.00517820042763495\n",
       "\\item 0.00492090226183369\n",
       "\\item 0.00467638891327731\n",
       "\\item 0.00444402512072532\n",
       "\\item 0.00422320718825692\n",
       "\\item 0.00401336141683059\n",
       "\\item 0.00381394261377748\n",
       "\\item 0.00362443267635614\n",
       "\\end{enumerate*}\n"
      ],
      "text/markdown": [
       "1. 0.56301196083732\n",
       "2. 0.535036615565917\n",
       "3. 0.508451329471748\n",
       "4. 0.483187032289639\n",
       "5. 0.459178085767678\n",
       "6. 0.436362113134862\n",
       "7. 0.414679837042269\n",
       "8. 0.394074925556741\n",
       "9. 0.374493845806931\n",
       "10. 0.355885724901501\n",
       "11. 0.338202217758107\n",
       "12. 0.321397381499804\n",
       "13. 0.305427556092524\n",
       "14. 0.290251250913534\n",
       "15. 0.275829036956149\n",
       "16. 0.262123444390671\n",
       "17. 0.249098865215386\n",
       "18. 0.236721460744704\n",
       "19. 0.224959073694107\n",
       "20. 0.213781144633474\n",
       "21. 0.203158632591735\n",
       "22. 0.193063939606586\n",
       "23. 0.183470839023218\n",
       "24. 0.174354407355807\n",
       "25. 0.165690959534706\n",
       "26. 0.157457987371131\n",
       "27. 0.14963410107945\n",
       "28. 0.142198973705161\n",
       "29. 0.135133288314171\n",
       "30. 0.12841868780617\n",
       "31. 0.122037727221718\n",
       "32. 0.115973828419128\n",
       "33. 0.110211237003403\n",
       "34. 0.104734981395311\n",
       "35. 0.0995308339342688\n",
       "36. 0.0945852739139793\n",
       "37. 0.0898854524547717\n",
       "38. 0.085419159121396\n",
       "39. 0.0811747901995349\n",
       "40. 0.0771413185486158\n",
       "41. 0.0733082649525975\n",
       "42. 0.0696656708943001\n",
       "43. 0.0662040726825436\n",
       "44. 0.0629144768648761\n",
       "45. 0.0597883368620118\n",
       "46. 0.0568175307632742\n",
       "47. 0.0539943402253552\n",
       "48. 0.051311430419568\n",
       "49. 0.0487618309754955\n",
       "50. 0.0463389178715243\n",
       "51. 0.0440363962252148\n",
       "52. 0.0418482839387963\n",
       "53. 0.0397688961572962\n",
       "54. 0.0377928304989249\n",
       "55. 0.0359149530193441\n",
       "56. 0.0341303848733528\n",
       "57. 0.032434489639337\n",
       "58. 0.030822861273551\n",
       "59. 0.0292913126629358\n",
       "60. 0.0278358647467324\n",
       "61. 0.0264527361786292\n",
       "62. 0.0251383335025832\n",
       "63. 0.0238892418167928\n",
       "64. 0.0227022159015655\n",
       "65. 0.0215741717880307\n",
       "66. 0.0205021787457921\n",
       "67. 0.0194834516687038\n",
       "68. 0.0185153438389872\n",
       "69. 0.01759534005089\n",
       "70. 0.016721050076021\n",
       "71. 0.0158902024533854\n",
       "72. 0.0151006385879839\n",
       "73. 0.0143503071426462\n",
       "74. 0.0136372587085256\n",
       "75. 0.0129596407404116\n",
       "76. 0.0123156927436991\n",
       "77. 0.0117037417005115\n",
       "78. 0.0111221977230937\n",
       "79. 0.0105695499231827\n",
       "80. 0.0100443624866234\n",
       "81. 0.00954527094303252\n",
       "82. 0.00907097862081739\n",
       "83. 0.00862025327834068\n",
       "84. 0.00819192390247827\n",
       "85. 0.00778487766625255\n",
       "86. 0.00739805703763721\n",
       "87. 0.00703045703202163\n",
       "88. 0.006681122601197\n",
       "89. 0.0063491461520802\n",
       "90. 0.00603366518872929\n",
       "91. 0.00573386007152411\n",
       "92. 0.00544895188769044\n",
       "93. 0.00517820042763495\n",
       "94. 0.00492090226183369\n",
       "95. 0.00467638891327731\n",
       "96. 0.00444402512072532\n",
       "97. 0.00422320718825692\n",
       "98. 0.00401336141683059\n",
       "99. 0.00381394261377748\n",
       "100. 0.00362443267635614\n",
       "\n",
       "\n"
      ],
      "text/plain": [
       "  [1] 0.563011961 0.535036616 0.508451329 0.483187032 0.459178086 0.436362113\n",
       "  [7] 0.414679837 0.394074926 0.374493846 0.355885725 0.338202218 0.321397381\n",
       " [13] 0.305427556 0.290251251 0.275829037 0.262123444 0.249098865 0.236721461\n",
       " [19] 0.224959074 0.213781145 0.203158633 0.193063940 0.183470839 0.174354407\n",
       " [25] 0.165690960 0.157457987 0.149634101 0.142198974 0.135133288 0.128418688\n",
       " [31] 0.122037727 0.115973828 0.110211237 0.104734981 0.099530834 0.094585274\n",
       " [37] 0.089885452 0.085419159 0.081174790 0.077141319 0.073308265 0.069665671\n",
       " [43] 0.066204073 0.062914477 0.059788337 0.056817531 0.053994340 0.051311430\n",
       " [49] 0.048761831 0.046338918 0.044036396 0.041848284 0.039768896 0.037792830\n",
       " [55] 0.035914953 0.034130385 0.032434490 0.030822861 0.029291313 0.027835865\n",
       " [61] 0.026452736 0.025138334 0.023889242 0.022702216 0.021574172 0.020502179\n",
       " [67] 0.019483452 0.018515344 0.017595340 0.016721050 0.015890202 0.015100639\n",
       " [73] 0.014350307 0.013637259 0.012959641 0.012315693 0.011703742 0.011122198\n",
       " [79] 0.010569550 0.010044362 0.009545271 0.009070979 0.008620253 0.008191924\n",
       " [85] 0.007784878 0.007398057 0.007030457 0.006681123 0.006349146 0.006033665\n",
       " [91] 0.005733860 0.005448952 0.005178200 0.004920902 0.004676389 0.004444025\n",
       " [97] 0.004223207 0.004013361 0.003813943 0.003624433"
      ]
     },
     "metadata": {},
     "output_type": "display_data"
    }
   ],
   "source": [
    "lambda_seq <- exp(seq(log(max(all_lambda)), log(min(all_lambda)), length.out = 100))\n",
    "lambda_seq\n",
    "save(lambda_seq, file = paste0(base_dir, \"all_lambda_seq_log.RData\"))"
   ]
  },
  {
   "cell_type": "markdown",
   "metadata": {},
   "source": [
    "# Make list of early vs. late genes"
   ]
  },
  {
   "cell_type": "code",
   "execution_count": 2,
   "metadata": {
    "collapsed": true
   },
   "outputs": [],
   "source": [
    "options(stringsAsFactors = FALSE)"
   ]
  },
  {
   "cell_type": "code",
   "execution_count": 3,
   "metadata": {
    "collapsed": true,
    "scrolled": true
   },
   "outputs": [],
   "source": [
    "base_dir <- \"/allen/aics/gene-editing/RNA_seq/scRNAseq_SeeligCollaboration/12012017_cardio/seurat/all_cells/regressions/reg1/feature_selection/\""
   ]
  },
  {
   "cell_type": "code",
   "execution_count": 4,
   "metadata": {
    "collapsed": true
   },
   "outputs": [],
   "source": [
    "load(paste0(base_dir, \"early_late.RData\"))"
   ]
  },
  {
   "cell_type": "code",
   "execution_count": 5,
   "metadata": {},
   "outputs": [
    {
     "data": {
      "text/html": [
       "1000"
      ],
      "text/latex": [
       "1000"
      ],
      "text/markdown": [
       "1000"
      ],
      "text/plain": [
       "[1] 1000"
      ]
     },
     "metadata": {},
     "output_type": "display_data"
    }
   ],
   "source": [
    "length(bootstraps)"
   ]
  },
  {
   "cell_type": "code",
   "execution_count": 7,
   "metadata": {
    "collapsed": true,
    "scrolled": true
   },
   "outputs": [],
   "source": [
    "lambda_sequence <- bootstraps[[1]][[\"lambda\"]]\n",
    "genes <- rownames(coef(bootstraps[[1]], s = lambda_sequence[1]))"
   ]
  },
  {
   "cell_type": "code",
   "execution_count": 8,
   "metadata": {},
   "outputs": [
    {
     "data": {
      "text/html": [
       "<ol class=list-inline>\n",
       "\t<li>'(Intercept)'</li>\n",
       "\t<li>'TTN_HUMAN'</li>\n",
       "\t<li>'AATF_HUMAN'</li>\n",
       "\t<li>'NEXN_HUMAN'</li>\n",
       "\t<li>'SOD2_HUMAN'</li>\n",
       "\t<li>'MALAT1_HUMAN'</li>\n",
       "</ol>\n"
      ],
      "text/latex": [
       "\\begin{enumerate*}\n",
       "\\item '(Intercept)'\n",
       "\\item 'TTN\\_HUMAN'\n",
       "\\item 'AATF\\_HUMAN'\n",
       "\\item 'NEXN\\_HUMAN'\n",
       "\\item 'SOD2\\_HUMAN'\n",
       "\\item 'MALAT1\\_HUMAN'\n",
       "\\end{enumerate*}\n"
      ],
      "text/markdown": [
       "1. '(Intercept)'\n",
       "2. 'TTN_HUMAN'\n",
       "3. 'AATF_HUMAN'\n",
       "4. 'NEXN_HUMAN'\n",
       "5. 'SOD2_HUMAN'\n",
       "6. 'MALAT1_HUMAN'\n",
       "\n",
       "\n"
      ],
      "text/plain": [
       "[1] \"(Intercept)\"  \"TTN_HUMAN\"    \"AATF_HUMAN\"   \"NEXN_HUMAN\"   \"SOD2_HUMAN\"  \n",
       "[6] \"MALAT1_HUMAN\""
      ]
     },
     "metadata": {},
     "output_type": "display_data"
    }
   ],
   "source": [
    "head(genes)"
   ]
  },
  {
   "cell_type": "code",
   "execution_count": 9,
   "metadata": {},
   "outputs": [
    {
     "data": {
      "text/html": [
       "<ol class=list-inline>\n",
       "\t<li>0.56301196083732</li>\n",
       "\t<li>0.535036615565917</li>\n",
       "\t<li>0.508451329471748</li>\n",
       "\t<li>0.483187032289639</li>\n",
       "\t<li>0.459178085767678</li>\n",
       "\t<li>0.436362113134862</li>\n",
       "</ol>\n"
      ],
      "text/latex": [
       "\\begin{enumerate*}\n",
       "\\item 0.56301196083732\n",
       "\\item 0.535036615565917\n",
       "\\item 0.508451329471748\n",
       "\\item 0.483187032289639\n",
       "\\item 0.459178085767678\n",
       "\\item 0.436362113134862\n",
       "\\end{enumerate*}\n"
      ],
      "text/markdown": [
       "1. 0.56301196083732\n",
       "2. 0.535036615565917\n",
       "3. 0.508451329471748\n",
       "4. 0.483187032289639\n",
       "5. 0.459178085767678\n",
       "6. 0.436362113134862\n",
       "\n",
       "\n"
      ],
      "text/plain": [
       "[1] 0.5630120 0.5350366 0.5084513 0.4831870 0.4591781 0.4363621"
      ]
     },
     "metadata": {},
     "output_type": "display_data"
    }
   ],
   "source": [
    "head(lambda_sequence)"
   ]
  },
  {
   "cell_type": "code",
   "execution_count": 10,
   "metadata": {
    "collapsed": true
   },
   "outputs": [],
   "source": [
    "genes <- genes[2:length(genes)]"
   ]
  },
  {
   "cell_type": "code",
   "execution_count": 11,
   "metadata": {},
   "outputs": [
    {
     "data": {
      "text/html": [
       "<ol class=list-inline>\n",
       "\t<li>'TTN_HUMAN'</li>\n",
       "\t<li>'AATF_HUMAN'</li>\n",
       "\t<li>'NEXN_HUMAN'</li>\n",
       "\t<li>'SOD2_HUMAN'</li>\n",
       "\t<li>'MALAT1_HUMAN'</li>\n",
       "\t<li>'PIGP_HUMAN'</li>\n",
       "</ol>\n"
      ],
      "text/latex": [
       "\\begin{enumerate*}\n",
       "\\item 'TTN\\_HUMAN'\n",
       "\\item 'AATF\\_HUMAN'\n",
       "\\item 'NEXN\\_HUMAN'\n",
       "\\item 'SOD2\\_HUMAN'\n",
       "\\item 'MALAT1\\_HUMAN'\n",
       "\\item 'PIGP\\_HUMAN'\n",
       "\\end{enumerate*}\n"
      ],
      "text/markdown": [
       "1. 'TTN_HUMAN'\n",
       "2. 'AATF_HUMAN'\n",
       "3. 'NEXN_HUMAN'\n",
       "4. 'SOD2_HUMAN'\n",
       "5. 'MALAT1_HUMAN'\n",
       "6. 'PIGP_HUMAN'\n",
       "\n",
       "\n"
      ],
      "text/plain": [
       "[1] \"TTN_HUMAN\"    \"AATF_HUMAN\"   \"NEXN_HUMAN\"   \"SOD2_HUMAN\"   \"MALAT1_HUMAN\"\n",
       "[6] \"PIGP_HUMAN\"  "
      ]
     },
     "metadata": {},
     "output_type": "display_data"
    },
    {
     "data": {
      "text/html": [
       "22187"
      ],
      "text/latex": [
       "22187"
      ],
      "text/markdown": [
       "22187"
      ],
      "text/plain": [
       "[1] 22187"
      ]
     },
     "metadata": {},
     "output_type": "display_data"
    }
   ],
   "source": [
    "head(genes)\n",
    "length(genes)\n",
    "num_genes <- length(genes)"
   ]
  },
  {
   "cell_type": "code",
   "execution_count": 12,
   "metadata": {
    "collapsed": true
   },
   "outputs": [],
   "source": [
    "nonzero_gene_count <- c()\n",
    "lambda <- min(lambda_sequence)\n",
    "\n",
    "genes_coeff <- coef(bootstraps[[1]], s = lambda)\n",
    "genes_coeff <- genes_coeff[2:length(genes_coeff),]\n",
    "gene_names <- names(genes_coeff)\n",
    "genes_nonzero <- gene_names[abs(genes_coeff) > 0]\n",
    "nonzero_gene_count <- c(nonzero_gene_count, length(genes_nonzero))\n",
    "\n",
    "genes_intersect <- genes_nonzero\n",
    "\n",
    "for (i in 2:length(bootstraps)) {\n",
    "    lambda_seq <- bootstraps[[i]][[\"lambda\"]]\n",
    "    if (lambda < tail(lambda_seq, n = 1)) {\n",
    "        print(i)\n",
    "    } \n",
    "    genes_coeff <- coef(bootstraps[[i]], s = lambda)\n",
    "    genes_coeff <- genes_coeff[2:length(genes_coeff),]\n",
    "    gene_names <- names(genes_coeff)\n",
    "    genes_nonzero <- gene_names[abs(genes_coeff) > 0]\n",
    "    nonzero_gene_count <- c(nonzero_gene_count, length(genes_nonzero))\n",
    "    genes_intersect <- intersect(genes_intersect, genes_nonzero)\n",
    "}"
   ]
  },
  {
   "cell_type": "markdown",
   "metadata": {},
   "source": [
    "### Non-zero genes in all rounds"
   ]
  },
  {
   "cell_type": "code",
   "execution_count": 13,
   "metadata": {},
   "outputs": [
    {
     "name": "stdout",
     "output_type": "stream",
     "text": [
      "[1] 77\n"
     ]
    },
    {
     "data": {
      "text/html": [
       "<ol class=list-inline>\n",
       "\t<li>'MAN1C1_HUMAN'</li>\n",
       "\t<li>'ACTA1_HUMAN'</li>\n",
       "\t<li>'MYH6_HUMAN'</li>\n",
       "\t<li>'PTPRD_HUMAN'</li>\n",
       "\t<li>'INPP4B_HUMAN'</li>\n",
       "\t<li>'COL2A1_HUMAN'</li>\n",
       "\t<li>'ADAMTS12_HUMAN'</li>\n",
       "\t<li>'CCDC141_HUMAN'</li>\n",
       "\t<li>'PDLIM3_HUMAN'</li>\n",
       "\t<li>'FAM189A2_HUMAN'</li>\n",
       "\t<li>'FHOD3_HUMAN'</li>\n",
       "\t<li>'GRIN2A_HUMAN'</li>\n",
       "\t<li>'MYL4_HUMAN'</li>\n",
       "\t<li>'GOLIM4_HUMAN'</li>\n",
       "\t<li>'TNS1_HUMAN'</li>\n",
       "\t<li>'NAV1_HUMAN'</li>\n",
       "\t<li>'PRTG_HUMAN'</li>\n",
       "\t<li>'PLN_HUMAN'</li>\n",
       "\t<li>'VCAN_HUMAN'</li>\n",
       "\t<li>'MYO1D_HUMAN'</li>\n",
       "\t<li>'CNTN5_HUMAN'</li>\n",
       "\t<li>'PPP2R3A_HUMAN'</li>\n",
       "\t<li>'BMPER_HUMAN'</li>\n",
       "\t<li>'KCNH7_HUMAN'</li>\n",
       "\t<li>'KCNQ5_HUMAN'</li>\n",
       "\t<li>'FAM19A4_HUMAN'</li>\n",
       "\t<li>'ARHGAP42_HUMAN'</li>\n",
       "\t<li>'GPC3_HUMAN'</li>\n",
       "\t<li>'WWOX_HUMAN'</li>\n",
       "\t<li>'SAMD4A_HUMAN'</li>\n",
       "\t<li>'ANKRD1_HUMAN'</li>\n",
       "\t<li>'ATP13A3_HUMAN'</li>\n",
       "\t<li>'STK39_HUMAN'</li>\n",
       "\t<li>'KDR_HUMAN'</li>\n",
       "\t<li>'RBMS3_HUMAN'</li>\n",
       "\t<li>'LSAMP_HUMAN'</li>\n",
       "\t<li>'TANC2_HUMAN'</li>\n",
       "\t<li>'FRMD4B_HUMAN'</li>\n",
       "\t<li>'MYH7_HUMAN'</li>\n",
       "\t<li>'EGFEM1P_HUMAN'</li>\n",
       "\t<li>'FBXL7_HUMAN'</li>\n",
       "\t<li>'GJA3_HUMAN'</li>\n",
       "\t<li>'BMP2_HUMAN'</li>\n",
       "\t<li>'PAM_HUMAN'</li>\n",
       "\t<li>'PDGFD_HUMAN'</li>\n",
       "\t<li>'SORCS3_HUMAN'</li>\n",
       "\t<li>'RNF150_HUMAN'</li>\n",
       "\t<li>'DYSF_HUMAN'</li>\n",
       "\t<li>'NAP1L1_HUMAN'</li>\n",
       "\t<li>'ADAM28_HUMAN'</li>\n",
       "\t<li>'NT5C2_HUMAN'</li>\n",
       "\t<li>'MEF2C_HUMAN'</li>\n",
       "\t<li>'ST6GAL1_HUMAN'</li>\n",
       "\t<li>'DYNC1H1_HUMAN'</li>\n",
       "\t<li>'H19_HUMAN'</li>\n",
       "\t<li>'HAPLN1_HUMAN'</li>\n",
       "\t<li>'FLRT2_HUMAN'</li>\n",
       "\t<li>'LINC00881_HUMAN'</li>\n",
       "\t<li>'PIP4K2A_HUMAN'</li>\n",
       "\t<li>'RXRG_HUMAN'</li>\n",
       "\t<li>'C20orf166-AS1_HUMAN'</li>\n",
       "\t<li>'FLNA_HUMAN'</li>\n",
       "\t<li>'EPB41L4A_HUMAN'</li>\n",
       "\t<li>'FTL_HUMAN'</li>\n",
       "\t<li>'MOXD1_HUMAN'</li>\n",
       "\t<li>'SV2C_HUMAN'</li>\n",
       "\t<li>'RPS6_HUMAN'</li>\n",
       "\t<li>'FSHR_HUMAN'</li>\n",
       "\t<li>'PRSS35_HUMAN'</li>\n",
       "\t<li>'ITPKB_HUMAN'</li>\n",
       "\t<li>'MDK_HUMAN'</li>\n",
       "\t<li>'PLCL1_HUMAN'</li>\n",
       "\t<li>'DOK4_HUMAN'</li>\n",
       "\t<li>'KIF1A_HUMAN'</li>\n",
       "\t<li>'NPNT_HUMAN'</li>\n",
       "\t<li>'UCHL1_HUMAN'</li>\n",
       "\t<li>'LIN28A_HUMAN'</li>\n",
       "</ol>\n"
      ],
      "text/latex": [
       "\\begin{enumerate*}\n",
       "\\item 'MAN1C1\\_HUMAN'\n",
       "\\item 'ACTA1\\_HUMAN'\n",
       "\\item 'MYH6\\_HUMAN'\n",
       "\\item 'PTPRD\\_HUMAN'\n",
       "\\item 'INPP4B\\_HUMAN'\n",
       "\\item 'COL2A1\\_HUMAN'\n",
       "\\item 'ADAMTS12\\_HUMAN'\n",
       "\\item 'CCDC141\\_HUMAN'\n",
       "\\item 'PDLIM3\\_HUMAN'\n",
       "\\item 'FAM189A2\\_HUMAN'\n",
       "\\item 'FHOD3\\_HUMAN'\n",
       "\\item 'GRIN2A\\_HUMAN'\n",
       "\\item 'MYL4\\_HUMAN'\n",
       "\\item 'GOLIM4\\_HUMAN'\n",
       "\\item 'TNS1\\_HUMAN'\n",
       "\\item 'NAV1\\_HUMAN'\n",
       "\\item 'PRTG\\_HUMAN'\n",
       "\\item 'PLN\\_HUMAN'\n",
       "\\item 'VCAN\\_HUMAN'\n",
       "\\item 'MYO1D\\_HUMAN'\n",
       "\\item 'CNTN5\\_HUMAN'\n",
       "\\item 'PPP2R3A\\_HUMAN'\n",
       "\\item 'BMPER\\_HUMAN'\n",
       "\\item 'KCNH7\\_HUMAN'\n",
       "\\item 'KCNQ5\\_HUMAN'\n",
       "\\item 'FAM19A4\\_HUMAN'\n",
       "\\item 'ARHGAP42\\_HUMAN'\n",
       "\\item 'GPC3\\_HUMAN'\n",
       "\\item 'WWOX\\_HUMAN'\n",
       "\\item 'SAMD4A\\_HUMAN'\n",
       "\\item 'ANKRD1\\_HUMAN'\n",
       "\\item 'ATP13A3\\_HUMAN'\n",
       "\\item 'STK39\\_HUMAN'\n",
       "\\item 'KDR\\_HUMAN'\n",
       "\\item 'RBMS3\\_HUMAN'\n",
       "\\item 'LSAMP\\_HUMAN'\n",
       "\\item 'TANC2\\_HUMAN'\n",
       "\\item 'FRMD4B\\_HUMAN'\n",
       "\\item 'MYH7\\_HUMAN'\n",
       "\\item 'EGFEM1P\\_HUMAN'\n",
       "\\item 'FBXL7\\_HUMAN'\n",
       "\\item 'GJA3\\_HUMAN'\n",
       "\\item 'BMP2\\_HUMAN'\n",
       "\\item 'PAM\\_HUMAN'\n",
       "\\item 'PDGFD\\_HUMAN'\n",
       "\\item 'SORCS3\\_HUMAN'\n",
       "\\item 'RNF150\\_HUMAN'\n",
       "\\item 'DYSF\\_HUMAN'\n",
       "\\item 'NAP1L1\\_HUMAN'\n",
       "\\item 'ADAM28\\_HUMAN'\n",
       "\\item 'NT5C2\\_HUMAN'\n",
       "\\item 'MEF2C\\_HUMAN'\n",
       "\\item 'ST6GAL1\\_HUMAN'\n",
       "\\item 'DYNC1H1\\_HUMAN'\n",
       "\\item 'H19\\_HUMAN'\n",
       "\\item 'HAPLN1\\_HUMAN'\n",
       "\\item 'FLRT2\\_HUMAN'\n",
       "\\item 'LINC00881\\_HUMAN'\n",
       "\\item 'PIP4K2A\\_HUMAN'\n",
       "\\item 'RXRG\\_HUMAN'\n",
       "\\item 'C20orf166-AS1\\_HUMAN'\n",
       "\\item 'FLNA\\_HUMAN'\n",
       "\\item 'EPB41L4A\\_HUMAN'\n",
       "\\item 'FTL\\_HUMAN'\n",
       "\\item 'MOXD1\\_HUMAN'\n",
       "\\item 'SV2C\\_HUMAN'\n",
       "\\item 'RPS6\\_HUMAN'\n",
       "\\item 'FSHR\\_HUMAN'\n",
       "\\item 'PRSS35\\_HUMAN'\n",
       "\\item 'ITPKB\\_HUMAN'\n",
       "\\item 'MDK\\_HUMAN'\n",
       "\\item 'PLCL1\\_HUMAN'\n",
       "\\item 'DOK4\\_HUMAN'\n",
       "\\item 'KIF1A\\_HUMAN'\n",
       "\\item 'NPNT\\_HUMAN'\n",
       "\\item 'UCHL1\\_HUMAN'\n",
       "\\item 'LIN28A\\_HUMAN'\n",
       "\\end{enumerate*}\n"
      ],
      "text/markdown": [
       "1. 'MAN1C1_HUMAN'\n",
       "2. 'ACTA1_HUMAN'\n",
       "3. 'MYH6_HUMAN'\n",
       "4. 'PTPRD_HUMAN'\n",
       "5. 'INPP4B_HUMAN'\n",
       "6. 'COL2A1_HUMAN'\n",
       "7. 'ADAMTS12_HUMAN'\n",
       "8. 'CCDC141_HUMAN'\n",
       "9. 'PDLIM3_HUMAN'\n",
       "10. 'FAM189A2_HUMAN'\n",
       "11. 'FHOD3_HUMAN'\n",
       "12. 'GRIN2A_HUMAN'\n",
       "13. 'MYL4_HUMAN'\n",
       "14. 'GOLIM4_HUMAN'\n",
       "15. 'TNS1_HUMAN'\n",
       "16. 'NAV1_HUMAN'\n",
       "17. 'PRTG_HUMAN'\n",
       "18. 'PLN_HUMAN'\n",
       "19. 'VCAN_HUMAN'\n",
       "20. 'MYO1D_HUMAN'\n",
       "21. 'CNTN5_HUMAN'\n",
       "22. 'PPP2R3A_HUMAN'\n",
       "23. 'BMPER_HUMAN'\n",
       "24. 'KCNH7_HUMAN'\n",
       "25. 'KCNQ5_HUMAN'\n",
       "26. 'FAM19A4_HUMAN'\n",
       "27. 'ARHGAP42_HUMAN'\n",
       "28. 'GPC3_HUMAN'\n",
       "29. 'WWOX_HUMAN'\n",
       "30. 'SAMD4A_HUMAN'\n",
       "31. 'ANKRD1_HUMAN'\n",
       "32. 'ATP13A3_HUMAN'\n",
       "33. 'STK39_HUMAN'\n",
       "34. 'KDR_HUMAN'\n",
       "35. 'RBMS3_HUMAN'\n",
       "36. 'LSAMP_HUMAN'\n",
       "37. 'TANC2_HUMAN'\n",
       "38. 'FRMD4B_HUMAN'\n",
       "39. 'MYH7_HUMAN'\n",
       "40. 'EGFEM1P_HUMAN'\n",
       "41. 'FBXL7_HUMAN'\n",
       "42. 'GJA3_HUMAN'\n",
       "43. 'BMP2_HUMAN'\n",
       "44. 'PAM_HUMAN'\n",
       "45. 'PDGFD_HUMAN'\n",
       "46. 'SORCS3_HUMAN'\n",
       "47. 'RNF150_HUMAN'\n",
       "48. 'DYSF_HUMAN'\n",
       "49. 'NAP1L1_HUMAN'\n",
       "50. 'ADAM28_HUMAN'\n",
       "51. 'NT5C2_HUMAN'\n",
       "52. 'MEF2C_HUMAN'\n",
       "53. 'ST6GAL1_HUMAN'\n",
       "54. 'DYNC1H1_HUMAN'\n",
       "55. 'H19_HUMAN'\n",
       "56. 'HAPLN1_HUMAN'\n",
       "57. 'FLRT2_HUMAN'\n",
       "58. 'LINC00881_HUMAN'\n",
       "59. 'PIP4K2A_HUMAN'\n",
       "60. 'RXRG_HUMAN'\n",
       "61. 'C20orf166-AS1_HUMAN'\n",
       "62. 'FLNA_HUMAN'\n",
       "63. 'EPB41L4A_HUMAN'\n",
       "64. 'FTL_HUMAN'\n",
       "65. 'MOXD1_HUMAN'\n",
       "66. 'SV2C_HUMAN'\n",
       "67. 'RPS6_HUMAN'\n",
       "68. 'FSHR_HUMAN'\n",
       "69. 'PRSS35_HUMAN'\n",
       "70. 'ITPKB_HUMAN'\n",
       "71. 'MDK_HUMAN'\n",
       "72. 'PLCL1_HUMAN'\n",
       "73. 'DOK4_HUMAN'\n",
       "74. 'KIF1A_HUMAN'\n",
       "75. 'NPNT_HUMAN'\n",
       "76. 'UCHL1_HUMAN'\n",
       "77. 'LIN28A_HUMAN'\n",
       "\n",
       "\n"
      ],
      "text/plain": [
       " [1] \"MAN1C1_HUMAN\"        \"ACTA1_HUMAN\"         \"MYH6_HUMAN\"         \n",
       " [4] \"PTPRD_HUMAN\"         \"INPP4B_HUMAN\"        \"COL2A1_HUMAN\"       \n",
       " [7] \"ADAMTS12_HUMAN\"      \"CCDC141_HUMAN\"       \"PDLIM3_HUMAN\"       \n",
       "[10] \"FAM189A2_HUMAN\"      \"FHOD3_HUMAN\"         \"GRIN2A_HUMAN\"       \n",
       "[13] \"MYL4_HUMAN\"          \"GOLIM4_HUMAN\"        \"TNS1_HUMAN\"         \n",
       "[16] \"NAV1_HUMAN\"          \"PRTG_HUMAN\"          \"PLN_HUMAN\"          \n",
       "[19] \"VCAN_HUMAN\"          \"MYO1D_HUMAN\"         \"CNTN5_HUMAN\"        \n",
       "[22] \"PPP2R3A_HUMAN\"       \"BMPER_HUMAN\"         \"KCNH7_HUMAN\"        \n",
       "[25] \"KCNQ5_HUMAN\"         \"FAM19A4_HUMAN\"       \"ARHGAP42_HUMAN\"     \n",
       "[28] \"GPC3_HUMAN\"          \"WWOX_HUMAN\"          \"SAMD4A_HUMAN\"       \n",
       "[31] \"ANKRD1_HUMAN\"        \"ATP13A3_HUMAN\"       \"STK39_HUMAN\"        \n",
       "[34] \"KDR_HUMAN\"           \"RBMS3_HUMAN\"         \"LSAMP_HUMAN\"        \n",
       "[37] \"TANC2_HUMAN\"         \"FRMD4B_HUMAN\"        \"MYH7_HUMAN\"         \n",
       "[40] \"EGFEM1P_HUMAN\"       \"FBXL7_HUMAN\"         \"GJA3_HUMAN\"         \n",
       "[43] \"BMP2_HUMAN\"          \"PAM_HUMAN\"           \"PDGFD_HUMAN\"        \n",
       "[46] \"SORCS3_HUMAN\"        \"RNF150_HUMAN\"        \"DYSF_HUMAN\"         \n",
       "[49] \"NAP1L1_HUMAN\"        \"ADAM28_HUMAN\"        \"NT5C2_HUMAN\"        \n",
       "[52] \"MEF2C_HUMAN\"         \"ST6GAL1_HUMAN\"       \"DYNC1H1_HUMAN\"      \n",
       "[55] \"H19_HUMAN\"           \"HAPLN1_HUMAN\"        \"FLRT2_HUMAN\"        \n",
       "[58] \"LINC00881_HUMAN\"     \"PIP4K2A_HUMAN\"       \"RXRG_HUMAN\"         \n",
       "[61] \"C20orf166-AS1_HUMAN\" \"FLNA_HUMAN\"          \"EPB41L4A_HUMAN\"     \n",
       "[64] \"FTL_HUMAN\"           \"MOXD1_HUMAN\"         \"SV2C_HUMAN\"         \n",
       "[67] \"RPS6_HUMAN\"          \"FSHR_HUMAN\"          \"PRSS35_HUMAN\"       \n",
       "[70] \"ITPKB_HUMAN\"         \"MDK_HUMAN\"           \"PLCL1_HUMAN\"        \n",
       "[73] \"DOK4_HUMAN\"          \"KIF1A_HUMAN\"         \"NPNT_HUMAN\"         \n",
       "[76] \"UCHL1_HUMAN\"         \"LIN28A_HUMAN\"       "
      ]
     },
     "metadata": {},
     "output_type": "display_data"
    }
   ],
   "source": [
    "print(length(genes_intersect))\n",
    "genes_intersect"
   ]
  },
  {
   "cell_type": "markdown",
   "metadata": {},
   "source": [
    "### Distribution of non-zero genes at min lambda"
   ]
  },
  {
   "cell_type": "code",
   "execution_count": 14,
   "metadata": {
    "scrolled": false
   },
   "outputs": [
    {
     "name": "stderr",
     "output_type": "stream",
     "text": [
      "`stat_bin()` using `bins = 30`. Pick better value with `binwidth`.\n"
     ]
    },
    {
     "data": {},
     "metadata": {},
     "output_type": "display_data"
    },
    {
     "data": {
      "image/png": "[encoded data removed]",
      "text/plain": [
       "plot without title"
      ]
     },
     "metadata": {},
     "output_type": "display_data"
    }
   ],
   "source": [
    "nonzero_gene_count <- as.data.frame(nonzero_gene_count)\n",
    "colnames(nonzero_gene_count) <- \"nonzeroGenes\"\n",
    "ggplot(nonzero_gene_count) + geom_histogram(aes(nonzeroGenes))"
   ]
  },
  {
   "cell_type": "markdown",
   "metadata": {},
   "source": [
    "### Compare gene list to previous analysis (remove_1s2exp data)"
   ]
  },
  {
   "cell_type": "code",
   "execution_count": 15,
   "metadata": {},
   "outputs": [
    {
     "data": {
      "text/html": [
       "<ol class=list-inline>\n",
       "\t<li>'MAN1C1_HUMAN'</li>\n",
       "\t<li>'MYH6_HUMAN'</li>\n",
       "\t<li>'PTPRD_HUMAN'</li>\n",
       "\t<li>'INPP4B_HUMAN'</li>\n",
       "\t<li>'COL2A1_HUMAN'</li>\n",
       "\t<li>'CCDC141_HUMAN'</li>\n",
       "\t<li>'FAM189A2_HUMAN'</li>\n",
       "\t<li>'FHOD3_HUMAN'</li>\n",
       "\t<li>'GRIN2A_HUMAN'</li>\n",
       "\t<li>'MYL4_HUMAN'</li>\n",
       "\t<li>'GOLIM4_HUMAN'</li>\n",
       "\t<li>'TNS1_HUMAN'</li>\n",
       "\t<li>'NAV1_HUMAN'</li>\n",
       "\t<li>'PRTG_HUMAN'</li>\n",
       "\t<li>'PLN_HUMAN'</li>\n",
       "\t<li>'VCAN_HUMAN'</li>\n",
       "\t<li>'MYO1D_HUMAN'</li>\n",
       "\t<li>'CNTN5_HUMAN'</li>\n",
       "\t<li>'BMPER_HUMAN'</li>\n",
       "\t<li>'KCNH7_HUMAN'</li>\n",
       "\t<li>'FAM19A4_HUMAN'</li>\n",
       "\t<li>'ARHGAP42_HUMAN'</li>\n",
       "\t<li>'GPC3_HUMAN'</li>\n",
       "\t<li>'WWOX_HUMAN'</li>\n",
       "\t<li>'SAMD4A_HUMAN'</li>\n",
       "\t<li>'ANKRD1_HUMAN'</li>\n",
       "\t<li>'ATP13A3_HUMAN'</li>\n",
       "\t<li>'LSAMP_HUMAN'</li>\n",
       "\t<li>'TANC2_HUMAN'</li>\n",
       "\t<li>'MYH7_HUMAN'</li>\n",
       "\t<li>'FBXL7_HUMAN'</li>\n",
       "\t<li>'BMP2_HUMAN'</li>\n",
       "\t<li>'PAM_HUMAN'</li>\n",
       "\t<li>'SORCS3_HUMAN'</li>\n",
       "\t<li>'RNF150_HUMAN'</li>\n",
       "\t<li>'ADAM28_HUMAN'</li>\n",
       "\t<li>'MEF2C_HUMAN'</li>\n",
       "\t<li>'H19_HUMAN'</li>\n",
       "\t<li>'FLRT2_HUMAN'</li>\n",
       "\t<li>'LINC00881_HUMAN'</li>\n",
       "\t<li>'RXRG_HUMAN'</li>\n",
       "\t<li>'MOXD1_HUMAN'</li>\n",
       "\t<li>'SV2C_HUMAN'</li>\n",
       "\t<li>'PRSS35_HUMAN'</li>\n",
       "\t<li>'DOK4_HUMAN'</li>\n",
       "\t<li>'KIF1A_HUMAN'</li>\n",
       "</ol>\n"
      ],
      "text/latex": [
       "\\begin{enumerate*}\n",
       "\\item 'MAN1C1\\_HUMAN'\n",
       "\\item 'MYH6\\_HUMAN'\n",
       "\\item 'PTPRD\\_HUMAN'\n",
       "\\item 'INPP4B\\_HUMAN'\n",
       "\\item 'COL2A1\\_HUMAN'\n",
       "\\item 'CCDC141\\_HUMAN'\n",
       "\\item 'FAM189A2\\_HUMAN'\n",
       "\\item 'FHOD3\\_HUMAN'\n",
       "\\item 'GRIN2A\\_HUMAN'\n",
       "\\item 'MYL4\\_HUMAN'\n",
       "\\item 'GOLIM4\\_HUMAN'\n",
       "\\item 'TNS1\\_HUMAN'\n",
       "\\item 'NAV1\\_HUMAN'\n",
       "\\item 'PRTG\\_HUMAN'\n",
       "\\item 'PLN\\_HUMAN'\n",
       "\\item 'VCAN\\_HUMAN'\n",
       "\\item 'MYO1D\\_HUMAN'\n",
       "\\item 'CNTN5\\_HUMAN'\n",
       "\\item 'BMPER\\_HUMAN'\n",
       "\\item 'KCNH7\\_HUMAN'\n",
       "\\item 'FAM19A4\\_HUMAN'\n",
       "\\item 'ARHGAP42\\_HUMAN'\n",
       "\\item 'GPC3\\_HUMAN'\n",
       "\\item 'WWOX\\_HUMAN'\n",
       "\\item 'SAMD4A\\_HUMAN'\n",
       "\\item 'ANKRD1\\_HUMAN'\n",
       "\\item 'ATP13A3\\_HUMAN'\n",
       "\\item 'LSAMP\\_HUMAN'\n",
       "\\item 'TANC2\\_HUMAN'\n",
       "\\item 'MYH7\\_HUMAN'\n",
       "\\item 'FBXL7\\_HUMAN'\n",
       "\\item 'BMP2\\_HUMAN'\n",
       "\\item 'PAM\\_HUMAN'\n",
       "\\item 'SORCS3\\_HUMAN'\n",
       "\\item 'RNF150\\_HUMAN'\n",
       "\\item 'ADAM28\\_HUMAN'\n",
       "\\item 'MEF2C\\_HUMAN'\n",
       "\\item 'H19\\_HUMAN'\n",
       "\\item 'FLRT2\\_HUMAN'\n",
       "\\item 'LINC00881\\_HUMAN'\n",
       "\\item 'RXRG\\_HUMAN'\n",
       "\\item 'MOXD1\\_HUMAN'\n",
       "\\item 'SV2C\\_HUMAN'\n",
       "\\item 'PRSS35\\_HUMAN'\n",
       "\\item 'DOK4\\_HUMAN'\n",
       "\\item 'KIF1A\\_HUMAN'\n",
       "\\end{enumerate*}\n"
      ],
      "text/markdown": [
       "1. 'MAN1C1_HUMAN'\n",
       "2. 'MYH6_HUMAN'\n",
       "3. 'PTPRD_HUMAN'\n",
       "4. 'INPP4B_HUMAN'\n",
       "5. 'COL2A1_HUMAN'\n",
       "6. 'CCDC141_HUMAN'\n",
       "7. 'FAM189A2_HUMAN'\n",
       "8. 'FHOD3_HUMAN'\n",
       "9. 'GRIN2A_HUMAN'\n",
       "10. 'MYL4_HUMAN'\n",
       "11. 'GOLIM4_HUMAN'\n",
       "12. 'TNS1_HUMAN'\n",
       "13. 'NAV1_HUMAN'\n",
       "14. 'PRTG_HUMAN'\n",
       "15. 'PLN_HUMAN'\n",
       "16. 'VCAN_HUMAN'\n",
       "17. 'MYO1D_HUMAN'\n",
       "18. 'CNTN5_HUMAN'\n",
       "19. 'BMPER_HUMAN'\n",
       "20. 'KCNH7_HUMAN'\n",
       "21. 'FAM19A4_HUMAN'\n",
       "22. 'ARHGAP42_HUMAN'\n",
       "23. 'GPC3_HUMAN'\n",
       "24. 'WWOX_HUMAN'\n",
       "25. 'SAMD4A_HUMAN'\n",
       "26. 'ANKRD1_HUMAN'\n",
       "27. 'ATP13A3_HUMAN'\n",
       "28. 'LSAMP_HUMAN'\n",
       "29. 'TANC2_HUMAN'\n",
       "30. 'MYH7_HUMAN'\n",
       "31. 'FBXL7_HUMAN'\n",
       "32. 'BMP2_HUMAN'\n",
       "33. 'PAM_HUMAN'\n",
       "34. 'SORCS3_HUMAN'\n",
       "35. 'RNF150_HUMAN'\n",
       "36. 'ADAM28_HUMAN'\n",
       "37. 'MEF2C_HUMAN'\n",
       "38. 'H19_HUMAN'\n",
       "39. 'FLRT2_HUMAN'\n",
       "40. 'LINC00881_HUMAN'\n",
       "41. 'RXRG_HUMAN'\n",
       "42. 'MOXD1_HUMAN'\n",
       "43. 'SV2C_HUMAN'\n",
       "44. 'PRSS35_HUMAN'\n",
       "45. 'DOK4_HUMAN'\n",
       "46. 'KIF1A_HUMAN'\n",
       "\n",
       "\n"
      ],
      "text/plain": [
       " [1] \"MAN1C1_HUMAN\"    \"MYH6_HUMAN\"      \"PTPRD_HUMAN\"     \"INPP4B_HUMAN\"   \n",
       " [5] \"COL2A1_HUMAN\"    \"CCDC141_HUMAN\"   \"FAM189A2_HUMAN\"  \"FHOD3_HUMAN\"    \n",
       " [9] \"GRIN2A_HUMAN\"    \"MYL4_HUMAN\"      \"GOLIM4_HUMAN\"    \"TNS1_HUMAN\"     \n",
       "[13] \"NAV1_HUMAN\"      \"PRTG_HUMAN\"      \"PLN_HUMAN\"       \"VCAN_HUMAN\"     \n",
       "[17] \"MYO1D_HUMAN\"     \"CNTN5_HUMAN\"     \"BMPER_HUMAN\"     \"KCNH7_HUMAN\"    \n",
       "[21] \"FAM19A4_HUMAN\"   \"ARHGAP42_HUMAN\"  \"GPC3_HUMAN\"      \"WWOX_HUMAN\"     \n",
       "[25] \"SAMD4A_HUMAN\"    \"ANKRD1_HUMAN\"    \"ATP13A3_HUMAN\"   \"LSAMP_HUMAN\"    \n",
       "[29] \"TANC2_HUMAN\"     \"MYH7_HUMAN\"      \"FBXL7_HUMAN\"     \"BMP2_HUMAN\"     \n",
       "[33] \"PAM_HUMAN\"       \"SORCS3_HUMAN\"    \"RNF150_HUMAN\"    \"ADAM28_HUMAN\"   \n",
       "[37] \"MEF2C_HUMAN\"     \"H19_HUMAN\"       \"FLRT2_HUMAN\"     \"LINC00881_HUMAN\"\n",
       "[41] \"RXRG_HUMAN\"      \"MOXD1_HUMAN\"     \"SV2C_HUMAN\"      \"PRSS35_HUMAN\"   \n",
       "[45] \"DOK4_HUMAN\"      \"KIF1A_HUMAN\"    "
      ]
     },
     "metadata": {},
     "output_type": "display_data"
    },
    {
     "data": {
      "text/html": [
       "46"
      ],
      "text/latex": [
       "46"
      ],
      "text/markdown": [
       "46"
      ],
      "text/plain": [
       "[1] 46"
      ]
     },
     "metadata": {},
     "output_type": "display_data"
    }
   ],
   "source": [
    "remove_1st2exp_genes <- c('MAN1C1_HUMAN','FBN2_HUMAN','CACNA1C_HUMAN','MYH6_HUMAN','ATXN1_HUMAN','RYR2_HUMAN','PTPRD_HUMAN','INPP4B_HUMAN','COL2A1_HUMAN','CORIN_HUMAN','CCDC141_HUMAN','ROBO2_HUMAN','FAM189A2_HUMAN','FHOD3_HUMAN','GRIN2A_HUMAN','MYL4_HUMAN','GOLIM4_HUMAN','TNS1_HUMAN','NAV1_HUMAN','PRTG_HUMAN','PLN_HUMAN','VCAN_HUMAN','MYO1D_HUMAN','CNTN5_HUMAN','COLEC12_HUMAN','PRICKLE1_HUMAN','SEMA3C_HUMAN','BMPER_HUMAN','KCNH7_HUMAN','TPM1_HUMAN','FAM19A4_HUMAN','ARHGAP42_HUMAN','GPC3_HUMAN','WWOX_HUMAN','SAMD4A_HUMAN','ANKRD1_HUMAN','ATP13A3_HUMAN','GNAS_HUMAN','LSAMP_HUMAN','TANC2_HUMAN','MYH7_HUMAN','SEMA5A_HUMAN','FBXL7_HUMAN','BMP2_HUMAN','PAM_HUMAN','SORCS3_HUMAN','RNF150_HUMAN','ADAM28_HUMAN','SNAP91_HUMAN','SDK1_HUMAN','MEF2C_HUMAN','H19_HUMAN','DENND5B_HUMAN','RBFOX2_HUMAN','UBE2D2_HUMAN','FLRT2_HUMAN','LINC00881_HUMAN','EZR_HUMAN','RXRG_HUMAN','TAGLN_HUMAN','RYR1_HUMAN','MOXD1_HUMAN','SV2C_HUMAN','FKBP5_HUMAN','SCUBE3_HUMAN','CKM_HUMAN','PRSS35_HUMAN','QRFPR_HUMAN','HECW2_HUMAN','CPNE4_HUMAN','DOK4_HUMAN','KIF1A_HUMAN','CCND1_HUMAN','COL13A1_HUMAN','OTOGL_HUMAN')\n",
    "x <- intersect(remove_1st2exp_genes, genes_intersect)\n",
    "x\n",
    "length(x)"
   ]
  },
  {
   "cell_type": "markdown",
   "metadata": {},
   "source": [
    "46 genes are found in both (all cell analysis including non-cardios vs. remove1st2exp w/ TNNT2 == 0 cells filtered out)"
   ]
  },
  {
   "cell_type": "markdown",
   "metadata": {},
   "source": [
    "### Caclulate fold changes for genes"
   ]
  },
  {
   "cell_type": "code",
   "execution_count": 16,
   "metadata": {
    "scrolled": false
   },
   "outputs": [
    {
     "name": "stderr",
     "output_type": "stream",
     "text": [
      "\n",
      "Attaching package: ‘dplyr’\n",
      "\n",
      "The following objects are masked from ‘package:stats’:\n",
      "\n",
      "    filter, lag\n",
      "\n",
      "The following objects are masked from ‘package:base’:\n",
      "\n",
      "    intersect, setdiff, setequal, union\n",
      "\n"
     ]
    }
   ],
   "source": [
    "library(dplyr)"
   ]
  },
  {
   "cell_type": "code",
   "execution_count": 17,
   "metadata": {
    "collapsed": true
   },
   "outputs": [],
   "source": [
    "load(\"/allen/aics/gene-editing/RNA_seq/scRNAseq_SeeligCollaboration/12012017_cardio/seurat/all_cells/regressions/reg1/train_cm_filtered_cells_entrez_only_normalized_counts.RData\")"
   ]
  },
  {
   "cell_type": "code",
   "execution_count": 18,
   "metadata": {
    "collapsed": true
   },
   "outputs": [],
   "source": [
    "cell_metadata <- read.csv(\"/allen/aics/gene-editing/RNA_seq/scRNAseq_SeeligCollaboration/12012017_cardio/seurat/all_cells/regressions/reg1/train_cm_filtered_cells_entrez_only_metadata.csv\")"
   ]
  },
  {
   "cell_type": "code",
   "execution_count": 20,
   "metadata": {
    "collapsed": true
   },
   "outputs": [],
   "source": [
    "cardioAICS <- t(cardioAICS)\n",
    "\n",
    "diff_day <- cell_metadata$day\n",
    "\n",
    "diff_day <- gsub('D12|D14', \"early\", diff_day)\n",
    "diff_day <- gsub('D24|D26', \"late\", diff_day)\n",
    "names(diff_day) <- cell_metadata$X"
   ]
  },
  {
   "cell_type": "code",
   "execution_count": 21,
   "metadata": {
    "collapsed": true
   },
   "outputs": [],
   "source": [
    "genes.use <- genes_intersect\n",
    "\n",
    "late_cells <- cell_metadata$X[cell_metadata$day %in% c(\"D24\", \"D26\")]\n",
    "early_cells <- cell_metadata$X[cell_metadata$day %in% c(\"D12\", \"D14\")]\n",
    "\n",
    "early_exp_mat <- cardioAICS[early_cells,]\n",
    "late_exp_mat <- cardioAICS[late_cells,]\n",
    "\n",
    "foldChange_list <- list()\n",
    "for (i in 1:length(genes.use)) {\n",
    "    gene <- genes.use[i]\n",
    "    early_exp <- early_exp_mat[,gene]\n",
    "    late_exp <- late_exp_mat[,gene]\n",
    "    log2fc <- log2(mean(expm1(early_exp)) + 1) - log2(mean(expm1(late_exp)) + 1)\n",
    "    foldChange_list[[gene]] <- log2fc\n",
    "    \n",
    "}\n",
    "\n",
    "lfc_df <- data.frame(\"log2fc\" = as.numeric(foldChange_list), \"gene\" = names(foldChange_list), row.names = names(foldChange_list))\n",
    "lfc_df <- dplyr::arrange(lfc_df, log2fc)"
   ]
  },
  {
   "cell_type": "code",
   "execution_count": 22,
   "metadata": {
    "scrolled": true
   },
   "outputs": [
    {
     "data": {
      "text/html": [
       "<table>\n",
       "<thead><tr><th scope=col>log2fc</th><th scope=col>gene</th></tr></thead>\n",
       "<tbody>\n",
       "\t<tr><td>-2.1954680     </td><td>MYH7_HUMAN     </td></tr>\n",
       "\t<tr><td>-1.7785094     </td><td>CNTN5_HUMAN    </td></tr>\n",
       "\t<tr><td>-1.4379214     </td><td>INPP4B_HUMAN   </td></tr>\n",
       "\t<tr><td>-1.1394393     </td><td>FBXL7_HUMAN    </td></tr>\n",
       "\t<tr><td>-1.0612696     </td><td>PLN_HUMAN      </td></tr>\n",
       "\t<tr><td>-0.9382398     </td><td>NAV1_HUMAN     </td></tr>\n",
       "\t<tr><td>-0.9373440     </td><td>PRSS35_HUMAN   </td></tr>\n",
       "\t<tr><td>-0.8722851     </td><td>H19_HUMAN      </td></tr>\n",
       "\t<tr><td>-0.8600589     </td><td>PDGFD_HUMAN    </td></tr>\n",
       "\t<tr><td>-0.8316667     </td><td>SV2C_HUMAN     </td></tr>\n",
       "\t<tr><td>-0.7833355     </td><td>RNF150_HUMAN   </td></tr>\n",
       "\t<tr><td>-0.7442312     </td><td>MOXD1_HUMAN    </td></tr>\n",
       "\t<tr><td>-0.7377320     </td><td>STK39_HUMAN    </td></tr>\n",
       "\t<tr><td>-0.6995451     </td><td>NPNT_HUMAN     </td></tr>\n",
       "\t<tr><td>-0.6670863     </td><td>LINC00881_HUMAN</td></tr>\n",
       "\t<tr><td>-0.6441637     </td><td>FHOD3_HUMAN    </td></tr>\n",
       "\t<tr><td>-0.6267085     </td><td>ATP13A3_HUMAN  </td></tr>\n",
       "\t<tr><td>-0.6211735     </td><td>EGFEM1P_HUMAN  </td></tr>\n",
       "\t<tr><td>-0.5962098     </td><td>FLRT2_HUMAN    </td></tr>\n",
       "\t<tr><td>-0.5897942     </td><td>MAN1C1_HUMAN   </td></tr>\n",
       "\t<tr><td>-0.5514070     </td><td>ST6GAL1_HUMAN  </td></tr>\n",
       "\t<tr><td>-0.5449453     </td><td>GOLIM4_HUMAN   </td></tr>\n",
       "\t<tr><td>-0.5413967     </td><td>PDLIM3_HUMAN   </td></tr>\n",
       "\t<tr><td>-0.5317950     </td><td>PAM_HUMAN      </td></tr>\n",
       "\t<tr><td>-0.4953193     </td><td>SORCS3_HUMAN   </td></tr>\n",
       "\t<tr><td>-0.4425280     </td><td>TNS1_HUMAN     </td></tr>\n",
       "\t<tr><td>-0.4273970     </td><td>PLCL1_HUMAN    </td></tr>\n",
       "\t<tr><td>-0.3514391     </td><td>ITPKB_HUMAN    </td></tr>\n",
       "\t<tr><td>-0.3411907     </td><td>DYNC1H1_HUMAN  </td></tr>\n",
       "\t<tr><td>-0.3279690     </td><td>FLNA_HUMAN     </td></tr>\n",
       "\t<tr><td>⋮</td><td>⋮</td></tr>\n",
       "\t<tr><td>0.3908518     </td><td>KDR_HUMAN     </td></tr>\n",
       "\t<tr><td>0.3940313     </td><td>LIN28A_HUMAN  </td></tr>\n",
       "\t<tr><td>0.4009456     </td><td>NAP1L1_HUMAN  </td></tr>\n",
       "\t<tr><td>0.4060306     </td><td>RPS6_HUMAN    </td></tr>\n",
       "\t<tr><td>0.4345368     </td><td>RXRG_HUMAN    </td></tr>\n",
       "\t<tr><td>0.4589388     </td><td>FRMD4B_HUMAN  </td></tr>\n",
       "\t<tr><td>0.4761812     </td><td>TANC2_HUMAN   </td></tr>\n",
       "\t<tr><td>0.4891904     </td><td>WWOX_HUMAN    </td></tr>\n",
       "\t<tr><td>0.5378068     </td><td>FAM189A2_HUMAN</td></tr>\n",
       "\t<tr><td>0.5479796     </td><td>HAPLN1_HUMAN  </td></tr>\n",
       "\t<tr><td>0.5502972     </td><td>SAMD4A_HUMAN  </td></tr>\n",
       "\t<tr><td>0.6045018     </td><td>LSAMP_HUMAN   </td></tr>\n",
       "\t<tr><td>0.6213711     </td><td>ARHGAP42_HUMAN</td></tr>\n",
       "\t<tr><td>0.6665974     </td><td>PIP4K2A_HUMAN </td></tr>\n",
       "\t<tr><td>0.6846266     </td><td>ADAMTS12_HUMAN</td></tr>\n",
       "\t<tr><td>0.6984393     </td><td>CCDC141_HUMAN </td></tr>\n",
       "\t<tr><td>0.7105903     </td><td>DOK4_HUMAN    </td></tr>\n",
       "\t<tr><td>0.7245177     </td><td>MYO1D_HUMAN   </td></tr>\n",
       "\t<tr><td>0.7388627     </td><td>ACTA1_HUMAN   </td></tr>\n",
       "\t<tr><td>0.7740095     </td><td>ADAM28_HUMAN  </td></tr>\n",
       "\t<tr><td>0.8160209     </td><td>BMP2_HUMAN    </td></tr>\n",
       "\t<tr><td>0.8270754     </td><td>PRTG_HUMAN    </td></tr>\n",
       "\t<tr><td>0.8759855     </td><td>COL2A1_HUMAN  </td></tr>\n",
       "\t<tr><td>0.9554207     </td><td>MEF2C_HUMAN   </td></tr>\n",
       "\t<tr><td>0.9864878     </td><td>MYH6_HUMAN    </td></tr>\n",
       "\t<tr><td>1.1750941     </td><td>GRIN2A_HUMAN  </td></tr>\n",
       "\t<tr><td>1.2208737     </td><td>BMPER_HUMAN   </td></tr>\n",
       "\t<tr><td>1.3636305     </td><td>GPC3_HUMAN    </td></tr>\n",
       "\t<tr><td>1.3708308     </td><td>VCAN_HUMAN    </td></tr>\n",
       "\t<tr><td>1.5061054     </td><td>FAM19A4_HUMAN </td></tr>\n",
       "</tbody>\n",
       "</table>\n"
      ],
      "text/latex": [
       "\\begin{tabular}{r|ll}\n",
       " log2fc & gene\\\\\n",
       "\\hline\n",
       "\t -2.1954680        & MYH7\\_HUMAN     \\\\\n",
       "\t -1.7785094        & CNTN5\\_HUMAN    \\\\\n",
       "\t -1.4379214        & INPP4B\\_HUMAN   \\\\\n",
       "\t -1.1394393        & FBXL7\\_HUMAN    \\\\\n",
       "\t -1.0612696        & PLN\\_HUMAN      \\\\\n",
       "\t -0.9382398        & NAV1\\_HUMAN     \\\\\n",
       "\t -0.9373440        & PRSS35\\_HUMAN   \\\\\n",
       "\t -0.8722851        & H19\\_HUMAN      \\\\\n",
       "\t -0.8600589        & PDGFD\\_HUMAN    \\\\\n",
       "\t -0.8316667        & SV2C\\_HUMAN     \\\\\n",
       "\t -0.7833355        & RNF150\\_HUMAN   \\\\\n",
       "\t -0.7442312        & MOXD1\\_HUMAN    \\\\\n",
       "\t -0.7377320        & STK39\\_HUMAN    \\\\\n",
       "\t -0.6995451        & NPNT\\_HUMAN     \\\\\n",
       "\t -0.6670863        & LINC00881\\_HUMAN\\\\\n",
       "\t -0.6441637        & FHOD3\\_HUMAN    \\\\\n",
       "\t -0.6267085        & ATP13A3\\_HUMAN  \\\\\n",
       "\t -0.6211735        & EGFEM1P\\_HUMAN  \\\\\n",
       "\t -0.5962098        & FLRT2\\_HUMAN    \\\\\n",
       "\t -0.5897942        & MAN1C1\\_HUMAN   \\\\\n",
       "\t -0.5514070        & ST6GAL1\\_HUMAN  \\\\\n",
       "\t -0.5449453        & GOLIM4\\_HUMAN   \\\\\n",
       "\t -0.5413967        & PDLIM3\\_HUMAN   \\\\\n",
       "\t -0.5317950        & PAM\\_HUMAN      \\\\\n",
       "\t -0.4953193        & SORCS3\\_HUMAN   \\\\\n",
       "\t -0.4425280        & TNS1\\_HUMAN     \\\\\n",
       "\t -0.4273970        & PLCL1\\_HUMAN    \\\\\n",
       "\t -0.3514391        & ITPKB\\_HUMAN    \\\\\n",
       "\t -0.3411907        & DYNC1H1\\_HUMAN  \\\\\n",
       "\t -0.3279690        & FLNA\\_HUMAN     \\\\\n",
       "\t ⋮ & ⋮\\\\\n",
       "\t 0.3908518        & KDR\\_HUMAN     \\\\\n",
       "\t 0.3940313        & LIN28A\\_HUMAN  \\\\\n",
       "\t 0.4009456        & NAP1L1\\_HUMAN  \\\\\n",
       "\t 0.4060306        & RPS6\\_HUMAN    \\\\\n",
       "\t 0.4345368        & RXRG\\_HUMAN    \\\\\n",
       "\t 0.4589388        & FRMD4B\\_HUMAN  \\\\\n",
       "\t 0.4761812        & TANC2\\_HUMAN   \\\\\n",
       "\t 0.4891904        & WWOX\\_HUMAN    \\\\\n",
       "\t 0.5378068        & FAM189A2\\_HUMAN\\\\\n",
       "\t 0.5479796        & HAPLN1\\_HUMAN  \\\\\n",
       "\t 0.5502972        & SAMD4A\\_HUMAN  \\\\\n",
       "\t 0.6045018        & LSAMP\\_HUMAN   \\\\\n",
       "\t 0.6213711        & ARHGAP42\\_HUMAN\\\\\n",
       "\t 0.6665974        & PIP4K2A\\_HUMAN \\\\\n",
       "\t 0.6846266        & ADAMTS12\\_HUMAN\\\\\n",
       "\t 0.6984393        & CCDC141\\_HUMAN \\\\\n",
       "\t 0.7105903        & DOK4\\_HUMAN    \\\\\n",
       "\t 0.7245177        & MYO1D\\_HUMAN   \\\\\n",
       "\t 0.7388627        & ACTA1\\_HUMAN   \\\\\n",
       "\t 0.7740095        & ADAM28\\_HUMAN  \\\\\n",
       "\t 0.8160209        & BMP2\\_HUMAN    \\\\\n",
       "\t 0.8270754        & PRTG\\_HUMAN    \\\\\n",
       "\t 0.8759855        & COL2A1\\_HUMAN  \\\\\n",
       "\t 0.9554207        & MEF2C\\_HUMAN   \\\\\n",
       "\t 0.9864878        & MYH6\\_HUMAN    \\\\\n",
       "\t 1.1750941        & GRIN2A\\_HUMAN  \\\\\n",
       "\t 1.2208737        & BMPER\\_HUMAN   \\\\\n",
       "\t 1.3636305        & GPC3\\_HUMAN    \\\\\n",
       "\t 1.3708308        & VCAN\\_HUMAN    \\\\\n",
       "\t 1.5061054        & FAM19A4\\_HUMAN \\\\\n",
       "\\end{tabular}\n"
      ],
      "text/markdown": [
       "\n",
       "log2fc | gene | \n",
       "|---|---|---|---|---|---|---|---|---|---|---|---|---|---|---|---|---|---|---|---|---|---|---|---|---|---|---|---|---|---|---|---|---|---|---|---|---|---|---|---|---|---|---|---|---|---|---|---|---|---|---|---|---|---|---|---|---|---|---|---|---|\n",
       "| -2.1954680      | MYH7_HUMAN      | \n",
       "| -1.7785094      | CNTN5_HUMAN     | \n",
       "| -1.4379214      | INPP4B_HUMAN    | \n",
       "| -1.1394393      | FBXL7_HUMAN     | \n",
       "| -1.0612696      | PLN_HUMAN       | \n",
       "| -0.9382398      | NAV1_HUMAN      | \n",
       "| -0.9373440      | PRSS35_HUMAN    | \n",
       "| -0.8722851      | H19_HUMAN       | \n",
       "| -0.8600589      | PDGFD_HUMAN     | \n",
       "| -0.8316667      | SV2C_HUMAN      | \n",
       "| -0.7833355      | RNF150_HUMAN    | \n",
       "| -0.7442312      | MOXD1_HUMAN     | \n",
       "| -0.7377320      | STK39_HUMAN     | \n",
       "| -0.6995451      | NPNT_HUMAN      | \n",
       "| -0.6670863      | LINC00881_HUMAN | \n",
       "| -0.6441637      | FHOD3_HUMAN     | \n",
       "| -0.6267085      | ATP13A3_HUMAN   | \n",
       "| -0.6211735      | EGFEM1P_HUMAN   | \n",
       "| -0.5962098      | FLRT2_HUMAN     | \n",
       "| -0.5897942      | MAN1C1_HUMAN    | \n",
       "| -0.5514070      | ST6GAL1_HUMAN   | \n",
       "| -0.5449453      | GOLIM4_HUMAN    | \n",
       "| -0.5413967      | PDLIM3_HUMAN    | \n",
       "| -0.5317950      | PAM_HUMAN       | \n",
       "| -0.4953193      | SORCS3_HUMAN    | \n",
       "| -0.4425280      | TNS1_HUMAN      | \n",
       "| -0.4273970      | PLCL1_HUMAN     | \n",
       "| -0.3514391      | ITPKB_HUMAN     | \n",
       "| -0.3411907      | DYNC1H1_HUMAN   | \n",
       "| -0.3279690      | FLNA_HUMAN      | \n",
       "| ⋮ | ⋮ | \n",
       "| 0.3908518      | KDR_HUMAN      | \n",
       "| 0.3940313      | LIN28A_HUMAN   | \n",
       "| 0.4009456      | NAP1L1_HUMAN   | \n",
       "| 0.4060306      | RPS6_HUMAN     | \n",
       "| 0.4345368      | RXRG_HUMAN     | \n",
       "| 0.4589388      | FRMD4B_HUMAN   | \n",
       "| 0.4761812      | TANC2_HUMAN    | \n",
       "| 0.4891904      | WWOX_HUMAN     | \n",
       "| 0.5378068      | FAM189A2_HUMAN | \n",
       "| 0.5479796      | HAPLN1_HUMAN   | \n",
       "| 0.5502972      | SAMD4A_HUMAN   | \n",
       "| 0.6045018      | LSAMP_HUMAN    | \n",
       "| 0.6213711      | ARHGAP42_HUMAN | \n",
       "| 0.6665974      | PIP4K2A_HUMAN  | \n",
       "| 0.6846266      | ADAMTS12_HUMAN | \n",
       "| 0.6984393      | CCDC141_HUMAN  | \n",
       "| 0.7105903      | DOK4_HUMAN     | \n",
       "| 0.7245177      | MYO1D_HUMAN    | \n",
       "| 0.7388627      | ACTA1_HUMAN    | \n",
       "| 0.7740095      | ADAM28_HUMAN   | \n",
       "| 0.8160209      | BMP2_HUMAN     | \n",
       "| 0.8270754      | PRTG_HUMAN     | \n",
       "| 0.8759855      | COL2A1_HUMAN   | \n",
       "| 0.9554207      | MEF2C_HUMAN    | \n",
       "| 0.9864878      | MYH6_HUMAN     | \n",
       "| 1.1750941      | GRIN2A_HUMAN   | \n",
       "| 1.2208737      | BMPER_HUMAN    | \n",
       "| 1.3636305      | GPC3_HUMAN     | \n",
       "| 1.3708308      | VCAN_HUMAN     | \n",
       "| 1.5061054      | FAM19A4_HUMAN  | \n",
       "\n",
       "\n"
      ],
      "text/plain": [
       "   log2fc     gene           \n",
       "1  -2.1954680 MYH7_HUMAN     \n",
       "2  -1.7785094 CNTN5_HUMAN    \n",
       "3  -1.4379214 INPP4B_HUMAN   \n",
       "4  -1.1394393 FBXL7_HUMAN    \n",
       "5  -1.0612696 PLN_HUMAN      \n",
       "6  -0.9382398 NAV1_HUMAN     \n",
       "7  -0.9373440 PRSS35_HUMAN   \n",
       "8  -0.8722851 H19_HUMAN      \n",
       "9  -0.8600589 PDGFD_HUMAN    \n",
       "10 -0.8316667 SV2C_HUMAN     \n",
       "11 -0.7833355 RNF150_HUMAN   \n",
       "12 -0.7442312 MOXD1_HUMAN    \n",
       "13 -0.7377320 STK39_HUMAN    \n",
       "14 -0.6995451 NPNT_HUMAN     \n",
       "15 -0.6670863 LINC00881_HUMAN\n",
       "16 -0.6441637 FHOD3_HUMAN    \n",
       "17 -0.6267085 ATP13A3_HUMAN  \n",
       "18 -0.6211735 EGFEM1P_HUMAN  \n",
       "19 -0.5962098 FLRT2_HUMAN    \n",
       "20 -0.5897942 MAN1C1_HUMAN   \n",
       "21 -0.5514070 ST6GAL1_HUMAN  \n",
       "22 -0.5449453 GOLIM4_HUMAN   \n",
       "23 -0.5413967 PDLIM3_HUMAN   \n",
       "24 -0.5317950 PAM_HUMAN      \n",
       "25 -0.4953193 SORCS3_HUMAN   \n",
       "26 -0.4425280 TNS1_HUMAN     \n",
       "27 -0.4273970 PLCL1_HUMAN    \n",
       "28 -0.3514391 ITPKB_HUMAN    \n",
       "29 -0.3411907 DYNC1H1_HUMAN  \n",
       "30 -0.3279690 FLNA_HUMAN     \n",
       "⋮  ⋮          ⋮              \n",
       "48 0.3908518  KDR_HUMAN      \n",
       "49 0.3940313  LIN28A_HUMAN   \n",
       "50 0.4009456  NAP1L1_HUMAN   \n",
       "51 0.4060306  RPS6_HUMAN     \n",
       "52 0.4345368  RXRG_HUMAN     \n",
       "53 0.4589388  FRMD4B_HUMAN   \n",
       "54 0.4761812  TANC2_HUMAN    \n",
       "55 0.4891904  WWOX_HUMAN     \n",
       "56 0.5378068  FAM189A2_HUMAN \n",
       "57 0.5479796  HAPLN1_HUMAN   \n",
       "58 0.5502972  SAMD4A_HUMAN   \n",
       "59 0.6045018  LSAMP_HUMAN    \n",
       "60 0.6213711  ARHGAP42_HUMAN \n",
       "61 0.6665974  PIP4K2A_HUMAN  \n",
       "62 0.6846266  ADAMTS12_HUMAN \n",
       "63 0.6984393  CCDC141_HUMAN  \n",
       "64 0.7105903  DOK4_HUMAN     \n",
       "65 0.7245177  MYO1D_HUMAN    \n",
       "66 0.7388627  ACTA1_HUMAN    \n",
       "67 0.7740095  ADAM28_HUMAN   \n",
       "68 0.8160209  BMP2_HUMAN     \n",
       "69 0.8270754  PRTG_HUMAN     \n",
       "70 0.8759855  COL2A1_HUMAN   \n",
       "71 0.9554207  MEF2C_HUMAN    \n",
       "72 0.9864878  MYH6_HUMAN     \n",
       "73 1.1750941  GRIN2A_HUMAN   \n",
       "74 1.2208737  BMPER_HUMAN    \n",
       "75 1.3636305  GPC3_HUMAN     \n",
       "76 1.3708308  VCAN_HUMAN     \n",
       "77 1.5061054  FAM19A4_HUMAN  "
      ]
     },
     "metadata": {},
     "output_type": "display_data"
    }
   ],
   "source": [
    "lfc_df"
   ]
  },
  {
   "cell_type": "markdown",
   "metadata": {},
   "source": [
    "### Fit using 75 genes"
   ]
  },
  {
   "cell_type": "code",
   "execution_count": 23,
   "metadata": {
    "collapsed": true
   },
   "outputs": [],
   "source": [
    "diff_day <- as.factor(diff_day)"
   ]
  },
  {
   "cell_type": "code",
   "execution_count": 25,
   "metadata": {
    "collapsed": true
   },
   "outputs": [],
   "source": [
    "library(boot)"
   ]
  },
  {
   "cell_type": "code",
   "execution_count": 26,
   "metadata": {
    "collapsed": true
   },
   "outputs": [],
   "source": [
    "subset_cardio <- cardioAICS[,genes.use]\n",
    "subset_cardio <- as.data.frame(as.matrix(subset_cardio))"
   ]
  },
  {
   "cell_type": "code",
   "execution_count": 29,
   "metadata": {
    "collapsed": true
   },
   "outputs": [],
   "source": [
    "fit <- glm(diff_day ~ .,\n",
    "    data = subset_cardio, family = binomial(\"logit\")\n",
    "   )"
   ]
  },
  {
   "cell_type": "code",
   "execution_count": 30,
   "metadata": {
    "scrolled": true
   },
   "outputs": [
    {
     "data": {
      "text/plain": [
       "\n",
       "Call:  glm(formula = diff_day ~ ., family = binomial(\"logit\"), data = subset_cardio)\n",
       "\n",
       "Coefficients:\n",
       "          (Intercept)           MAN1C1_HUMAN            ACTA1_HUMAN  \n",
       "               1.9234                 0.3235                -0.8274  \n",
       "           MYH6_HUMAN            PTPRD_HUMAN           INPP4B_HUMAN  \n",
       "              -0.3458                -0.3421                 0.5167  \n",
       "         COL2A1_HUMAN         ADAMTS12_HUMAN          CCDC141_HUMAN  \n",
       "              -0.2748                -0.2417                -0.2403  \n",
       "         PDLIM3_HUMAN         FAM189A2_HUMAN            FHOD3_HUMAN  \n",
       "               0.3838                -0.2203                 0.3629  \n",
       "         GRIN2A_HUMAN             MYL4_HUMAN           GOLIM4_HUMAN  \n",
       "              -0.5534                -0.4891                 0.3233  \n",
       "           TNS1_HUMAN             NAV1_HUMAN             PRTG_HUMAN  \n",
       "               0.4377                 0.4296                -0.3502  \n",
       "            PLN_HUMAN             VCAN_HUMAN            MYO1D_HUMAN  \n",
       "               0.8057                -0.6337                -0.1703  \n",
       "          CNTN5_HUMAN          PPP2R3A_HUMAN            BMPER_HUMAN  \n",
       "               0.3331                -0.1656                -0.3917  \n",
       "          KCNH7_HUMAN            KCNQ5_HUMAN          FAM19A4_HUMAN  \n",
       "              -0.3586                -0.2761                -0.5972  \n",
       "       ARHGAP42_HUMAN             GPC3_HUMAN             WWOX_HUMAN  \n",
       "              -0.2428                -0.6078                -0.2058  \n",
       "         SAMD4A_HUMAN           ANKRD1_HUMAN          ATP13A3_HUMAN  \n",
       "              -0.1338                -0.2757                 0.3350  \n",
       "          STK39_HUMAN              KDR_HUMAN            RBMS3_HUMAN  \n",
       "               0.2654                -0.6651                -0.2690  \n",
       "          LSAMP_HUMAN            TANC2_HUMAN           FRMD4B_HUMAN  \n",
       "              -0.3626                -0.1714                -0.2035  \n",
       "           MYH7_HUMAN          EGFEM1P_HUMAN            FBXL7_HUMAN  \n",
       "               0.5020                 0.2689                 0.3570  \n",
       "           GJA3_HUMAN             BMP2_HUMAN              PAM_HUMAN  \n",
       "               0.3984                -0.3433                 0.3765  \n",
       "          PDGFD_HUMAN           SORCS3_HUMAN           RNF150_HUMAN  \n",
       "               0.2610                 0.4060                 0.2831  \n",
       "           DYSF_HUMAN           NAP1L1_HUMAN           ADAM28_HUMAN  \n",
       "              -0.2851                -0.1595                -0.3316  \n",
       "          NT5C2_HUMAN            MEF2C_HUMAN          ST6GAL1_HUMAN  \n",
       "              -0.2227                -0.3661                 0.4071  \n",
       "        DYNC1H1_HUMAN              H19_HUMAN           HAPLN1_HUMAN  \n",
       "               0.4481                 0.4302                -0.5725  \n",
       "          FLRT2_HUMAN        LINC00881_HUMAN          PIP4K2A_HUMAN  \n",
       "               0.4041                 1.0904                -0.2855  \n",
       "           RXRG_HUMAN  `C20orf166-AS1_HUMAN`             FLNA_HUMAN  \n",
       "              -0.8084                -0.4055                 0.4482  \n",
       "       EPB41L4A_HUMAN              FTL_HUMAN            MOXD1_HUMAN  \n",
       "               0.4801                -0.4831                 0.2457  \n",
       "           SV2C_HUMAN             RPS6_HUMAN             FSHR_HUMAN  \n",
       "               0.6848                -0.4199                -0.9916  \n",
       "         PRSS35_HUMAN            ITPKB_HUMAN              MDK_HUMAN  \n",
       "               0.7554                 0.5723                -0.3560  \n",
       "          PLCL1_HUMAN             DOK4_HUMAN            KIF1A_HUMAN  \n",
       "               0.4276                -0.3692                 0.7560  \n",
       "           NPNT_HUMAN            UCHL1_HUMAN           LIN28A_HUMAN  \n",
       "               0.6009                -0.8102                -1.2580  \n",
       "\n",
       "Degrees of Freedom: 14572 Total (i.e. Null);  14495 Residual\n",
       "Null Deviance:\t    18430 \n",
       "Residual Deviance: 3131 \tAIC: 3287"
      ]
     },
     "metadata": {},
     "output_type": "display_data"
    }
   ],
   "source": [
    "fit"
   ]
  },
  {
   "cell_type": "code",
   "execution_count": 31,
   "metadata": {
    "collapsed": true
   },
   "outputs": [],
   "source": [
    "subset_cardio$diff_day <- diff_day"
   ]
  },
  {
   "cell_type": "code",
   "execution_count": 32,
   "metadata": {
    "collapsed": true
   },
   "outputs": [],
   "source": [
    "cost <- function(r, pi = 0) mean(abs(r-pi) > 0.5)\n",
    "cv.test <- cv.glm(subset_cardio, cost = cost, fit, K = 5)"
   ]
  },
  {
   "cell_type": "code",
   "execution_count": 33,
   "metadata": {},
   "outputs": [
    {
     "data": {
      "text/html": [
       "<ol class=list-inline>\n",
       "\t<li>0.0427502916352158</li>\n",
       "\t<li>0.0423934372354131</li>\n",
       "</ol>\n"
      ],
      "text/latex": [
       "\\begin{enumerate*}\n",
       "\\item 0.0427502916352158\n",
       "\\item 0.0423934372354131\n",
       "\\end{enumerate*}\n"
      ],
      "text/markdown": [
       "1. 0.0427502916352158\n",
       "2. 0.0423934372354131\n",
       "\n",
       "\n"
      ],
      "text/plain": [
       "[1] 0.04275029 0.04239344"
      ]
     },
     "metadata": {},
     "output_type": "display_data"
    }
   ],
   "source": [
    "cv.test$delta"
   ]
  },
  {
   "cell_type": "code",
   "execution_count": 34,
   "metadata": {
    "collapsed": true,
    "scrolled": false
   },
   "outputs": [],
   "source": [
    "load(\"/allen/aics/gene-editing/RNA_seq/scRNAseq_SeeligCollaboration/12012017_cardio/seurat/all_cells/regressions/reg1/holdout_cm_filtered_cells_entrez_only_normalized_counts.RData\")\n",
    "holdout_cell_metadata <- read.csv(\"/allen/aics/gene-editing/RNA_seq/scRNAseq_SeeligCollaboration/12012017_cardio/seurat/all_cells/regressions/reg1/holdout_cm_filtered_cells_entrez_only_metadata.csv\")"
   ]
  },
  {
   "cell_type": "code",
   "execution_count": 35,
   "metadata": {
    "collapsed": true
   },
   "outputs": [],
   "source": [
    "holdout_cardioAICS <- t(holdout_cardioAICS)\n",
    "\n",
    "diff_day <- holdout_cell_metadata$day\n",
    "\n",
    "diff_day <- gsub('D12|D14', \"early\", diff_day)\n",
    "diff_day <- gsub('D24|D26', \"late\", diff_day)\n",
    "names(diff_day) <- holdout_cell_metadata$X"
   ]
  },
  {
   "cell_type": "code",
   "execution_count": 37,
   "metadata": {
    "collapsed": true
   },
   "outputs": [],
   "source": [
    "holdout_mat <- holdout_cardioAICS[,genes.use]\n",
    "holdout_mat <- as.data.frame(as.matrix(holdout_mat))"
   ]
  },
  {
   "cell_type": "code",
   "execution_count": 39,
   "metadata": {},
   "outputs": [
    {
     "data": {
      "text/html": [
       "<ol class=list-inline>\n",
       "\t<li>1642</li>\n",
       "\t<li>77</li>\n",
       "</ol>\n"
      ],
      "text/latex": [
       "\\begin{enumerate*}\n",
       "\\item 1642\n",
       "\\item 77\n",
       "\\end{enumerate*}\n"
      ],
      "text/markdown": [
       "1. 1642\n",
       "2. 77\n",
       "\n",
       "\n"
      ],
      "text/plain": [
       "[1] 1642   77"
      ]
     },
     "metadata": {},
     "output_type": "display_data"
    }
   ],
   "source": [
    "dim(holdout_mat)"
   ]
  },
  {
   "cell_type": "code",
   "execution_count": 40,
   "metadata": {
    "collapsed": true
   },
   "outputs": [],
   "source": [
    "holdout_predict <- predict(fit, newdata = holdout_mat, type = c(\"response\"))"
   ]
  },
  {
   "cell_type": "code",
   "execution_count": 43,
   "metadata": {
    "collapsed": true
   },
   "outputs": [],
   "source": [
    "get_predicted_time <- function(predict_prob) {\n",
    "    if (predict_prob < 0.5) {\n",
    "        return(\"early\")\n",
    "    } else {\n",
    "        return(\"late\")\n",
    "    }\n",
    "}"
   ]
  },
  {
   "cell_type": "code",
   "execution_count": 44,
   "metadata": {
    "collapsed": true
   },
   "outputs": [],
   "source": [
    "predicted_day <- sapply(holdout_predict, get_predicted_time, simplify = TRUE)"
   ]
  },
  {
   "cell_type": "code",
   "execution_count": 46,
   "metadata": {},
   "outputs": [
    {
     "data": {
      "text/plain": [
       "         actual\n",
       "predicted early late\n",
       "    early  1079   48\n",
       "    late     24  491"
      ]
     },
     "metadata": {},
     "output_type": "display_data"
    }
   ],
   "source": [
    "predict_actual_df <- data.frame(\"predicted\" = predicted_day, \"actual\" = diff_day)\n",
    "xtabs(~ predicted + actual, data = predict_actual_df)"
   ]
  }
 ],
 "metadata": {
  "kernelspec": {
   "display_name": "R",
   "language": "R",
   "name": "ir"
  },
  "language_info": {
   "codemirror_mode": "r",
   "file_extension": ".r",
   "mimetype": "text/x-r-source",
   "name": "R",
   "pygments_lexer": "r",
   "version": "3.4.1"
  }
 },
 "nbformat": 4,
 "nbformat_minor": 2
}
