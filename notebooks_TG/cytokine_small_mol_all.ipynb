{
 "cells": [
  {
   "cell_type": "code",
   "execution_count": 1,
   "metadata": {
    "scrolled": true
   },
   "outputs": [
    {
     "name": "stderr",
     "output_type": "stream",
     "text": [
      "Loading required package: Matrix\n",
      "Loading required package: foreach\n",
      "Loaded glmnet 2.0-13\n",
      "\n"
     ]
    }
   ],
   "source": [
    "library(glmnet)\n",
    "library(ggplot2)"
   ]
  },
  {
   "cell_type": "code",
   "execution_count": 2,
   "metadata": {
    "collapsed": true
   },
   "outputs": [],
   "source": [
    "options(stringsAsFactors = FALSE)"
   ]
  },
  {
   "cell_type": "code",
   "execution_count": 3,
   "metadata": {
    "collapsed": true,
    "scrolled": true
   },
   "outputs": [],
   "source": [
    "base_dir <- \"/allen/aics/gene-editing/RNA_seq/scRNAseq_SeeligCollaboration/12012017_cardio/seurat/all_cells/regressions/reg1/feature_selection/\""
   ]
  },
  {
   "cell_type": "code",
   "execution_count": 4,
   "metadata": {
    "collapsed": true
   },
   "outputs": [],
   "source": [
    "load(paste0(base_dir, \"cytokine_small_mol_all.RData\"))"
   ]
  },
  {
   "cell_type": "code",
   "execution_count": 5,
   "metadata": {},
   "outputs": [
    {
     "data": {
      "text/html": [
       "1000"
      ],
      "text/latex": [
       "1000"
      ],
      "text/markdown": [
       "1000"
      ],
      "text/plain": [
       "[1] 1000"
      ]
     },
     "metadata": {},
     "output_type": "display_data"
    }
   ],
   "source": [
    "length(bootstraps)"
   ]
  },
  {
   "cell_type": "code",
   "execution_count": 6,
   "metadata": {
    "collapsed": true,
    "scrolled": true
   },
   "outputs": [],
   "source": [
    "lambda_sequence <- bootstraps[[1]][[\"lambda\"]]\n",
    "genes <- rownames(coef(bootstraps[[1]], s = lambda_sequence[1]))"
   ]
  },
  {
   "cell_type": "code",
   "execution_count": 7,
   "metadata": {},
   "outputs": [
    {
     "data": {
      "text/html": [
       "<ol class=list-inline>\n",
       "\t<li>'(Intercept)'</li>\n",
       "\t<li>'TTN_HUMAN'</li>\n",
       "\t<li>'AATF_HUMAN'</li>\n",
       "\t<li>'NEXN_HUMAN'</li>\n",
       "\t<li>'SOD2_HUMAN'</li>\n",
       "\t<li>'MALAT1_HUMAN'</li>\n",
       "</ol>\n"
      ],
      "text/latex": [
       "\\begin{enumerate*}\n",
       "\\item '(Intercept)'\n",
       "\\item 'TTN\\_HUMAN'\n",
       "\\item 'AATF\\_HUMAN'\n",
       "\\item 'NEXN\\_HUMAN'\n",
       "\\item 'SOD2\\_HUMAN'\n",
       "\\item 'MALAT1\\_HUMAN'\n",
       "\\end{enumerate*}\n"
      ],
      "text/markdown": [
       "1. '(Intercept)'\n",
       "2. 'TTN_HUMAN'\n",
       "3. 'AATF_HUMAN'\n",
       "4. 'NEXN_HUMAN'\n",
       "5. 'SOD2_HUMAN'\n",
       "6. 'MALAT1_HUMAN'\n",
       "\n",
       "\n"
      ],
      "text/plain": [
       "[1] \"(Intercept)\"  \"TTN_HUMAN\"    \"AATF_HUMAN\"   \"NEXN_HUMAN\"   \"SOD2_HUMAN\"  \n",
       "[6] \"MALAT1_HUMAN\""
      ]
     },
     "metadata": {},
     "output_type": "display_data"
    }
   ],
   "source": [
    "head(genes)"
   ]
  },
  {
   "cell_type": "code",
   "execution_count": 8,
   "metadata": {},
   "outputs": [
    {
     "data": {
      "text/html": [
       "<ol class=list-inline>\n",
       "\t<li>0.56301196083732</li>\n",
       "\t<li>0.535036615565917</li>\n",
       "\t<li>0.508451329471748</li>\n",
       "\t<li>0.483187032289639</li>\n",
       "\t<li>0.459178085767678</li>\n",
       "\t<li>0.436362113134862</li>\n",
       "</ol>\n"
      ],
      "text/latex": [
       "\\begin{enumerate*}\n",
       "\\item 0.56301196083732\n",
       "\\item 0.535036615565917\n",
       "\\item 0.508451329471748\n",
       "\\item 0.483187032289639\n",
       "\\item 0.459178085767678\n",
       "\\item 0.436362113134862\n",
       "\\end{enumerate*}\n"
      ],
      "text/markdown": [
       "1. 0.56301196083732\n",
       "2. 0.535036615565917\n",
       "3. 0.508451329471748\n",
       "4. 0.483187032289639\n",
       "5. 0.459178085767678\n",
       "6. 0.436362113134862\n",
       "\n",
       "\n"
      ],
      "text/plain": [
       "[1] 0.5630120 0.5350366 0.5084513 0.4831870 0.4591781 0.4363621"
      ]
     },
     "metadata": {},
     "output_type": "display_data"
    }
   ],
   "source": [
    "head(lambda_sequence)"
   ]
  },
  {
   "cell_type": "code",
   "execution_count": 9,
   "metadata": {
    "collapsed": true
   },
   "outputs": [],
   "source": [
    "genes <- genes[2:length(genes)]"
   ]
  },
  {
   "cell_type": "code",
   "execution_count": 10,
   "metadata": {},
   "outputs": [
    {
     "data": {
      "text/html": [
       "<ol class=list-inline>\n",
       "\t<li>'TTN_HUMAN'</li>\n",
       "\t<li>'AATF_HUMAN'</li>\n",
       "\t<li>'NEXN_HUMAN'</li>\n",
       "\t<li>'SOD2_HUMAN'</li>\n",
       "\t<li>'MALAT1_HUMAN'</li>\n",
       "\t<li>'PIGP_HUMAN'</li>\n",
       "</ol>\n"
      ],
      "text/latex": [
       "\\begin{enumerate*}\n",
       "\\item 'TTN\\_HUMAN'\n",
       "\\item 'AATF\\_HUMAN'\n",
       "\\item 'NEXN\\_HUMAN'\n",
       "\\item 'SOD2\\_HUMAN'\n",
       "\\item 'MALAT1\\_HUMAN'\n",
       "\\item 'PIGP\\_HUMAN'\n",
       "\\end{enumerate*}\n"
      ],
      "text/markdown": [
       "1. 'TTN_HUMAN'\n",
       "2. 'AATF_HUMAN'\n",
       "3. 'NEXN_HUMAN'\n",
       "4. 'SOD2_HUMAN'\n",
       "5. 'MALAT1_HUMAN'\n",
       "6. 'PIGP_HUMAN'\n",
       "\n",
       "\n"
      ],
      "text/plain": [
       "[1] \"TTN_HUMAN\"    \"AATF_HUMAN\"   \"NEXN_HUMAN\"   \"SOD2_HUMAN\"   \"MALAT1_HUMAN\"\n",
       "[6] \"PIGP_HUMAN\"  "
      ]
     },
     "metadata": {},
     "output_type": "display_data"
    },
    {
     "data": {
      "text/html": [
       "22187"
      ],
      "text/latex": [
       "22187"
      ],
      "text/markdown": [
       "22187"
      ],
      "text/plain": [
       "[1] 22187"
      ]
     },
     "metadata": {},
     "output_type": "display_data"
    }
   ],
   "source": [
    "head(genes)\n",
    "length(genes)\n",
    "num_genes <- length(genes)"
   ]
  },
  {
   "cell_type": "code",
   "execution_count": 11,
   "metadata": {
    "collapsed": true
   },
   "outputs": [],
   "source": [
    "nonzero_gene_count <- c()\n",
    "lambda <- min(lambda_sequence)\n",
    "\n",
    "genes_coeff <- coef(bootstraps[[1]], s = lambda)\n",
    "genes_coeff <- genes_coeff[2:length(genes_coeff),]\n",
    "gene_names <- names(genes_coeff)\n",
    "genes_nonzero <- gene_names[abs(genes_coeff) > 0]\n",
    "nonzero_gene_count <- c(nonzero_gene_count, length(genes_nonzero))\n",
    "\n",
    "genes_intersect <- genes_nonzero\n",
    "\n",
    "for (i in 2:length(bootstraps)) {\n",
    "    lambda_seq <- bootstraps[[i]][[\"lambda\"]]\n",
    "    if (lambda < tail(lambda_seq, n = 1)) {\n",
    "        print(i)\n",
    "    } \n",
    "    genes_coeff <- coef(bootstraps[[i]], s = lambda)\n",
    "    genes_coeff <- genes_coeff[2:length(genes_coeff),]\n",
    "    gene_names <- names(genes_coeff)\n",
    "    genes_nonzero <- gene_names[abs(genes_coeff) > 0]\n",
    "    nonzero_gene_count <- c(nonzero_gene_count, length(genes_nonzero))\n",
    "    genes_intersect <- intersect(genes_intersect, genes_nonzero)\n",
    "}"
   ]
  },
  {
   "cell_type": "markdown",
   "metadata": {},
   "source": [
    "### Non-zero genes in all rounds"
   ]
  },
  {
   "cell_type": "code",
   "execution_count": 12,
   "metadata": {},
   "outputs": [
    {
     "name": "stdout",
     "output_type": "stream",
     "text": [
      "[1] 75\n"
     ]
    },
    {
     "data": {
      "text/html": [
       "<ol class=list-inline>\n",
       "\t<li>'NLGN1_HUMAN'</li>\n",
       "\t<li>'FAM155A_HUMAN'</li>\n",
       "\t<li>'MYH6_HUMAN'</li>\n",
       "\t<li>'PTPRD_HUMAN'</li>\n",
       "\t<li>'KCNIP4_HUMAN'</li>\n",
       "\t<li>'SORCS1_HUMAN'</li>\n",
       "\t<li>'GRIN2A_HUMAN'</li>\n",
       "\t<li>'PTCHD4_HUMAN'</li>\n",
       "\t<li>'UACA_HUMAN'</li>\n",
       "\t<li>'GPC6_HUMAN'</li>\n",
       "\t<li>'CNTN5_HUMAN'</li>\n",
       "\t<li>'GPRIN3_HUMAN'</li>\n",
       "\t<li>'PEG10_HUMAN'</li>\n",
       "\t<li>'ANGPT1_HUMAN'</li>\n",
       "\t<li>'CDH11_HUMAN'</li>\n",
       "\t<li>'COL4A2_HUMAN'</li>\n",
       "\t<li>'KCNH7_HUMAN'</li>\n",
       "\t<li>'SYT1_HUMAN'</li>\n",
       "\t<li>'FN1_HUMAN'</li>\n",
       "\t<li>'TENM3_HUMAN'</li>\n",
       "\t<li>'TENM4_HUMAN'</li>\n",
       "\t<li>'RBMS3_HUMAN'</li>\n",
       "\t<li>'PPFIA2_HUMAN'</li>\n",
       "\t<li>'PLCB4_HUMAN'</li>\n",
       "\t<li>'LAMA4_HUMAN'</li>\n",
       "\t<li>'LSAMP_HUMAN'</li>\n",
       "\t<li>'SPHKAP_HUMAN'</li>\n",
       "\t<li>'EGFEM1P_HUMAN'</li>\n",
       "\t<li>'MAPK10_HUMAN'</li>\n",
       "\t<li>'DLEU1_HUMAN'</li>\n",
       "\t<li>'PDGFD_HUMAN'</li>\n",
       "\t<li>'FAT3_HUMAN'</li>\n",
       "\t<li>'HS6ST3_HUMAN'</li>\n",
       "\t<li>'PPP1R9A_HUMAN'</li>\n",
       "\t<li>'COL11A1_HUMAN'</li>\n",
       "\t<li>'CREB5_HUMAN'</li>\n",
       "\t<li>'RELN_HUMAN'</li>\n",
       "\t<li>'CAPS2_HUMAN'</li>\n",
       "\t<li>'MEF2C_HUMAN'</li>\n",
       "\t<li>'L3MBTL4_HUMAN'</li>\n",
       "\t<li>'BCAT1_HUMAN'</li>\n",
       "\t<li>'LDHA_HUMAN'</li>\n",
       "\t<li>'UNC5C_HUMAN'</li>\n",
       "\t<li>'NREP_HUMAN'</li>\n",
       "\t<li>'CASC9_HUMAN'</li>\n",
       "\t<li>'DTNA_HUMAN'</li>\n",
       "\t<li>'ANKRD44_HUMAN'</li>\n",
       "\t<li>'HSPG2_HUMAN'</li>\n",
       "\t<li>'RYR1_HUMAN'</li>\n",
       "\t<li>'NR2F2-AS1_HUMAN'</li>\n",
       "\t<li>'ADAM23_HUMAN'</li>\n",
       "\t<li>'SYNPO2_HUMAN'</li>\n",
       "\t<li>'PLCXD3_HUMAN'</li>\n",
       "\t<li>'DPYSL3_HUMAN'</li>\n",
       "\t<li>'LAMA1_HUMAN'</li>\n",
       "\t<li>'SGIP1_HUMAN'</li>\n",
       "\t<li>'TBX20_HUMAN'</li>\n",
       "\t<li>'SMARCA2_HUMAN'</li>\n",
       "\t<li>'TRPM3_HUMAN'</li>\n",
       "\t<li>'PPP1R13B_HUMAN'</li>\n",
       "\t<li>'MTUS2_HUMAN'</li>\n",
       "\t<li>'DPH6_HUMAN'</li>\n",
       "\t<li>'PKNOX2_HUMAN'</li>\n",
       "\t<li>'CKM_HUMAN'</li>\n",
       "\t<li>'ILDR2_HUMAN'</li>\n",
       "\t<li>'SOX6_HUMAN'</li>\n",
       "\t<li>'NLGN4X_HUMAN'</li>\n",
       "\t<li>'XDH_HUMAN'</li>\n",
       "\t<li>'LENG8_HUMAN'</li>\n",
       "\t<li>'PPP1R3A_HUMAN'</li>\n",
       "\t<li>'PRRX1_HUMAN'</li>\n",
       "\t<li>'PDZD2_HUMAN'</li>\n",
       "\t<li>'DMGDH_HUMAN'</li>\n",
       "\t<li>'FHL1_HUMAN'</li>\n",
       "\t<li>'RNU4-2_HUMAN'</li>\n",
       "</ol>\n"
      ],
      "text/latex": [
       "\\begin{enumerate*}\n",
       "\\item 'NLGN1\\_HUMAN'\n",
       "\\item 'FAM155A\\_HUMAN'\n",
       "\\item 'MYH6\\_HUMAN'\n",
       "\\item 'PTPRD\\_HUMAN'\n",
       "\\item 'KCNIP4\\_HUMAN'\n",
       "\\item 'SORCS1\\_HUMAN'\n",
       "\\item 'GRIN2A\\_HUMAN'\n",
       "\\item 'PTCHD4\\_HUMAN'\n",
       "\\item 'UACA\\_HUMAN'\n",
       "\\item 'GPC6\\_HUMAN'\n",
       "\\item 'CNTN5\\_HUMAN'\n",
       "\\item 'GPRIN3\\_HUMAN'\n",
       "\\item 'PEG10\\_HUMAN'\n",
       "\\item 'ANGPT1\\_HUMAN'\n",
       "\\item 'CDH11\\_HUMAN'\n",
       "\\item 'COL4A2\\_HUMAN'\n",
       "\\item 'KCNH7\\_HUMAN'\n",
       "\\item 'SYT1\\_HUMAN'\n",
       "\\item 'FN1\\_HUMAN'\n",
       "\\item 'TENM3\\_HUMAN'\n",
       "\\item 'TENM4\\_HUMAN'\n",
       "\\item 'RBMS3\\_HUMAN'\n",
       "\\item 'PPFIA2\\_HUMAN'\n",
       "\\item 'PLCB4\\_HUMAN'\n",
       "\\item 'LAMA4\\_HUMAN'\n",
       "\\item 'LSAMP\\_HUMAN'\n",
       "\\item 'SPHKAP\\_HUMAN'\n",
       "\\item 'EGFEM1P\\_HUMAN'\n",
       "\\item 'MAPK10\\_HUMAN'\n",
       "\\item 'DLEU1\\_HUMAN'\n",
       "\\item 'PDGFD\\_HUMAN'\n",
       "\\item 'FAT3\\_HUMAN'\n",
       "\\item 'HS6ST3\\_HUMAN'\n",
       "\\item 'PPP1R9A\\_HUMAN'\n",
       "\\item 'COL11A1\\_HUMAN'\n",
       "\\item 'CREB5\\_HUMAN'\n",
       "\\item 'RELN\\_HUMAN'\n",
       "\\item 'CAPS2\\_HUMAN'\n",
       "\\item 'MEF2C\\_HUMAN'\n",
       "\\item 'L3MBTL4\\_HUMAN'\n",
       "\\item 'BCAT1\\_HUMAN'\n",
       "\\item 'LDHA\\_HUMAN'\n",
       "\\item 'UNC5C\\_HUMAN'\n",
       "\\item 'NREP\\_HUMAN'\n",
       "\\item 'CASC9\\_HUMAN'\n",
       "\\item 'DTNA\\_HUMAN'\n",
       "\\item 'ANKRD44\\_HUMAN'\n",
       "\\item 'HSPG2\\_HUMAN'\n",
       "\\item 'RYR1\\_HUMAN'\n",
       "\\item 'NR2F2-AS1\\_HUMAN'\n",
       "\\item 'ADAM23\\_HUMAN'\n",
       "\\item 'SYNPO2\\_HUMAN'\n",
       "\\item 'PLCXD3\\_HUMAN'\n",
       "\\item 'DPYSL3\\_HUMAN'\n",
       "\\item 'LAMA1\\_HUMAN'\n",
       "\\item 'SGIP1\\_HUMAN'\n",
       "\\item 'TBX20\\_HUMAN'\n",
       "\\item 'SMARCA2\\_HUMAN'\n",
       "\\item 'TRPM3\\_HUMAN'\n",
       "\\item 'PPP1R13B\\_HUMAN'\n",
       "\\item 'MTUS2\\_HUMAN'\n",
       "\\item 'DPH6\\_HUMAN'\n",
       "\\item 'PKNOX2\\_HUMAN'\n",
       "\\item 'CKM\\_HUMAN'\n",
       "\\item 'ILDR2\\_HUMAN'\n",
       "\\item 'SOX6\\_HUMAN'\n",
       "\\item 'NLGN4X\\_HUMAN'\n",
       "\\item 'XDH\\_HUMAN'\n",
       "\\item 'LENG8\\_HUMAN'\n",
       "\\item 'PPP1R3A\\_HUMAN'\n",
       "\\item 'PRRX1\\_HUMAN'\n",
       "\\item 'PDZD2\\_HUMAN'\n",
       "\\item 'DMGDH\\_HUMAN'\n",
       "\\item 'FHL1\\_HUMAN'\n",
       "\\item 'RNU4-2\\_HUMAN'\n",
       "\\end{enumerate*}\n"
      ],
      "text/markdown": [
       "1. 'NLGN1_HUMAN'\n",
       "2. 'FAM155A_HUMAN'\n",
       "3. 'MYH6_HUMAN'\n",
       "4. 'PTPRD_HUMAN'\n",
       "5. 'KCNIP4_HUMAN'\n",
       "6. 'SORCS1_HUMAN'\n",
       "7. 'GRIN2A_HUMAN'\n",
       "8. 'PTCHD4_HUMAN'\n",
       "9. 'UACA_HUMAN'\n",
       "10. 'GPC6_HUMAN'\n",
       "11. 'CNTN5_HUMAN'\n",
       "12. 'GPRIN3_HUMAN'\n",
       "13. 'PEG10_HUMAN'\n",
       "14. 'ANGPT1_HUMAN'\n",
       "15. 'CDH11_HUMAN'\n",
       "16. 'COL4A2_HUMAN'\n",
       "17. 'KCNH7_HUMAN'\n",
       "18. 'SYT1_HUMAN'\n",
       "19. 'FN1_HUMAN'\n",
       "20. 'TENM3_HUMAN'\n",
       "21. 'TENM4_HUMAN'\n",
       "22. 'RBMS3_HUMAN'\n",
       "23. 'PPFIA2_HUMAN'\n",
       "24. 'PLCB4_HUMAN'\n",
       "25. 'LAMA4_HUMAN'\n",
       "26. 'LSAMP_HUMAN'\n",
       "27. 'SPHKAP_HUMAN'\n",
       "28. 'EGFEM1P_HUMAN'\n",
       "29. 'MAPK10_HUMAN'\n",
       "30. 'DLEU1_HUMAN'\n",
       "31. 'PDGFD_HUMAN'\n",
       "32. 'FAT3_HUMAN'\n",
       "33. 'HS6ST3_HUMAN'\n",
       "34. 'PPP1R9A_HUMAN'\n",
       "35. 'COL11A1_HUMAN'\n",
       "36. 'CREB5_HUMAN'\n",
       "37. 'RELN_HUMAN'\n",
       "38. 'CAPS2_HUMAN'\n",
       "39. 'MEF2C_HUMAN'\n",
       "40. 'L3MBTL4_HUMAN'\n",
       "41. 'BCAT1_HUMAN'\n",
       "42. 'LDHA_HUMAN'\n",
       "43. 'UNC5C_HUMAN'\n",
       "44. 'NREP_HUMAN'\n",
       "45. 'CASC9_HUMAN'\n",
       "46. 'DTNA_HUMAN'\n",
       "47. 'ANKRD44_HUMAN'\n",
       "48. 'HSPG2_HUMAN'\n",
       "49. 'RYR1_HUMAN'\n",
       "50. 'NR2F2-AS1_HUMAN'\n",
       "51. 'ADAM23_HUMAN'\n",
       "52. 'SYNPO2_HUMAN'\n",
       "53. 'PLCXD3_HUMAN'\n",
       "54. 'DPYSL3_HUMAN'\n",
       "55. 'LAMA1_HUMAN'\n",
       "56. 'SGIP1_HUMAN'\n",
       "57. 'TBX20_HUMAN'\n",
       "58. 'SMARCA2_HUMAN'\n",
       "59. 'TRPM3_HUMAN'\n",
       "60. 'PPP1R13B_HUMAN'\n",
       "61. 'MTUS2_HUMAN'\n",
       "62. 'DPH6_HUMAN'\n",
       "63. 'PKNOX2_HUMAN'\n",
       "64. 'CKM_HUMAN'\n",
       "65. 'ILDR2_HUMAN'\n",
       "66. 'SOX6_HUMAN'\n",
       "67. 'NLGN4X_HUMAN'\n",
       "68. 'XDH_HUMAN'\n",
       "69. 'LENG8_HUMAN'\n",
       "70. 'PPP1R3A_HUMAN'\n",
       "71. 'PRRX1_HUMAN'\n",
       "72. 'PDZD2_HUMAN'\n",
       "73. 'DMGDH_HUMAN'\n",
       "74. 'FHL1_HUMAN'\n",
       "75. 'RNU4-2_HUMAN'\n",
       "\n",
       "\n"
      ],
      "text/plain": [
       " [1] \"NLGN1_HUMAN\"     \"FAM155A_HUMAN\"   \"MYH6_HUMAN\"      \"PTPRD_HUMAN\"    \n",
       " [5] \"KCNIP4_HUMAN\"    \"SORCS1_HUMAN\"    \"GRIN2A_HUMAN\"    \"PTCHD4_HUMAN\"   \n",
       " [9] \"UACA_HUMAN\"      \"GPC6_HUMAN\"      \"CNTN5_HUMAN\"     \"GPRIN3_HUMAN\"   \n",
       "[13] \"PEG10_HUMAN\"     \"ANGPT1_HUMAN\"    \"CDH11_HUMAN\"     \"COL4A2_HUMAN\"   \n",
       "[17] \"KCNH7_HUMAN\"     \"SYT1_HUMAN\"      \"FN1_HUMAN\"       \"TENM3_HUMAN\"    \n",
       "[21] \"TENM4_HUMAN\"     \"RBMS3_HUMAN\"     \"PPFIA2_HUMAN\"    \"PLCB4_HUMAN\"    \n",
       "[25] \"LAMA4_HUMAN\"     \"LSAMP_HUMAN\"     \"SPHKAP_HUMAN\"    \"EGFEM1P_HUMAN\"  \n",
       "[29] \"MAPK10_HUMAN\"    \"DLEU1_HUMAN\"     \"PDGFD_HUMAN\"     \"FAT3_HUMAN\"     \n",
       "[33] \"HS6ST3_HUMAN\"    \"PPP1R9A_HUMAN\"   \"COL11A1_HUMAN\"   \"CREB5_HUMAN\"    \n",
       "[37] \"RELN_HUMAN\"      \"CAPS2_HUMAN\"     \"MEF2C_HUMAN\"     \"L3MBTL4_HUMAN\"  \n",
       "[41] \"BCAT1_HUMAN\"     \"LDHA_HUMAN\"      \"UNC5C_HUMAN\"     \"NREP_HUMAN\"     \n",
       "[45] \"CASC9_HUMAN\"     \"DTNA_HUMAN\"      \"ANKRD44_HUMAN\"   \"HSPG2_HUMAN\"    \n",
       "[49] \"RYR1_HUMAN\"      \"NR2F2-AS1_HUMAN\" \"ADAM23_HUMAN\"    \"SYNPO2_HUMAN\"   \n",
       "[53] \"PLCXD3_HUMAN\"    \"DPYSL3_HUMAN\"    \"LAMA1_HUMAN\"     \"SGIP1_HUMAN\"    \n",
       "[57] \"TBX20_HUMAN\"     \"SMARCA2_HUMAN\"   \"TRPM3_HUMAN\"     \"PPP1R13B_HUMAN\" \n",
       "[61] \"MTUS2_HUMAN\"     \"DPH6_HUMAN\"      \"PKNOX2_HUMAN\"    \"CKM_HUMAN\"      \n",
       "[65] \"ILDR2_HUMAN\"     \"SOX6_HUMAN\"      \"NLGN4X_HUMAN\"    \"XDH_HUMAN\"      \n",
       "[69] \"LENG8_HUMAN\"     \"PPP1R3A_HUMAN\"   \"PRRX1_HUMAN\"     \"PDZD2_HUMAN\"    \n",
       "[73] \"DMGDH_HUMAN\"     \"FHL1_HUMAN\"      \"RNU4-2_HUMAN\"   "
      ]
     },
     "metadata": {},
     "output_type": "display_data"
    }
   ],
   "source": [
    "print(length(genes_intersect))\n",
    "genes_intersect"
   ]
  },
  {
   "cell_type": "markdown",
   "metadata": {},
   "source": [
    "### Distribution of non-zero genes at min lambda"
   ]
  },
  {
   "cell_type": "code",
   "execution_count": 13,
   "metadata": {
    "scrolled": false
   },
   "outputs": [
    {
     "name": "stderr",
     "output_type": "stream",
     "text": [
      "`stat_bin()` using `bins = 30`. Pick better value with `binwidth`.\n"
     ]
    },
    {
     "data": {},
     "metadata": {},
     "output_type": "display_data"
    },
    {
     "data": {
      "image/png": "[encoded data removed]",
      "text/plain": [
       "plot without title"
      ]
     },
     "metadata": {},
     "output_type": "display_data"
    }
   ],
   "source": [
    "nonzero_gene_count <- as.data.frame(nonzero_gene_count)\n",
    "colnames(nonzero_gene_count) <- \"nonzeroGenes\"\n",
    "ggplot(nonzero_gene_count) + geom_histogram(aes(nonzeroGenes))"
   ]
  },
  {
   "cell_type": "markdown",
   "metadata": {},
   "source": [
    "### Compare gene list to previous analysis (remove_1s2exp data)"
   ]
  },
  {
   "cell_type": "code",
   "execution_count": 14,
   "metadata": {},
   "outputs": [
    {
     "data": {
      "text/html": [
       "<ol class=list-inline>\n",
       "\t<li>'NLGN1_HUMAN'</li>\n",
       "\t<li>'FAM155A_HUMAN'</li>\n",
       "\t<li>'KCNIP4_HUMAN'</li>\n",
       "\t<li>'SORCS1_HUMAN'</li>\n",
       "\t<li>'GRIN2A_HUMAN'</li>\n",
       "\t<li>'PTCHD4_HUMAN'</li>\n",
       "\t<li>'UACA_HUMAN'</li>\n",
       "\t<li>'GPC6_HUMAN'</li>\n",
       "\t<li>'CNTN5_HUMAN'</li>\n",
       "\t<li>'GPRIN3_HUMAN'</li>\n",
       "\t<li>'PEG10_HUMAN'</li>\n",
       "\t<li>'ANGPT1_HUMAN'</li>\n",
       "\t<li>'CDH11_HUMAN'</li>\n",
       "\t<li>'COL4A2_HUMAN'</li>\n",
       "\t<li>'KCNH7_HUMAN'</li>\n",
       "\t<li>'SYT1_HUMAN'</li>\n",
       "\t<li>'FN1_HUMAN'</li>\n",
       "\t<li>'TENM3_HUMAN'</li>\n",
       "\t<li>'TENM4_HUMAN'</li>\n",
       "\t<li>'RBMS3_HUMAN'</li>\n",
       "\t<li>'PLCB4_HUMAN'</li>\n",
       "\t<li>'LSAMP_HUMAN'</li>\n",
       "\t<li>'SPHKAP_HUMAN'</li>\n",
       "\t<li>'EGFEM1P_HUMAN'</li>\n",
       "\t<li>'DLEU1_HUMAN'</li>\n",
       "\t<li>'PDGFD_HUMAN'</li>\n",
       "\t<li>'HS6ST3_HUMAN'</li>\n",
       "\t<li>'PPP1R9A_HUMAN'</li>\n",
       "\t<li>'COL11A1_HUMAN'</li>\n",
       "\t<li>'RELN_HUMAN'</li>\n",
       "\t<li>'MEF2C_HUMAN'</li>\n",
       "\t<li>'BCAT1_HUMAN'</li>\n",
       "\t<li>'LDHA_HUMAN'</li>\n",
       "\t<li>'UNC5C_HUMAN'</li>\n",
       "\t<li>'NREP_HUMAN'</li>\n",
       "\t<li>'CASC9_HUMAN'</li>\n",
       "\t<li>'ANKRD44_HUMAN'</li>\n",
       "\t<li>'NR2F2-AS1_HUMAN'</li>\n",
       "\t<li>'ADAM23_HUMAN'</li>\n",
       "\t<li>'PLCXD3_HUMAN'</li>\n",
       "\t<li>'DPYSL3_HUMAN'</li>\n",
       "\t<li>'LAMA1_HUMAN'</li>\n",
       "\t<li>'SGIP1_HUMAN'</li>\n",
       "\t<li>'SMARCA2_HUMAN'</li>\n",
       "\t<li>'PPP1R13B_HUMAN'</li>\n",
       "\t<li>'MTUS2_HUMAN'</li>\n",
       "\t<li>'PKNOX2_HUMAN'</li>\n",
       "\t<li>'CKM_HUMAN'</li>\n",
       "\t<li>'SOX6_HUMAN'</li>\n",
       "\t<li>'XDH_HUMAN'</li>\n",
       "\t<li>'LENG8_HUMAN'</li>\n",
       "\t<li>'PPP1R3A_HUMAN'</li>\n",
       "\t<li>'PRRX1_HUMAN'</li>\n",
       "\t<li>'PDZD2_HUMAN'</li>\n",
       "\t<li>'FHL1_HUMAN'</li>\n",
       "\t<li>'RNU4-2_HUMAN'</li>\n",
       "</ol>\n"
      ],
      "text/latex": [
       "\\begin{enumerate*}\n",
       "\\item 'NLGN1\\_HUMAN'\n",
       "\\item 'FAM155A\\_HUMAN'\n",
       "\\item 'KCNIP4\\_HUMAN'\n",
       "\\item 'SORCS1\\_HUMAN'\n",
       "\\item 'GRIN2A\\_HUMAN'\n",
       "\\item 'PTCHD4\\_HUMAN'\n",
       "\\item 'UACA\\_HUMAN'\n",
       "\\item 'GPC6\\_HUMAN'\n",
       "\\item 'CNTN5\\_HUMAN'\n",
       "\\item 'GPRIN3\\_HUMAN'\n",
       "\\item 'PEG10\\_HUMAN'\n",
       "\\item 'ANGPT1\\_HUMAN'\n",
       "\\item 'CDH11\\_HUMAN'\n",
       "\\item 'COL4A2\\_HUMAN'\n",
       "\\item 'KCNH7\\_HUMAN'\n",
       "\\item 'SYT1\\_HUMAN'\n",
       "\\item 'FN1\\_HUMAN'\n",
       "\\item 'TENM3\\_HUMAN'\n",
       "\\item 'TENM4\\_HUMAN'\n",
       "\\item 'RBMS3\\_HUMAN'\n",
       "\\item 'PLCB4\\_HUMAN'\n",
       "\\item 'LSAMP\\_HUMAN'\n",
       "\\item 'SPHKAP\\_HUMAN'\n",
       "\\item 'EGFEM1P\\_HUMAN'\n",
       "\\item 'DLEU1\\_HUMAN'\n",
       "\\item 'PDGFD\\_HUMAN'\n",
       "\\item 'HS6ST3\\_HUMAN'\n",
       "\\item 'PPP1R9A\\_HUMAN'\n",
       "\\item 'COL11A1\\_HUMAN'\n",
       "\\item 'RELN\\_HUMAN'\n",
       "\\item 'MEF2C\\_HUMAN'\n",
       "\\item 'BCAT1\\_HUMAN'\n",
       "\\item 'LDHA\\_HUMAN'\n",
       "\\item 'UNC5C\\_HUMAN'\n",
       "\\item 'NREP\\_HUMAN'\n",
       "\\item 'CASC9\\_HUMAN'\n",
       "\\item 'ANKRD44\\_HUMAN'\n",
       "\\item 'NR2F2-AS1\\_HUMAN'\n",
       "\\item 'ADAM23\\_HUMAN'\n",
       "\\item 'PLCXD3\\_HUMAN'\n",
       "\\item 'DPYSL3\\_HUMAN'\n",
       "\\item 'LAMA1\\_HUMAN'\n",
       "\\item 'SGIP1\\_HUMAN'\n",
       "\\item 'SMARCA2\\_HUMAN'\n",
       "\\item 'PPP1R13B\\_HUMAN'\n",
       "\\item 'MTUS2\\_HUMAN'\n",
       "\\item 'PKNOX2\\_HUMAN'\n",
       "\\item 'CKM\\_HUMAN'\n",
       "\\item 'SOX6\\_HUMAN'\n",
       "\\item 'XDH\\_HUMAN'\n",
       "\\item 'LENG8\\_HUMAN'\n",
       "\\item 'PPP1R3A\\_HUMAN'\n",
       "\\item 'PRRX1\\_HUMAN'\n",
       "\\item 'PDZD2\\_HUMAN'\n",
       "\\item 'FHL1\\_HUMAN'\n",
       "\\item 'RNU4-2\\_HUMAN'\n",
       "\\end{enumerate*}\n"
      ],
      "text/markdown": [
       "1. 'NLGN1_HUMAN'\n",
       "2. 'FAM155A_HUMAN'\n",
       "3. 'KCNIP4_HUMAN'\n",
       "4. 'SORCS1_HUMAN'\n",
       "5. 'GRIN2A_HUMAN'\n",
       "6. 'PTCHD4_HUMAN'\n",
       "7. 'UACA_HUMAN'\n",
       "8. 'GPC6_HUMAN'\n",
       "9. 'CNTN5_HUMAN'\n",
       "10. 'GPRIN3_HUMAN'\n",
       "11. 'PEG10_HUMAN'\n",
       "12. 'ANGPT1_HUMAN'\n",
       "13. 'CDH11_HUMAN'\n",
       "14. 'COL4A2_HUMAN'\n",
       "15. 'KCNH7_HUMAN'\n",
       "16. 'SYT1_HUMAN'\n",
       "17. 'FN1_HUMAN'\n",
       "18. 'TENM3_HUMAN'\n",
       "19. 'TENM4_HUMAN'\n",
       "20. 'RBMS3_HUMAN'\n",
       "21. 'PLCB4_HUMAN'\n",
       "22. 'LSAMP_HUMAN'\n",
       "23. 'SPHKAP_HUMAN'\n",
       "24. 'EGFEM1P_HUMAN'\n",
       "25. 'DLEU1_HUMAN'\n",
       "26. 'PDGFD_HUMAN'\n",
       "27. 'HS6ST3_HUMAN'\n",
       "28. 'PPP1R9A_HUMAN'\n",
       "29. 'COL11A1_HUMAN'\n",
       "30. 'RELN_HUMAN'\n",
       "31. 'MEF2C_HUMAN'\n",
       "32. 'BCAT1_HUMAN'\n",
       "33. 'LDHA_HUMAN'\n",
       "34. 'UNC5C_HUMAN'\n",
       "35. 'NREP_HUMAN'\n",
       "36. 'CASC9_HUMAN'\n",
       "37. 'ANKRD44_HUMAN'\n",
       "38. 'NR2F2-AS1_HUMAN'\n",
       "39. 'ADAM23_HUMAN'\n",
       "40. 'PLCXD3_HUMAN'\n",
       "41. 'DPYSL3_HUMAN'\n",
       "42. 'LAMA1_HUMAN'\n",
       "43. 'SGIP1_HUMAN'\n",
       "44. 'SMARCA2_HUMAN'\n",
       "45. 'PPP1R13B_HUMAN'\n",
       "46. 'MTUS2_HUMAN'\n",
       "47. 'PKNOX2_HUMAN'\n",
       "48. 'CKM_HUMAN'\n",
       "49. 'SOX6_HUMAN'\n",
       "50. 'XDH_HUMAN'\n",
       "51. 'LENG8_HUMAN'\n",
       "52. 'PPP1R3A_HUMAN'\n",
       "53. 'PRRX1_HUMAN'\n",
       "54. 'PDZD2_HUMAN'\n",
       "55. 'FHL1_HUMAN'\n",
       "56. 'RNU4-2_HUMAN'\n",
       "\n",
       "\n"
      ],
      "text/plain": [
       " [1] \"NLGN1_HUMAN\"     \"FAM155A_HUMAN\"   \"KCNIP4_HUMAN\"    \"SORCS1_HUMAN\"   \n",
       " [5] \"GRIN2A_HUMAN\"    \"PTCHD4_HUMAN\"    \"UACA_HUMAN\"      \"GPC6_HUMAN\"     \n",
       " [9] \"CNTN5_HUMAN\"     \"GPRIN3_HUMAN\"    \"PEG10_HUMAN\"     \"ANGPT1_HUMAN\"   \n",
       "[13] \"CDH11_HUMAN\"     \"COL4A2_HUMAN\"    \"KCNH7_HUMAN\"     \"SYT1_HUMAN\"     \n",
       "[17] \"FN1_HUMAN\"       \"TENM3_HUMAN\"     \"TENM4_HUMAN\"     \"RBMS3_HUMAN\"    \n",
       "[21] \"PLCB4_HUMAN\"     \"LSAMP_HUMAN\"     \"SPHKAP_HUMAN\"    \"EGFEM1P_HUMAN\"  \n",
       "[25] \"DLEU1_HUMAN\"     \"PDGFD_HUMAN\"     \"HS6ST3_HUMAN\"    \"PPP1R9A_HUMAN\"  \n",
       "[29] \"COL11A1_HUMAN\"   \"RELN_HUMAN\"      \"MEF2C_HUMAN\"     \"BCAT1_HUMAN\"    \n",
       "[33] \"LDHA_HUMAN\"      \"UNC5C_HUMAN\"     \"NREP_HUMAN\"      \"CASC9_HUMAN\"    \n",
       "[37] \"ANKRD44_HUMAN\"   \"NR2F2-AS1_HUMAN\" \"ADAM23_HUMAN\"    \"PLCXD3_HUMAN\"   \n",
       "[41] \"DPYSL3_HUMAN\"    \"LAMA1_HUMAN\"     \"SGIP1_HUMAN\"     \"SMARCA2_HUMAN\"  \n",
       "[45] \"PPP1R13B_HUMAN\"  \"MTUS2_HUMAN\"     \"PKNOX2_HUMAN\"    \"CKM_HUMAN\"      \n",
       "[49] \"SOX6_HUMAN\"      \"XDH_HUMAN\"       \"LENG8_HUMAN\"     \"PPP1R3A_HUMAN\"  \n",
       "[53] \"PRRX1_HUMAN\"     \"PDZD2_HUMAN\"     \"FHL1_HUMAN\"      \"RNU4-2_HUMAN\"   "
      ]
     },
     "metadata": {},
     "output_type": "display_data"
    },
    {
     "data": {
      "text/html": [
       "56"
      ],
      "text/latex": [
       "56"
      ],
      "text/markdown": [
       "56"
      ],
      "text/plain": [
       "[1] 56"
      ]
     },
     "metadata": {},
     "output_type": "display_data"
    }
   ],
   "source": [
    "remove_1st2exp_genes <- c('NLGN1_HUMAN','FAM155A_HUMAN','ARHGAP6_HUMAN','KCNIP4_HUMAN','SORCS1_HUMAN','ROBO2_HUMAN','GRIN2A_HUMAN','PDE3A_HUMAN','PTCHD4_HUMAN','UACA_HUMAN','GPC6_HUMAN','CMYA5_HUMAN','CNTN5_HUMAN','GPRIN3_HUMAN','TECRL_HUMAN','PEG10_HUMAN','ANGPT1_HUMAN','CDH11_HUMAN','COL4A2_HUMAN','KCNH7_HUMAN','TPM1_HUMAN','SYT1_HUMAN','PLEKHA7_HUMAN','FN1_HUMAN','TENM3_HUMAN','TENM4_HUMAN','RBMS3_HUMAN','RSPO3_HUMAN','AFF3_HUMAN','PLCB4_HUMAN','LSAMP_HUMAN','SPHKAP_HUMAN','AMOTL1_HUMAN','EGFEM1P_HUMAN','ANXA3_HUMAN','DLEU1_HUMAN','PDGFD_HUMAN','NFIB_HUMAN','HS6ST3_HUMAN','PPP1R9A_HUMAN','COL11A1_HUMAN','RELN_HUMAN','MEF2C_HUMAN','BCAT1_HUMAN','NRP2_HUMAN','LDHA_HUMAN','UNC5C_HUMAN','NREP_HUMAN','CASC9_HUMAN','ANKRD44_HUMAN','NR2F2-AS1_HUMAN','ADAM23_HUMAN','PLCXD3_HUMAN','DPYSL3_HUMAN','LAMA1_HUMAN','SGIP1_HUMAN','SMARCA2_HUMAN','PPP1R13B_HUMAN','MTUS2_HUMAN','PKNOX2_HUMAN','CKM_HUMAN','QRFPR_HUMAN','PPP1R14C_HUMAN','SOX6_HUMAN','XDH_HUMAN','LENG8_HUMAN','PPP1R3A_HUMAN','PRRX1_HUMAN','PDZD2_HUMAN','ANO4_HUMAN','GADL1_HUMAN','MYRFL_HUMAN','EEF1A1_HUMAN','FHL1_HUMAN','TCAP_HUMAN','RNU4-2_HUMAN')\n",
    "x <- intersect(remove_1st2exp_genes, genes_intersect)\n",
    "x\n",
    "length(x)"
   ]
  },
  {
   "cell_type": "markdown",
   "metadata": {},
   "source": [
    "56 genes are found in both (all cell analysis including non-cardios vs. remove1st2exp w/ TNNT2 == 0 cells filtered out)"
   ]
  },
  {
   "cell_type": "markdown",
   "metadata": {},
   "source": [
    "### Caclulate fold changes for genes"
   ]
  },
  {
   "cell_type": "code",
   "execution_count": 15,
   "metadata": {
    "scrolled": false
   },
   "outputs": [
    {
     "name": "stderr",
     "output_type": "stream",
     "text": [
      "\n",
      "Attaching package: ‘dplyr’\n",
      "\n",
      "The following objects are masked from ‘package:stats’:\n",
      "\n",
      "    filter, lag\n",
      "\n",
      "The following objects are masked from ‘package:base’:\n",
      "\n",
      "    intersect, setdiff, setequal, union\n",
      "\n"
     ]
    }
   ],
   "source": [
    "library(dplyr)"
   ]
  },
  {
   "cell_type": "code",
   "execution_count": 16,
   "metadata": {
    "collapsed": true
   },
   "outputs": [],
   "source": [
    "load(\"/allen/aics/gene-editing/RNA_seq/scRNAseq_SeeligCollaboration/12012017_cardio/seurat/all_cells/regressions/reg1/train_cm_filtered_cells_entrez_only_normalized_counts.RData\")"
   ]
  },
  {
   "cell_type": "code",
   "execution_count": 17,
   "metadata": {
    "collapsed": true
   },
   "outputs": [],
   "source": [
    "cell_metadata <- read.csv(\"/allen/aics/gene-editing/RNA_seq/scRNAseq_SeeligCollaboration/12012017_cardio/seurat/all_cells/regressions/reg1/train_cm_filtered_cells_entrez_only_metadata.csv\")"
   ]
  },
  {
   "cell_type": "code",
   "execution_count": 18,
   "metadata": {},
   "outputs": [
    {
     "data": {
      "text/html": [
       "<table>\n",
       "<thead><tr><th scope=col>X</th><th scope=col>nGene</th><th scope=col>nUMI</th><th scope=col>orig.ident</th><th scope=col>day</th><th scope=col>protocol</th><th scope=col>cell_line</th><th scope=col>diff_harvest</th><th scope=col>passage</th><th scope=col>scientist</th><th scope=col>diff_exp</th><th scope=col>sci_exp</th><th scope=col>ctnt</th><th scope=col>cell_sample</th></tr></thead>\n",
       "<tbody>\n",
       "\t<tr><td>AAACATCGAAACATCG_14_6 </td><td>1577                  </td><td>2986                  </td><td>SeuratProject         </td><td>D12                   </td><td>Lian                  </td><td>AICS11                </td><td>08_8_2017             </td><td>44                    </td><td>KG                    </td><td>7_24_2017             </td><td>KG_7_24               </td><td>90                    </td><td>15                    </td></tr>\n",
       "\t<tr><td>AAACATCGAAACATCG_21_10</td><td> 578                  </td><td> 727                  </td><td>SeuratProject         </td><td>D14                   </td><td>Murry                 </td><td>AICS0                 </td><td>08_11_2017            </td><td>28                    </td><td>KG                    </td><td>7_27_2017             </td><td>KG_7_27               </td><td>78                    </td><td>22                    </td></tr>\n",
       "\t<tr><td>AAACATCGAACAACCA_2_9  </td><td> 489                  </td><td> 606                  </td><td>SeuratProject         </td><td>D12                   </td><td>Lian                  </td><td>AICS37                </td><td>07_24_2017            </td><td>34                    </td><td>AN                    </td><td>7_10_2017             </td><td>AN_7_10               </td><td>89                    </td><td> 3                    </td></tr>\n",
       "\t<tr><td>AAACATCGAACAACCA_5_8  </td><td>1117                  </td><td>1511                  </td><td>SeuratProject         </td><td>D14                   </td><td>Murry                 </td><td>AICS0                 </td><td>07_28_2017            </td><td>32                    </td><td>AN                    </td><td>7_13_2017             </td><td>AN_7_13               </td><td>75                    </td><td> 6                    </td></tr>\n",
       "\t<tr><td>AAACATCGAACGCTTA_32_8 </td><td> 940                  </td><td>1599                  </td><td>SeuratProject         </td><td>D24                   </td><td>Lian                  </td><td>AICS11                </td><td>08_18_2017            </td><td>44                    </td><td>KG                    </td><td>7_24_2017             </td><td>KG_7_24               </td><td>92                    </td><td>33                    </td></tr>\n",
       "\t<tr><td>AAACATCGAACTCACC_26_2 </td><td>2282                  </td><td>4392                  </td><td>SeuratProject         </td><td>D12                   </td><td>Lian                  </td><td>AICS37                </td><td>08_11_2017            </td><td>37                    </td><td>KG                    </td><td>7_27_2017             </td><td>KG_7_27               </td><td>87                    </td><td>27                    </td></tr>\n",
       "</tbody>\n",
       "</table>\n"
      ],
      "text/latex": [
       "\\begin{tabular}{r|llllllllllllll}\n",
       " X & nGene & nUMI & orig.ident & day & protocol & cell\\_line & diff\\_harvest & passage & scientist & diff\\_exp & sci\\_exp & ctnt & cell\\_sample\\\\\n",
       "\\hline\n",
       "\t AAACATCGAAACATCG\\_14\\_6  & 1577                       & 2986                       & SeuratProject              & D12                        & Lian                       & AICS11                     & 08\\_8\\_2017              & 44                         & KG                         & 7\\_24\\_2017              & KG\\_7\\_24                & 90                         & 15                        \\\\\n",
       "\t AAACATCGAAACATCG\\_21\\_10 &  578                       &  727                       & SeuratProject              & D14                        & Murry                      & AICS0                      & 08\\_11\\_2017             & 28                         & KG                         & 7\\_27\\_2017              & KG\\_7\\_27                & 78                         & 22                        \\\\\n",
       "\t AAACATCGAACAACCA\\_2\\_9   &  489                       &  606                       & SeuratProject              & D12                        & Lian                       & AICS37                     & 07\\_24\\_2017             & 34                         & AN                         & 7\\_10\\_2017              & AN\\_7\\_10                & 89                         &  3                        \\\\\n",
       "\t AAACATCGAACAACCA\\_5\\_8   & 1117                       & 1511                       & SeuratProject              & D14                        & Murry                      & AICS0                      & 07\\_28\\_2017             & 32                         & AN                         & 7\\_13\\_2017              & AN\\_7\\_13                & 75                         &  6                        \\\\\n",
       "\t AAACATCGAACGCTTA\\_32\\_8  &  940                       & 1599                       & SeuratProject              & D24                        & Lian                       & AICS11                     & 08\\_18\\_2017             & 44                         & KG                         & 7\\_24\\_2017              & KG\\_7\\_24                & 92                         & 33                        \\\\\n",
       "\t AAACATCGAACTCACC\\_26\\_2  & 2282                       & 4392                       & SeuratProject              & D12                        & Lian                       & AICS37                     & 08\\_11\\_2017             & 37                         & KG                         & 7\\_27\\_2017              & KG\\_7\\_27                & 87                         & 27                        \\\\\n",
       "\\end{tabular}\n"
      ],
      "text/markdown": [
       "\n",
       "X | nGene | nUMI | orig.ident | day | protocol | cell_line | diff_harvest | passage | scientist | diff_exp | sci_exp | ctnt | cell_sample | \n",
       "|---|---|---|---|---|---|\n",
       "| AAACATCGAAACATCG_14_6  | 1577                   | 2986                   | SeuratProject          | D12                    | Lian                   | AICS11                 | 08_8_2017              | 44                     | KG                     | 7_24_2017              | KG_7_24                | 90                     | 15                     | \n",
       "| AAACATCGAAACATCG_21_10 |  578                   |  727                   | SeuratProject          | D14                    | Murry                  | AICS0                  | 08_11_2017             | 28                     | KG                     | 7_27_2017              | KG_7_27                | 78                     | 22                     | \n",
       "| AAACATCGAACAACCA_2_9   |  489                   |  606                   | SeuratProject          | D12                    | Lian                   | AICS37                 | 07_24_2017             | 34                     | AN                     | 7_10_2017              | AN_7_10                | 89                     |  3                     | \n",
       "| AAACATCGAACAACCA_5_8   | 1117                   | 1511                   | SeuratProject          | D14                    | Murry                  | AICS0                  | 07_28_2017             | 32                     | AN                     | 7_13_2017              | AN_7_13                | 75                     |  6                     | \n",
       "| AAACATCGAACGCTTA_32_8  |  940                   | 1599                   | SeuratProject          | D24                    | Lian                   | AICS11                 | 08_18_2017             | 44                     | KG                     | 7_24_2017              | KG_7_24                | 92                     | 33                     | \n",
       "| AAACATCGAACTCACC_26_2  | 2282                   | 4392                   | SeuratProject          | D12                    | Lian                   | AICS37                 | 08_11_2017             | 37                     | KG                     | 7_27_2017              | KG_7_27                | 87                     | 27                     | \n",
       "\n",
       "\n"
      ],
      "text/plain": [
       "  X                      nGene nUMI orig.ident    day protocol cell_line\n",
       "1 AAACATCGAAACATCG_14_6  1577  2986 SeuratProject D12 Lian     AICS11   \n",
       "2 AAACATCGAAACATCG_21_10  578   727 SeuratProject D14 Murry    AICS0    \n",
       "3 AAACATCGAACAACCA_2_9    489   606 SeuratProject D12 Lian     AICS37   \n",
       "4 AAACATCGAACAACCA_5_8   1117  1511 SeuratProject D14 Murry    AICS0    \n",
       "5 AAACATCGAACGCTTA_32_8   940  1599 SeuratProject D24 Lian     AICS11   \n",
       "6 AAACATCGAACTCACC_26_2  2282  4392 SeuratProject D12 Lian     AICS37   \n",
       "  diff_harvest passage scientist diff_exp  sci_exp ctnt cell_sample\n",
       "1 08_8_2017    44      KG        7_24_2017 KG_7_24 90   15         \n",
       "2 08_11_2017   28      KG        7_27_2017 KG_7_27 78   22         \n",
       "3 07_24_2017   34      AN        7_10_2017 AN_7_10 89    3         \n",
       "4 07_28_2017   32      AN        7_13_2017 AN_7_13 75    6         \n",
       "5 08_18_2017   44      KG        7_24_2017 KG_7_24 92   33         \n",
       "6 08_11_2017   37      KG        7_27_2017 KG_7_27 87   27         "
      ]
     },
     "metadata": {},
     "output_type": "display_data"
    }
   ],
   "source": [
    "head(cell_metadata)"
   ]
  },
  {
   "cell_type": "code",
   "execution_count": 19,
   "metadata": {
    "collapsed": true
   },
   "outputs": [],
   "source": [
    "cardioAICS <- t(cardioAICS)\n",
    "\n",
    "diff_protocol <- cell_metadata$protocol\n",
    "\n",
    "names(diff_protocol) <- cell_metadata$X"
   ]
  },
  {
   "cell_type": "code",
   "execution_count": 20,
   "metadata": {
    "collapsed": true
   },
   "outputs": [],
   "source": [
    "genes.use <- genes_intersect\n",
    "\n",
    "cytokine_cells <- cell_metadata$X[cell_metadata$protocol == \"Murry\"]\n",
    "small_mol_cells <- cell_metadata$X[cell_metadata$protocol == \"Lian\"]\n",
    "\n",
    "cytokine_exp_mat <- cardioAICS[cytokine_cells,]\n",
    "small_mol_exp_mat <- cardioAICS[small_mol_cells,]\n",
    "\n",
    "foldChange_list <- list()\n",
    "for (i in 1:length(genes.use)) {\n",
    "    gene <- genes.use[i]\n",
    "    cytokine_exp <- cytokine_exp_mat[,gene]\n",
    "    small_mol_exp <- small_mol_exp_mat[,gene]\n",
    "    log2fc <- log2(mean(expm1(small_mol_exp)) + 1) - log2(mean(expm1(cytokine_exp)) + 1)\n",
    "    foldChange_list[[gene]] <- log2fc\n",
    "    \n",
    "}\n",
    "\n",
    "lfc_df <- data.frame(\"log2fc\" = as.numeric(foldChange_list), \"gene\" = names(foldChange_list), row.names = names(foldChange_list))\n",
    "lfc_df <- dplyr::arrange(lfc_df, log2fc)"
   ]
  },
  {
   "cell_type": "code",
   "execution_count": 21,
   "metadata": {
    "scrolled": true
   },
   "outputs": [
    {
     "data": {
      "text/html": [
       "<table>\n",
       "<thead><tr><th scope=col>log2fc</th><th scope=col>gene</th></tr></thead>\n",
       "<tbody>\n",
       "\t<tr><td>-2.8032157    </td><td>CNTN5_HUMAN   </td></tr>\n",
       "\t<tr><td>-1.1986557    </td><td>SPHKAP_HUMAN  </td></tr>\n",
       "\t<tr><td>-0.9503390    </td><td>EGFEM1P_HUMAN </td></tr>\n",
       "\t<tr><td>-0.8618753    </td><td>PDGFD_HUMAN   </td></tr>\n",
       "\t<tr><td>-0.8310133    </td><td>L3MBTL4_HUMAN </td></tr>\n",
       "\t<tr><td>-0.8189935    </td><td>SORCS1_HUMAN  </td></tr>\n",
       "\t<tr><td>-0.7896815    </td><td>KCNH7_HUMAN   </td></tr>\n",
       "\t<tr><td>-0.7875974    </td><td>SYNPO2_HUMAN  </td></tr>\n",
       "\t<tr><td>-0.7056918    </td><td>PLCXD3_HUMAN  </td></tr>\n",
       "\t<tr><td>-0.6589798    </td><td>UNC5C_HUMAN   </td></tr>\n",
       "\t<tr><td>-0.5511319    </td><td>SOX6_HUMAN    </td></tr>\n",
       "\t<tr><td>-0.5511119    </td><td>RBMS3_HUMAN   </td></tr>\n",
       "\t<tr><td>-0.4995211    </td><td>PTPRD_HUMAN   </td></tr>\n",
       "\t<tr><td>-0.4952791    </td><td>PEG10_HUMAN   </td></tr>\n",
       "\t<tr><td>-0.4784711    </td><td>MEF2C_HUMAN   </td></tr>\n",
       "\t<tr><td>-0.4705185    </td><td>PPP1R3A_HUMAN </td></tr>\n",
       "\t<tr><td>-0.4611719    </td><td>HS6ST3_HUMAN  </td></tr>\n",
       "\t<tr><td>-0.3950269    </td><td>PLCB4_HUMAN   </td></tr>\n",
       "\t<tr><td>-0.3930876    </td><td>PPP1R13B_HUMAN</td></tr>\n",
       "\t<tr><td>-0.3885865    </td><td>COL11A1_HUMAN </td></tr>\n",
       "\t<tr><td>-0.3763656    </td><td>UACA_HUMAN    </td></tr>\n",
       "\t<tr><td>-0.3501018    </td><td>ANKRD44_HUMAN </td></tr>\n",
       "\t<tr><td>-0.3485296    </td><td>MYH6_HUMAN    </td></tr>\n",
       "\t<tr><td>-0.3349430    </td><td>PPP1R9A_HUMAN </td></tr>\n",
       "\t<tr><td>-0.3254359    </td><td>LSAMP_HUMAN   </td></tr>\n",
       "\t<tr><td>-0.3016924    </td><td>PDZD2_HUMAN   </td></tr>\n",
       "\t<tr><td>-0.2660928    </td><td>GPRIN3_HUMAN  </td></tr>\n",
       "\t<tr><td>-0.2506675    </td><td>CDH11_HUMAN   </td></tr>\n",
       "\t<tr><td>-0.1987824    </td><td>PPFIA2_HUMAN  </td></tr>\n",
       "\t<tr><td>-0.1853399    </td><td>RYR1_HUMAN    </td></tr>\n",
       "\t<tr><td>⋮</td><td>⋮</td></tr>\n",
       "\t<tr><td>0.2426873      </td><td>SGIP1_HUMAN    </td></tr>\n",
       "\t<tr><td>0.2577316      </td><td>XDH_HUMAN      </td></tr>\n",
       "\t<tr><td>0.2619479      </td><td>LDHA_HUMAN     </td></tr>\n",
       "\t<tr><td>0.2700850      </td><td>ADAM23_HUMAN   </td></tr>\n",
       "\t<tr><td>0.2872507      </td><td>SMARCA2_HUMAN  </td></tr>\n",
       "\t<tr><td>0.2945856      </td><td>RNU4-2_HUMAN   </td></tr>\n",
       "\t<tr><td>0.3311844      </td><td>PKNOX2_HUMAN   </td></tr>\n",
       "\t<tr><td>0.3336020      </td><td>NREP_HUMAN     </td></tr>\n",
       "\t<tr><td>0.3340507      </td><td>CREB5_HUMAN    </td></tr>\n",
       "\t<tr><td>0.3458699      </td><td>NLGN4X_HUMAN   </td></tr>\n",
       "\t<tr><td>0.3486983      </td><td>TBX20_HUMAN    </td></tr>\n",
       "\t<tr><td>0.3519665      </td><td>MTUS2_HUMAN    </td></tr>\n",
       "\t<tr><td>0.4520253      </td><td>CASC9_HUMAN    </td></tr>\n",
       "\t<tr><td>0.4545689      </td><td>DPYSL3_HUMAN   </td></tr>\n",
       "\t<tr><td>0.5237467      </td><td>GRIN2A_HUMAN   </td></tr>\n",
       "\t<tr><td>0.6187347      </td><td>COL4A2_HUMAN   </td></tr>\n",
       "\t<tr><td>0.6500082      </td><td>BCAT1_HUMAN    </td></tr>\n",
       "\t<tr><td>0.6658609      </td><td>DLEU1_HUMAN    </td></tr>\n",
       "\t<tr><td>0.6872761      </td><td>HSPG2_HUMAN    </td></tr>\n",
       "\t<tr><td>0.7040460      </td><td>TENM4_HUMAN    </td></tr>\n",
       "\t<tr><td>0.7135182      </td><td>FAT3_HUMAN     </td></tr>\n",
       "\t<tr><td>0.7310047      </td><td>LAMA1_HUMAN    </td></tr>\n",
       "\t<tr><td>0.7466321      </td><td>NR2F2-AS1_HUMAN</td></tr>\n",
       "\t<tr><td>0.7656141      </td><td>SYT1_HUMAN     </td></tr>\n",
       "\t<tr><td>0.8578815      </td><td>PTCHD4_HUMAN   </td></tr>\n",
       "\t<tr><td>0.8737502      </td><td>GPC6_HUMAN     </td></tr>\n",
       "\t<tr><td>0.9977147      </td><td>NLGN1_HUMAN    </td></tr>\n",
       "\t<tr><td>1.1431440      </td><td>TRPM3_HUMAN    </td></tr>\n",
       "\t<tr><td>1.1635234      </td><td>TENM3_HUMAN    </td></tr>\n",
       "\t<tr><td>1.6396038      </td><td>FN1_HUMAN      </td></tr>\n",
       "</tbody>\n",
       "</table>\n"
      ],
      "text/latex": [
       "\\begin{tabular}{r|ll}\n",
       " log2fc & gene\\\\\n",
       "\\hline\n",
       "\t -2.8032157       & CNTN5\\_HUMAN   \\\\\n",
       "\t -1.1986557       & SPHKAP\\_HUMAN  \\\\\n",
       "\t -0.9503390       & EGFEM1P\\_HUMAN \\\\\n",
       "\t -0.8618753       & PDGFD\\_HUMAN   \\\\\n",
       "\t -0.8310133       & L3MBTL4\\_HUMAN \\\\\n",
       "\t -0.8189935       & SORCS1\\_HUMAN  \\\\\n",
       "\t -0.7896815       & KCNH7\\_HUMAN   \\\\\n",
       "\t -0.7875974       & SYNPO2\\_HUMAN  \\\\\n",
       "\t -0.7056918       & PLCXD3\\_HUMAN  \\\\\n",
       "\t -0.6589798       & UNC5C\\_HUMAN   \\\\\n",
       "\t -0.5511319       & SOX6\\_HUMAN    \\\\\n",
       "\t -0.5511119       & RBMS3\\_HUMAN   \\\\\n",
       "\t -0.4995211       & PTPRD\\_HUMAN   \\\\\n",
       "\t -0.4952791       & PEG10\\_HUMAN   \\\\\n",
       "\t -0.4784711       & MEF2C\\_HUMAN   \\\\\n",
       "\t -0.4705185       & PPP1R3A\\_HUMAN \\\\\n",
       "\t -0.4611719       & HS6ST3\\_HUMAN  \\\\\n",
       "\t -0.3950269       & PLCB4\\_HUMAN   \\\\\n",
       "\t -0.3930876       & PPP1R13B\\_HUMAN\\\\\n",
       "\t -0.3885865       & COL11A1\\_HUMAN \\\\\n",
       "\t -0.3763656       & UACA\\_HUMAN    \\\\\n",
       "\t -0.3501018       & ANKRD44\\_HUMAN \\\\\n",
       "\t -0.3485296       & MYH6\\_HUMAN    \\\\\n",
       "\t -0.3349430       & PPP1R9A\\_HUMAN \\\\\n",
       "\t -0.3254359       & LSAMP\\_HUMAN   \\\\\n",
       "\t -0.3016924       & PDZD2\\_HUMAN   \\\\\n",
       "\t -0.2660928       & GPRIN3\\_HUMAN  \\\\\n",
       "\t -0.2506675       & CDH11\\_HUMAN   \\\\\n",
       "\t -0.1987824       & PPFIA2\\_HUMAN  \\\\\n",
       "\t -0.1853399       & RYR1\\_HUMAN    \\\\\n",
       "\t ⋮ & ⋮\\\\\n",
       "\t 0.2426873         & SGIP1\\_HUMAN    \\\\\n",
       "\t 0.2577316         & XDH\\_HUMAN      \\\\\n",
       "\t 0.2619479         & LDHA\\_HUMAN     \\\\\n",
       "\t 0.2700850         & ADAM23\\_HUMAN   \\\\\n",
       "\t 0.2872507         & SMARCA2\\_HUMAN  \\\\\n",
       "\t 0.2945856         & RNU4-2\\_HUMAN   \\\\\n",
       "\t 0.3311844         & PKNOX2\\_HUMAN   \\\\\n",
       "\t 0.3336020         & NREP\\_HUMAN     \\\\\n",
       "\t 0.3340507         & CREB5\\_HUMAN    \\\\\n",
       "\t 0.3458699         & NLGN4X\\_HUMAN   \\\\\n",
       "\t 0.3486983         & TBX20\\_HUMAN    \\\\\n",
       "\t 0.3519665         & MTUS2\\_HUMAN    \\\\\n",
       "\t 0.4520253         & CASC9\\_HUMAN    \\\\\n",
       "\t 0.4545689         & DPYSL3\\_HUMAN   \\\\\n",
       "\t 0.5237467         & GRIN2A\\_HUMAN   \\\\\n",
       "\t 0.6187347         & COL4A2\\_HUMAN   \\\\\n",
       "\t 0.6500082         & BCAT1\\_HUMAN    \\\\\n",
       "\t 0.6658609         & DLEU1\\_HUMAN    \\\\\n",
       "\t 0.6872761         & HSPG2\\_HUMAN    \\\\\n",
       "\t 0.7040460         & TENM4\\_HUMAN    \\\\\n",
       "\t 0.7135182         & FAT3\\_HUMAN     \\\\\n",
       "\t 0.7310047         & LAMA1\\_HUMAN    \\\\\n",
       "\t 0.7466321         & NR2F2-AS1\\_HUMAN\\\\\n",
       "\t 0.7656141         & SYT1\\_HUMAN     \\\\\n",
       "\t 0.8578815         & PTCHD4\\_HUMAN   \\\\\n",
       "\t 0.8737502         & GPC6\\_HUMAN     \\\\\n",
       "\t 0.9977147         & NLGN1\\_HUMAN    \\\\\n",
       "\t 1.1431440         & TRPM3\\_HUMAN    \\\\\n",
       "\t 1.1635234         & TENM3\\_HUMAN    \\\\\n",
       "\t 1.6396038         & FN1\\_HUMAN      \\\\\n",
       "\\end{tabular}\n"
      ],
      "text/markdown": [
       "\n",
       "log2fc | gene | \n",
       "|---|---|---|---|---|---|---|---|---|---|---|---|---|---|---|---|---|---|---|---|---|---|---|---|---|---|---|---|---|---|---|---|---|---|---|---|---|---|---|---|---|---|---|---|---|---|---|---|---|---|---|---|---|---|---|---|---|---|---|---|---|\n",
       "| -2.8032157     | CNTN5_HUMAN    | \n",
       "| -1.1986557     | SPHKAP_HUMAN   | \n",
       "| -0.9503390     | EGFEM1P_HUMAN  | \n",
       "| -0.8618753     | PDGFD_HUMAN    | \n",
       "| -0.8310133     | L3MBTL4_HUMAN  | \n",
       "| -0.8189935     | SORCS1_HUMAN   | \n",
       "| -0.7896815     | KCNH7_HUMAN    | \n",
       "| -0.7875974     | SYNPO2_HUMAN   | \n",
       "| -0.7056918     | PLCXD3_HUMAN   | \n",
       "| -0.6589798     | UNC5C_HUMAN    | \n",
       "| -0.5511319     | SOX6_HUMAN     | \n",
       "| -0.5511119     | RBMS3_HUMAN    | \n",
       "| -0.4995211     | PTPRD_HUMAN    | \n",
       "| -0.4952791     | PEG10_HUMAN    | \n",
       "| -0.4784711     | MEF2C_HUMAN    | \n",
       "| -0.4705185     | PPP1R3A_HUMAN  | \n",
       "| -0.4611719     | HS6ST3_HUMAN   | \n",
       "| -0.3950269     | PLCB4_HUMAN    | \n",
       "| -0.3930876     | PPP1R13B_HUMAN | \n",
       "| -0.3885865     | COL11A1_HUMAN  | \n",
       "| -0.3763656     | UACA_HUMAN     | \n",
       "| -0.3501018     | ANKRD44_HUMAN  | \n",
       "| -0.3485296     | MYH6_HUMAN     | \n",
       "| -0.3349430     | PPP1R9A_HUMAN  | \n",
       "| -0.3254359     | LSAMP_HUMAN    | \n",
       "| -0.3016924     | PDZD2_HUMAN    | \n",
       "| -0.2660928     | GPRIN3_HUMAN   | \n",
       "| -0.2506675     | CDH11_HUMAN    | \n",
       "| -0.1987824     | PPFIA2_HUMAN   | \n",
       "| -0.1853399     | RYR1_HUMAN     | \n",
       "| ⋮ | ⋮ | \n",
       "| 0.2426873       | SGIP1_HUMAN     | \n",
       "| 0.2577316       | XDH_HUMAN       | \n",
       "| 0.2619479       | LDHA_HUMAN      | \n",
       "| 0.2700850       | ADAM23_HUMAN    | \n",
       "| 0.2872507       | SMARCA2_HUMAN   | \n",
       "| 0.2945856       | RNU4-2_HUMAN    | \n",
       "| 0.3311844       | PKNOX2_HUMAN    | \n",
       "| 0.3336020       | NREP_HUMAN      | \n",
       "| 0.3340507       | CREB5_HUMAN     | \n",
       "| 0.3458699       | NLGN4X_HUMAN    | \n",
       "| 0.3486983       | TBX20_HUMAN     | \n",
       "| 0.3519665       | MTUS2_HUMAN     | \n",
       "| 0.4520253       | CASC9_HUMAN     | \n",
       "| 0.4545689       | DPYSL3_HUMAN    | \n",
       "| 0.5237467       | GRIN2A_HUMAN    | \n",
       "| 0.6187347       | COL4A2_HUMAN    | \n",
       "| 0.6500082       | BCAT1_HUMAN     | \n",
       "| 0.6658609       | DLEU1_HUMAN     | \n",
       "| 0.6872761       | HSPG2_HUMAN     | \n",
       "| 0.7040460       | TENM4_HUMAN     | \n",
       "| 0.7135182       | FAT3_HUMAN      | \n",
       "| 0.7310047       | LAMA1_HUMAN     | \n",
       "| 0.7466321       | NR2F2-AS1_HUMAN | \n",
       "| 0.7656141       | SYT1_HUMAN      | \n",
       "| 0.8578815       | PTCHD4_HUMAN    | \n",
       "| 0.8737502       | GPC6_HUMAN      | \n",
       "| 0.9977147       | NLGN1_HUMAN     | \n",
       "| 1.1431440       | TRPM3_HUMAN     | \n",
       "| 1.1635234       | TENM3_HUMAN     | \n",
       "| 1.6396038       | FN1_HUMAN       | \n",
       "\n",
       "\n"
      ],
      "text/plain": [
       "   log2fc     gene           \n",
       "1  -2.8032157 CNTN5_HUMAN    \n",
       "2  -1.1986557 SPHKAP_HUMAN   \n",
       "3  -0.9503390 EGFEM1P_HUMAN  \n",
       "4  -0.8618753 PDGFD_HUMAN    \n",
       "5  -0.8310133 L3MBTL4_HUMAN  \n",
       "6  -0.8189935 SORCS1_HUMAN   \n",
       "7  -0.7896815 KCNH7_HUMAN    \n",
       "8  -0.7875974 SYNPO2_HUMAN   \n",
       "9  -0.7056918 PLCXD3_HUMAN   \n",
       "10 -0.6589798 UNC5C_HUMAN    \n",
       "11 -0.5511319 SOX6_HUMAN     \n",
       "12 -0.5511119 RBMS3_HUMAN    \n",
       "13 -0.4995211 PTPRD_HUMAN    \n",
       "14 -0.4952791 PEG10_HUMAN    \n",
       "15 -0.4784711 MEF2C_HUMAN    \n",
       "16 -0.4705185 PPP1R3A_HUMAN  \n",
       "17 -0.4611719 HS6ST3_HUMAN   \n",
       "18 -0.3950269 PLCB4_HUMAN    \n",
       "19 -0.3930876 PPP1R13B_HUMAN \n",
       "20 -0.3885865 COL11A1_HUMAN  \n",
       "21 -0.3763656 UACA_HUMAN     \n",
       "22 -0.3501018 ANKRD44_HUMAN  \n",
       "23 -0.3485296 MYH6_HUMAN     \n",
       "24 -0.3349430 PPP1R9A_HUMAN  \n",
       "25 -0.3254359 LSAMP_HUMAN    \n",
       "26 -0.3016924 PDZD2_HUMAN    \n",
       "27 -0.2660928 GPRIN3_HUMAN   \n",
       "28 -0.2506675 CDH11_HUMAN    \n",
       "29 -0.1987824 PPFIA2_HUMAN   \n",
       "30 -0.1853399 RYR1_HUMAN     \n",
       "⋮  ⋮          ⋮              \n",
       "46 0.2426873  SGIP1_HUMAN    \n",
       "47 0.2577316  XDH_HUMAN      \n",
       "48 0.2619479  LDHA_HUMAN     \n",
       "49 0.2700850  ADAM23_HUMAN   \n",
       "50 0.2872507  SMARCA2_HUMAN  \n",
       "51 0.2945856  RNU4-2_HUMAN   \n",
       "52 0.3311844  PKNOX2_HUMAN   \n",
       "53 0.3336020  NREP_HUMAN     \n",
       "54 0.3340507  CREB5_HUMAN    \n",
       "55 0.3458699  NLGN4X_HUMAN   \n",
       "56 0.3486983  TBX20_HUMAN    \n",
       "57 0.3519665  MTUS2_HUMAN    \n",
       "58 0.4520253  CASC9_HUMAN    \n",
       "59 0.4545689  DPYSL3_HUMAN   \n",
       "60 0.5237467  GRIN2A_HUMAN   \n",
       "61 0.6187347  COL4A2_HUMAN   \n",
       "62 0.6500082  BCAT1_HUMAN    \n",
       "63 0.6658609  DLEU1_HUMAN    \n",
       "64 0.6872761  HSPG2_HUMAN    \n",
       "65 0.7040460  TENM4_HUMAN    \n",
       "66 0.7135182  FAT3_HUMAN     \n",
       "67 0.7310047  LAMA1_HUMAN    \n",
       "68 0.7466321  NR2F2-AS1_HUMAN\n",
       "69 0.7656141  SYT1_HUMAN     \n",
       "70 0.8578815  PTCHD4_HUMAN   \n",
       "71 0.8737502  GPC6_HUMAN     \n",
       "72 0.9977147  NLGN1_HUMAN    \n",
       "73 1.1431440  TRPM3_HUMAN    \n",
       "74 1.1635234  TENM3_HUMAN    \n",
       "75 1.6396038  FN1_HUMAN      "
      ]
     },
     "metadata": {},
     "output_type": "display_data"
    }
   ],
   "source": [
    "lfc_df"
   ]
  },
  {
   "cell_type": "markdown",
   "metadata": {},
   "source": [
    "### Fit using 75 genes"
   ]
  },
  {
   "cell_type": "code",
   "execution_count": 23,
   "metadata": {
    "collapsed": true
   },
   "outputs": [],
   "source": [
    "diff_protocol <- as.factor(diff_protocol)"
   ]
  },
  {
   "cell_type": "code",
   "execution_count": 25,
   "metadata": {
    "collapsed": true
   },
   "outputs": [],
   "source": [
    "library(boot)"
   ]
  },
  {
   "cell_type": "code",
   "execution_count": 26,
   "metadata": {
    "collapsed": true
   },
   "outputs": [],
   "source": [
    "subset_cardio <- cardioAICS[,genes.use]\n",
    "subset_cardio <- as.data.frame(as.matrix(subset_cardio))"
   ]
  },
  {
   "cell_type": "code",
   "execution_count": 28,
   "metadata": {
    "collapsed": true
   },
   "outputs": [],
   "source": [
    "fit <- glm(diff_protocol ~ .,\n",
    "    data = subset_cardio, family = binomial(\"logit\")\n",
    "   )"
   ]
  },
  {
   "cell_type": "code",
   "execution_count": 29,
   "metadata": {
    "scrolled": true
   },
   "outputs": [
    {
     "data": {
      "text/plain": [
       "\n",
       "Call:  glm(formula = diff_protocol ~ ., family = binomial(\"logit\"), \n",
       "    data = subset_cardio)\n",
       "\n",
       "Coefficients:\n",
       "      (Intercept)        NLGN1_HUMAN      FAM155A_HUMAN         MYH6_HUMAN  \n",
       "          -0.2146            -0.3141             0.2768             0.1608  \n",
       "      PTPRD_HUMAN       KCNIP4_HUMAN       SORCS1_HUMAN       GRIN2A_HUMAN  \n",
       "           0.2144            -0.3372             0.2901            -0.3493  \n",
       "     PTCHD4_HUMAN         UACA_HUMAN         GPC6_HUMAN        CNTN5_HUMAN  \n",
       "          -0.4965             0.2404            -0.1586             0.4946  \n",
       "     GPRIN3_HUMAN        PEG10_HUMAN       ANGPT1_HUMAN        CDH11_HUMAN  \n",
       "           0.1415             0.1729            -0.2453             0.2381  \n",
       "     COL4A2_HUMAN        KCNH7_HUMAN         SYT1_HUMAN          FN1_HUMAN  \n",
       "          -0.2071             0.1416            -0.4826            -0.0494  \n",
       "      TENM3_HUMAN        TENM4_HUMAN        RBMS3_HUMAN       PPFIA2_HUMAN  \n",
       "          -0.3063            -0.3180             0.4848            -0.2999  \n",
       "      PLCB4_HUMAN        LAMA4_HUMAN        LSAMP_HUMAN       SPHKAP_HUMAN  \n",
       "           0.1408            -0.2571             0.3261             0.4537  \n",
       "    EGFEM1P_HUMAN       MAPK10_HUMAN        DLEU1_HUMAN        PDGFD_HUMAN  \n",
       "           0.1452            -0.2245            -0.3196             0.1176  \n",
       "       FAT3_HUMAN       HS6ST3_HUMAN      PPP1R9A_HUMAN      COL11A1_HUMAN  \n",
       "          -0.2421             0.4526             0.1288             0.5101  \n",
       "      CREB5_HUMAN         RELN_HUMAN        CAPS2_HUMAN        MEF2C_HUMAN  \n",
       "          -0.3227             0.3239            -0.4186             0.2437  \n",
       "    L3MBTL4_HUMAN        BCAT1_HUMAN         LDHA_HUMAN        UNC5C_HUMAN  \n",
       "           0.1252            -0.2541            -0.2852             0.3024  \n",
       "       NREP_HUMAN        CASC9_HUMAN         DTNA_HUMAN      ANKRD44_HUMAN  \n",
       "          -0.2458            -0.6900             0.2443             0.6846  \n",
       "      HSPG2_HUMAN         RYR1_HUMAN  `NR2F2-AS1_HUMAN`       ADAM23_HUMAN  \n",
       "          -0.2520             0.1861            -1.1493            -0.3458  \n",
       "     SYNPO2_HUMAN       PLCXD3_HUMAN       DPYSL3_HUMAN        LAMA1_HUMAN  \n",
       "           0.2292             0.2024            -0.1599            -0.1699  \n",
       "      SGIP1_HUMAN        TBX20_HUMAN      SMARCA2_HUMAN        TRPM3_HUMAN  \n",
       "          -0.5860            -0.2571            -0.3511            -0.5515  \n",
       "   PPP1R13B_HUMAN        MTUS2_HUMAN         DPH6_HUMAN       PKNOX2_HUMAN  \n",
       "           0.1659            -0.2577            -0.2378            -0.4500  \n",
       "        CKM_HUMAN        ILDR2_HUMAN         SOX6_HUMAN       NLGN4X_HUMAN  \n",
       "           0.3465            -0.2578             0.3591            -0.4237  \n",
       "        XDH_HUMAN        LENG8_HUMAN      PPP1R3A_HUMAN        PRRX1_HUMAN  \n",
       "          -1.0207            -0.3007             0.1864             1.3442  \n",
       "      PDZD2_HUMAN        DMGDH_HUMAN         FHL1_HUMAN     `RNU4-2_HUMAN`  \n",
       "           0.3324             0.3681            -0.3942            -0.4903  \n",
       "\n",
       "Degrees of Freedom: 14572 Total (i.e. Null);  14497 Residual\n",
       "Null Deviance:\t    20190 \n",
       "Residual Deviance: 7038 \tAIC: 7190"
      ]
     },
     "metadata": {},
     "output_type": "display_data"
    }
   ],
   "source": [
    "fit"
   ]
  },
  {
   "cell_type": "code",
   "execution_count": 30,
   "metadata": {
    "collapsed": true
   },
   "outputs": [],
   "source": [
    "subset_cardio$diff_protocol <- diff_protocol"
   ]
  },
  {
   "cell_type": "code",
   "execution_count": 31,
   "metadata": {
    "collapsed": true
   },
   "outputs": [],
   "source": [
    "cost <- function(r, pi = 0) mean(abs(r-pi) > 0.5)\n",
    "cv.test <- cv.glm(subset_cardio, cost = cost, fit, K = 5)"
   ]
  },
  {
   "cell_type": "code",
   "execution_count": 32,
   "metadata": {},
   "outputs": [
    {
     "data": {
      "text/html": [
       "<ol class=list-inline>\n",
       "\t<li>0.101420435051122</li>\n",
       "\t<li>0.101173458431112</li>\n",
       "</ol>\n"
      ],
      "text/latex": [
       "\\begin{enumerate*}\n",
       "\\item 0.101420435051122\n",
       "\\item 0.101173458431112\n",
       "\\end{enumerate*}\n"
      ],
      "text/markdown": [
       "1. 0.101420435051122\n",
       "2. 0.101173458431112\n",
       "\n",
       "\n"
      ],
      "text/plain": [
       "[1] 0.1014204 0.1011735"
      ]
     },
     "metadata": {},
     "output_type": "display_data"
    }
   ],
   "source": [
    "cv.test$delta"
   ]
  },
  {
   "cell_type": "code",
   "execution_count": 33,
   "metadata": {
    "collapsed": true,
    "scrolled": false
   },
   "outputs": [],
   "source": [
    "load(\"/allen/aics/gene-editing/RNA_seq/scRNAseq_SeeligCollaboration/12012017_cardio/seurat/all_cells/regressions/reg1/holdout_cm_filtered_cells_entrez_only_normalized_counts.RData\")\n",
    "holdout_cell_metadata <- read.csv(\"/allen/aics/gene-editing/RNA_seq/scRNAseq_SeeligCollaboration/12012017_cardio/seurat/all_cells/regressions/reg1/holdout_cm_filtered_cells_entrez_only_metadata.csv\")"
   ]
  },
  {
   "cell_type": "code",
   "execution_count": 34,
   "metadata": {
    "collapsed": true
   },
   "outputs": [],
   "source": [
    "holdout_cardioAICS <- t(holdout_cardioAICS)\n",
    "\n",
    "diff_protocol <- holdout_cell_metadata$protocol\n",
    "\n",
    "names(diff_protocol) <- holdout_cell_metadata$X"
   ]
  },
  {
   "cell_type": "code",
   "execution_count": 36,
   "metadata": {
    "collapsed": true
   },
   "outputs": [],
   "source": [
    "holdout_mat <- holdout_cardioAICS[,genes.use]\n",
    "holdout_mat <- as.data.frame(as.matrix(holdout_mat))"
   ]
  },
  {
   "cell_type": "code",
   "execution_count": 38,
   "metadata": {},
   "outputs": [
    {
     "data": {
      "text/html": [
       "<ol class=list-inline>\n",
       "\t<li>1642</li>\n",
       "\t<li>75</li>\n",
       "</ol>\n"
      ],
      "text/latex": [
       "\\begin{enumerate*}\n",
       "\\item 1642\n",
       "\\item 75\n",
       "\\end{enumerate*}\n"
      ],
      "text/markdown": [
       "1. 1642\n",
       "2. 75\n",
       "\n",
       "\n"
      ],
      "text/plain": [
       "[1] 1642   75"
      ]
     },
     "metadata": {},
     "output_type": "display_data"
    }
   ],
   "source": [
    "dim(holdout_mat)"
   ]
  },
  {
   "cell_type": "code",
   "execution_count": 39,
   "metadata": {
    "collapsed": true
   },
   "outputs": [],
   "source": [
    "holdout_predict <- predict(fit, newdata = holdout_mat, type = c(\"response\"))"
   ]
  },
  {
   "cell_type": "code",
   "execution_count": 42,
   "metadata": {
    "collapsed": true
   },
   "outputs": [],
   "source": [
    "get_predicted_time <- function(predict_prob) {\n",
    "    if (predict_prob < 0.5) {\n",
    "        return(\"Lian\")\n",
    "    } else {\n",
    "        return(\"Murry\")\n",
    "    }\n",
    "}"
   ]
  },
  {
   "cell_type": "code",
   "execution_count": 43,
   "metadata": {
    "collapsed": true
   },
   "outputs": [],
   "source": [
    "predicted_day <- sapply(holdout_predict, get_predicted_time, simplify = TRUE)"
   ]
  },
  {
   "cell_type": "code",
   "execution_count": 45,
   "metadata": {
    "scrolled": true
   },
   "outputs": [
    {
     "data": {
      "text/plain": [
       "         actual\n",
       "predicted Lian Murry\n",
       "    Lian   697    90\n",
       "    Murry  104   751"
      ]
     },
     "metadata": {},
     "output_type": "display_data"
    }
   ],
   "source": [
    "predict_actual_df <- data.frame(\"predicted\" = predicted_day, \"actual\" = diff_protocol)\n",
    "xtabs(~ predicted + actual, data = predict_actual_df)"
   ]
  },
  {
   "cell_type": "code",
   "execution_count": null,
   "metadata": {
    "collapsed": true
   },
   "outputs": [],
   "source": []
  }
 ],
 "metadata": {
  "kernelspec": {
   "display_name": "R",
   "language": "R",
   "name": "ir"
  },
  "language_info": {
   "codemirror_mode": "r",
   "file_extension": ".r",
   "mimetype": "text/x-r-source",
   "name": "R",
   "pygments_lexer": "r",
   "version": "3.4.1"
  }
 },
 "nbformat": 4,
 "nbformat_minor": 2
}
