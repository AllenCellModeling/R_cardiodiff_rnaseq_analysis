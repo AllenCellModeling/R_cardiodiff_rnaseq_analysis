{
 "cells": [
  {
   "cell_type": "code",
   "execution_count": 1,
   "metadata": {
    "scrolled": true
   },
   "outputs": [
    {
     "name": "stderr",
     "output_type": "stream",
     "text": [
      "Loading required package: Matrix\n",
      "Loading required package: foreach\n",
      "Loaded glmnet 2.0-13\n",
      "\n"
     ]
    }
   ],
   "source": [
    "library(glmnet)\n",
    "library(ggplot2)"
   ]
  },
  {
   "cell_type": "code",
   "execution_count": 2,
   "metadata": {
    "collapsed": true
   },
   "outputs": [],
   "source": [
    "options(stringsAsFactors = FALSE)"
   ]
  },
  {
   "cell_type": "code",
   "execution_count": 3,
   "metadata": {
    "collapsed": true,
    "scrolled": true
   },
   "outputs": [],
   "source": [
    "base_dir <- \"/allen/aics/gene-editing/RNA_seq/scRNAseq_SeeligCollaboration/12012017_cardio/seurat/all_cells/regressions/reg1/feature_selection/\""
   ]
  },
  {
   "cell_type": "code",
   "execution_count": 4,
   "metadata": {
    "collapsed": true
   },
   "outputs": [],
   "source": [
    "load(paste0(base_dir, \"early.RData\"))"
   ]
  },
  {
   "cell_type": "code",
   "execution_count": 5,
   "metadata": {},
   "outputs": [
    {
     "data": {
      "text/html": [
       "1000"
      ],
      "text/latex": [
       "1000"
      ],
      "text/markdown": [
       "1000"
      ],
      "text/plain": [
       "[1] 1000"
      ]
     },
     "metadata": {},
     "output_type": "display_data"
    }
   ],
   "source": [
    "length(bootstraps)"
   ]
  },
  {
   "cell_type": "code",
   "execution_count": 6,
   "metadata": {
    "collapsed": true,
    "scrolled": true
   },
   "outputs": [],
   "source": [
    "lambda_sequence <- bootstraps[[1]][[\"lambda\"]]\n",
    "genes <- rownames(coef(bootstraps[[1]], s = lambda_sequence[1]))"
   ]
  },
  {
   "cell_type": "code",
   "execution_count": 7,
   "metadata": {},
   "outputs": [
    {
     "data": {
      "text/html": [
       "<ol class=list-inline>\n",
       "\t<li>'(Intercept)'</li>\n",
       "\t<li>'TTN_HUMAN'</li>\n",
       "\t<li>'AATF_HUMAN'</li>\n",
       "\t<li>'NEXN_HUMAN'</li>\n",
       "\t<li>'SOD2_HUMAN'</li>\n",
       "\t<li>'MALAT1_HUMAN'</li>\n",
       "</ol>\n"
      ],
      "text/latex": [
       "\\begin{enumerate*}\n",
       "\\item '(Intercept)'\n",
       "\\item 'TTN\\_HUMAN'\n",
       "\\item 'AATF\\_HUMAN'\n",
       "\\item 'NEXN\\_HUMAN'\n",
       "\\item 'SOD2\\_HUMAN'\n",
       "\\item 'MALAT1\\_HUMAN'\n",
       "\\end{enumerate*}\n"
      ],
      "text/markdown": [
       "1. '(Intercept)'\n",
       "2. 'TTN_HUMAN'\n",
       "3. 'AATF_HUMAN'\n",
       "4. 'NEXN_HUMAN'\n",
       "5. 'SOD2_HUMAN'\n",
       "6. 'MALAT1_HUMAN'\n",
       "\n",
       "\n"
      ],
      "text/plain": [
       "[1] \"(Intercept)\"  \"TTN_HUMAN\"    \"AATF_HUMAN\"   \"NEXN_HUMAN\"   \"SOD2_HUMAN\"  \n",
       "[6] \"MALAT1_HUMAN\""
      ]
     },
     "metadata": {},
     "output_type": "display_data"
    }
   ],
   "source": [
    "head(genes)"
   ]
  },
  {
   "cell_type": "code",
   "execution_count": 8,
   "metadata": {},
   "outputs": [
    {
     "data": {
      "text/html": [
       "<ol class=list-inline>\n",
       "\t<li>0.56301196083732</li>\n",
       "\t<li>0.535036615565917</li>\n",
       "\t<li>0.508451329471748</li>\n",
       "\t<li>0.483187032289639</li>\n",
       "\t<li>0.459178085767678</li>\n",
       "\t<li>0.436362113134862</li>\n",
       "</ol>\n"
      ],
      "text/latex": [
       "\\begin{enumerate*}\n",
       "\\item 0.56301196083732\n",
       "\\item 0.535036615565917\n",
       "\\item 0.508451329471748\n",
       "\\item 0.483187032289639\n",
       "\\item 0.459178085767678\n",
       "\\item 0.436362113134862\n",
       "\\end{enumerate*}\n"
      ],
      "text/markdown": [
       "1. 0.56301196083732\n",
       "2. 0.535036615565917\n",
       "3. 0.508451329471748\n",
       "4. 0.483187032289639\n",
       "5. 0.459178085767678\n",
       "6. 0.436362113134862\n",
       "\n",
       "\n"
      ],
      "text/plain": [
       "[1] 0.5630120 0.5350366 0.5084513 0.4831870 0.4591781 0.4363621"
      ]
     },
     "metadata": {},
     "output_type": "display_data"
    }
   ],
   "source": [
    "head(lambda_sequence)"
   ]
  },
  {
   "cell_type": "code",
   "execution_count": 9,
   "metadata": {
    "collapsed": true
   },
   "outputs": [],
   "source": [
    "genes <- genes[2:length(genes)]"
   ]
  },
  {
   "cell_type": "code",
   "execution_count": 10,
   "metadata": {},
   "outputs": [
    {
     "data": {
      "text/html": [
       "<ol class=list-inline>\n",
       "\t<li>'TTN_HUMAN'</li>\n",
       "\t<li>'AATF_HUMAN'</li>\n",
       "\t<li>'NEXN_HUMAN'</li>\n",
       "\t<li>'SOD2_HUMAN'</li>\n",
       "\t<li>'MALAT1_HUMAN'</li>\n",
       "\t<li>'PIGP_HUMAN'</li>\n",
       "</ol>\n"
      ],
      "text/latex": [
       "\\begin{enumerate*}\n",
       "\\item 'TTN\\_HUMAN'\n",
       "\\item 'AATF\\_HUMAN'\n",
       "\\item 'NEXN\\_HUMAN'\n",
       "\\item 'SOD2\\_HUMAN'\n",
       "\\item 'MALAT1\\_HUMAN'\n",
       "\\item 'PIGP\\_HUMAN'\n",
       "\\end{enumerate*}\n"
      ],
      "text/markdown": [
       "1. 'TTN_HUMAN'\n",
       "2. 'AATF_HUMAN'\n",
       "3. 'NEXN_HUMAN'\n",
       "4. 'SOD2_HUMAN'\n",
       "5. 'MALAT1_HUMAN'\n",
       "6. 'PIGP_HUMAN'\n",
       "\n",
       "\n"
      ],
      "text/plain": [
       "[1] \"TTN_HUMAN\"    \"AATF_HUMAN\"   \"NEXN_HUMAN\"   \"SOD2_HUMAN\"   \"MALAT1_HUMAN\"\n",
       "[6] \"PIGP_HUMAN\"  "
      ]
     },
     "metadata": {},
     "output_type": "display_data"
    },
    {
     "data": {
      "text/html": [
       "22187"
      ],
      "text/latex": [
       "22187"
      ],
      "text/markdown": [
       "22187"
      ],
      "text/plain": [
       "[1] 22187"
      ]
     },
     "metadata": {},
     "output_type": "display_data"
    }
   ],
   "source": [
    "head(genes)\n",
    "length(genes)\n",
    "num_genes <- length(genes)"
   ]
  },
  {
   "cell_type": "code",
   "execution_count": 11,
   "metadata": {
    "collapsed": true
   },
   "outputs": [],
   "source": [
    "nonzero_gene_count <- c()\n",
    "lambda <- min(lambda_sequence)\n",
    "\n",
    "genes_coeff <- coef(bootstraps[[1]], s = lambda)\n",
    "genes_coeff <- genes_coeff[2:length(genes_coeff),]\n",
    "gene_names <- names(genes_coeff)\n",
    "genes_nonzero <- gene_names[abs(genes_coeff) > 0]\n",
    "nonzero_gene_count <- c(nonzero_gene_count, length(genes_nonzero))\n",
    "\n",
    "genes_intersect <- genes_nonzero\n",
    "\n",
    "for (i in 2:length(bootstraps)) {\n",
    "    lambda_seq <- bootstraps[[i]][[\"lambda\"]]\n",
    "    if (lambda < tail(lambda_seq, n = 1)) {\n",
    "        print(i)\n",
    "    } \n",
    "    genes_coeff <- coef(bootstraps[[i]], s = lambda)\n",
    "    genes_coeff <- genes_coeff[2:length(genes_coeff),]\n",
    "    gene_names <- names(genes_coeff)\n",
    "    genes_nonzero <- gene_names[abs(genes_coeff) > 0]\n",
    "    nonzero_gene_count <- c(nonzero_gene_count, length(genes_nonzero))\n",
    "    genes_intersect <- intersect(genes_intersect, genes_nonzero)\n",
    "}"
   ]
  },
  {
   "cell_type": "markdown",
   "metadata": {},
   "source": [
    "### Non-zero genes in all rounds"
   ]
  },
  {
   "cell_type": "code",
   "execution_count": 12,
   "metadata": {},
   "outputs": [
    {
     "name": "stdout",
     "output_type": "stream",
     "text": [
      "[1] 61\n"
     ]
    },
    {
     "data": {
      "text/html": [
       "<ol class=list-inline>\n",
       "\t<li>'TTN_HUMAN'</li>\n",
       "\t<li>'NLGN1_HUMAN'</li>\n",
       "\t<li>'FAM155A_HUMAN'</li>\n",
       "\t<li>'CCDC141_HUMAN'</li>\n",
       "\t<li>'KCNIP4_HUMAN'</li>\n",
       "\t<li>'SORCS1_HUMAN'</li>\n",
       "\t<li>'HS3ST4_HUMAN'</li>\n",
       "\t<li>'GRIN2A_HUMAN'</li>\n",
       "\t<li>'PTCHD4_HUMAN'</li>\n",
       "\t<li>'UACA_HUMAN'</li>\n",
       "\t<li>'PRTG_HUMAN'</li>\n",
       "\t<li>'CNTN5_HUMAN'</li>\n",
       "\t<li>'GPRIN3_HUMAN'</li>\n",
       "\t<li>'PEG10_HUMAN'</li>\n",
       "\t<li>'ANGPT1_HUMAN'</li>\n",
       "\t<li>'CDH11_HUMAN'</li>\n",
       "\t<li>'SYT1_HUMAN'</li>\n",
       "\t<li>'FN1_HUMAN'</li>\n",
       "\t<li>'TENM3_HUMAN'</li>\n",
       "\t<li>'PLEKHA5_HUMAN'</li>\n",
       "\t<li>'LDLRAD4_HUMAN'</li>\n",
       "\t<li>'TENM4_HUMAN'</li>\n",
       "\t<li>'RBMS3_HUMAN'</li>\n",
       "\t<li>'LRP1B_HUMAN'</li>\n",
       "\t<li>'PPFIA2_HUMAN'</li>\n",
       "\t<li>'LAMA4_HUMAN'</li>\n",
       "\t<li>'LSAMP_HUMAN'</li>\n",
       "\t<li>'SPHKAP_HUMAN'</li>\n",
       "\t<li>'MYH7_HUMAN'</li>\n",
       "\t<li>'EGFEM1P_HUMAN'</li>\n",
       "\t<li>'PIP5K1B_HUMAN'</li>\n",
       "\t<li>'DLEU1_HUMAN'</li>\n",
       "\t<li>'PDGFD_HUMAN'</li>\n",
       "\t<li>'RNF150_HUMAN'</li>\n",
       "\t<li>'HS6ST3_HUMAN'</li>\n",
       "\t<li>'COL11A1_HUMAN'</li>\n",
       "\t<li>'RELN_HUMAN'</li>\n",
       "\t<li>'HMGA2_HUMAN'</li>\n",
       "\t<li>'L3MBTL4_HUMAN'</li>\n",
       "\t<li>'LDHA_HUMAN'</li>\n",
       "\t<li>'UNC5C_HUMAN'</li>\n",
       "\t<li>'NREP_HUMAN'</li>\n",
       "\t<li>'CASC9_HUMAN'</li>\n",
       "\t<li>'DTNA_HUMAN'</li>\n",
       "\t<li>'ANKRD44_HUMAN'</li>\n",
       "\t<li>'HSPG2_HUMAN'</li>\n",
       "\t<li>'ETV1_HUMAN'</li>\n",
       "\t<li>'NR2F2-AS1_HUMAN'</li>\n",
       "\t<li>'SYNPO2_HUMAN'</li>\n",
       "\t<li>'PLCXD3_HUMAN'</li>\n",
       "\t<li>'RPS6_HUMAN'</li>\n",
       "\t<li>'SMARCA2_HUMAN'</li>\n",
       "\t<li>'CKM_HUMAN'</li>\n",
       "\t<li>'GRIA4_HUMAN'</li>\n",
       "\t<li>'PRSS35_HUMAN'</li>\n",
       "\t<li>'SLC44A5_HUMAN'</li>\n",
       "\t<li>'NLGN4X_HUMAN'</li>\n",
       "\t<li>'XDH_HUMAN'</li>\n",
       "\t<li>'PRRX1_HUMAN'</li>\n",
       "\t<li>'PDZD2_HUMAN'</li>\n",
       "\t<li>'RNU4-2_HUMAN'</li>\n",
       "</ol>\n"
      ],
      "text/latex": [
       "\\begin{enumerate*}\n",
       "\\item 'TTN\\_HUMAN'\n",
       "\\item 'NLGN1\\_HUMAN'\n",
       "\\item 'FAM155A\\_HUMAN'\n",
       "\\item 'CCDC141\\_HUMAN'\n",
       "\\item 'KCNIP4\\_HUMAN'\n",
       "\\item 'SORCS1\\_HUMAN'\n",
       "\\item 'HS3ST4\\_HUMAN'\n",
       "\\item 'GRIN2A\\_HUMAN'\n",
       "\\item 'PTCHD4\\_HUMAN'\n",
       "\\item 'UACA\\_HUMAN'\n",
       "\\item 'PRTG\\_HUMAN'\n",
       "\\item 'CNTN5\\_HUMAN'\n",
       "\\item 'GPRIN3\\_HUMAN'\n",
       "\\item 'PEG10\\_HUMAN'\n",
       "\\item 'ANGPT1\\_HUMAN'\n",
       "\\item 'CDH11\\_HUMAN'\n",
       "\\item 'SYT1\\_HUMAN'\n",
       "\\item 'FN1\\_HUMAN'\n",
       "\\item 'TENM3\\_HUMAN'\n",
       "\\item 'PLEKHA5\\_HUMAN'\n",
       "\\item 'LDLRAD4\\_HUMAN'\n",
       "\\item 'TENM4\\_HUMAN'\n",
       "\\item 'RBMS3\\_HUMAN'\n",
       "\\item 'LRP1B\\_HUMAN'\n",
       "\\item 'PPFIA2\\_HUMAN'\n",
       "\\item 'LAMA4\\_HUMAN'\n",
       "\\item 'LSAMP\\_HUMAN'\n",
       "\\item 'SPHKAP\\_HUMAN'\n",
       "\\item 'MYH7\\_HUMAN'\n",
       "\\item 'EGFEM1P\\_HUMAN'\n",
       "\\item 'PIP5K1B\\_HUMAN'\n",
       "\\item 'DLEU1\\_HUMAN'\n",
       "\\item 'PDGFD\\_HUMAN'\n",
       "\\item 'RNF150\\_HUMAN'\n",
       "\\item 'HS6ST3\\_HUMAN'\n",
       "\\item 'COL11A1\\_HUMAN'\n",
       "\\item 'RELN\\_HUMAN'\n",
       "\\item 'HMGA2\\_HUMAN'\n",
       "\\item 'L3MBTL4\\_HUMAN'\n",
       "\\item 'LDHA\\_HUMAN'\n",
       "\\item 'UNC5C\\_HUMAN'\n",
       "\\item 'NREP\\_HUMAN'\n",
       "\\item 'CASC9\\_HUMAN'\n",
       "\\item 'DTNA\\_HUMAN'\n",
       "\\item 'ANKRD44\\_HUMAN'\n",
       "\\item 'HSPG2\\_HUMAN'\n",
       "\\item 'ETV1\\_HUMAN'\n",
       "\\item 'NR2F2-AS1\\_HUMAN'\n",
       "\\item 'SYNPO2\\_HUMAN'\n",
       "\\item 'PLCXD3\\_HUMAN'\n",
       "\\item 'RPS6\\_HUMAN'\n",
       "\\item 'SMARCA2\\_HUMAN'\n",
       "\\item 'CKM\\_HUMAN'\n",
       "\\item 'GRIA4\\_HUMAN'\n",
       "\\item 'PRSS35\\_HUMAN'\n",
       "\\item 'SLC44A5\\_HUMAN'\n",
       "\\item 'NLGN4X\\_HUMAN'\n",
       "\\item 'XDH\\_HUMAN'\n",
       "\\item 'PRRX1\\_HUMAN'\n",
       "\\item 'PDZD2\\_HUMAN'\n",
       "\\item 'RNU4-2\\_HUMAN'\n",
       "\\end{enumerate*}\n"
      ],
      "text/markdown": [
       "1. 'TTN_HUMAN'\n",
       "2. 'NLGN1_HUMAN'\n",
       "3. 'FAM155A_HUMAN'\n",
       "4. 'CCDC141_HUMAN'\n",
       "5. 'KCNIP4_HUMAN'\n",
       "6. 'SORCS1_HUMAN'\n",
       "7. 'HS3ST4_HUMAN'\n",
       "8. 'GRIN2A_HUMAN'\n",
       "9. 'PTCHD4_HUMAN'\n",
       "10. 'UACA_HUMAN'\n",
       "11. 'PRTG_HUMAN'\n",
       "12. 'CNTN5_HUMAN'\n",
       "13. 'GPRIN3_HUMAN'\n",
       "14. 'PEG10_HUMAN'\n",
       "15. 'ANGPT1_HUMAN'\n",
       "16. 'CDH11_HUMAN'\n",
       "17. 'SYT1_HUMAN'\n",
       "18. 'FN1_HUMAN'\n",
       "19. 'TENM3_HUMAN'\n",
       "20. 'PLEKHA5_HUMAN'\n",
       "21. 'LDLRAD4_HUMAN'\n",
       "22. 'TENM4_HUMAN'\n",
       "23. 'RBMS3_HUMAN'\n",
       "24. 'LRP1B_HUMAN'\n",
       "25. 'PPFIA2_HUMAN'\n",
       "26. 'LAMA4_HUMAN'\n",
       "27. 'LSAMP_HUMAN'\n",
       "28. 'SPHKAP_HUMAN'\n",
       "29. 'MYH7_HUMAN'\n",
       "30. 'EGFEM1P_HUMAN'\n",
       "31. 'PIP5K1B_HUMAN'\n",
       "32. 'DLEU1_HUMAN'\n",
       "33. 'PDGFD_HUMAN'\n",
       "34. 'RNF150_HUMAN'\n",
       "35. 'HS6ST3_HUMAN'\n",
       "36. 'COL11A1_HUMAN'\n",
       "37. 'RELN_HUMAN'\n",
       "38. 'HMGA2_HUMAN'\n",
       "39. 'L3MBTL4_HUMAN'\n",
       "40. 'LDHA_HUMAN'\n",
       "41. 'UNC5C_HUMAN'\n",
       "42. 'NREP_HUMAN'\n",
       "43. 'CASC9_HUMAN'\n",
       "44. 'DTNA_HUMAN'\n",
       "45. 'ANKRD44_HUMAN'\n",
       "46. 'HSPG2_HUMAN'\n",
       "47. 'ETV1_HUMAN'\n",
       "48. 'NR2F2-AS1_HUMAN'\n",
       "49. 'SYNPO2_HUMAN'\n",
       "50. 'PLCXD3_HUMAN'\n",
       "51. 'RPS6_HUMAN'\n",
       "52. 'SMARCA2_HUMAN'\n",
       "53. 'CKM_HUMAN'\n",
       "54. 'GRIA4_HUMAN'\n",
       "55. 'PRSS35_HUMAN'\n",
       "56. 'SLC44A5_HUMAN'\n",
       "57. 'NLGN4X_HUMAN'\n",
       "58. 'XDH_HUMAN'\n",
       "59. 'PRRX1_HUMAN'\n",
       "60. 'PDZD2_HUMAN'\n",
       "61. 'RNU4-2_HUMAN'\n",
       "\n",
       "\n"
      ],
      "text/plain": [
       " [1] \"TTN_HUMAN\"       \"NLGN1_HUMAN\"     \"FAM155A_HUMAN\"   \"CCDC141_HUMAN\"  \n",
       " [5] \"KCNIP4_HUMAN\"    \"SORCS1_HUMAN\"    \"HS3ST4_HUMAN\"    \"GRIN2A_HUMAN\"   \n",
       " [9] \"PTCHD4_HUMAN\"    \"UACA_HUMAN\"      \"PRTG_HUMAN\"      \"CNTN5_HUMAN\"    \n",
       "[13] \"GPRIN3_HUMAN\"    \"PEG10_HUMAN\"     \"ANGPT1_HUMAN\"    \"CDH11_HUMAN\"    \n",
       "[17] \"SYT1_HUMAN\"      \"FN1_HUMAN\"       \"TENM3_HUMAN\"     \"PLEKHA5_HUMAN\"  \n",
       "[21] \"LDLRAD4_HUMAN\"   \"TENM4_HUMAN\"     \"RBMS3_HUMAN\"     \"LRP1B_HUMAN\"    \n",
       "[25] \"PPFIA2_HUMAN\"    \"LAMA4_HUMAN\"     \"LSAMP_HUMAN\"     \"SPHKAP_HUMAN\"   \n",
       "[29] \"MYH7_HUMAN\"      \"EGFEM1P_HUMAN\"   \"PIP5K1B_HUMAN\"   \"DLEU1_HUMAN\"    \n",
       "[33] \"PDGFD_HUMAN\"     \"RNF150_HUMAN\"    \"HS6ST3_HUMAN\"    \"COL11A1_HUMAN\"  \n",
       "[37] \"RELN_HUMAN\"      \"HMGA2_HUMAN\"     \"L3MBTL4_HUMAN\"   \"LDHA_HUMAN\"     \n",
       "[41] \"UNC5C_HUMAN\"     \"NREP_HUMAN\"      \"CASC9_HUMAN\"     \"DTNA_HUMAN\"     \n",
       "[45] \"ANKRD44_HUMAN\"   \"HSPG2_HUMAN\"     \"ETV1_HUMAN\"      \"NR2F2-AS1_HUMAN\"\n",
       "[49] \"SYNPO2_HUMAN\"    \"PLCXD3_HUMAN\"    \"RPS6_HUMAN\"      \"SMARCA2_HUMAN\"  \n",
       "[53] \"CKM_HUMAN\"       \"GRIA4_HUMAN\"     \"PRSS35_HUMAN\"    \"SLC44A5_HUMAN\"  \n",
       "[57] \"NLGN4X_HUMAN\"    \"XDH_HUMAN\"       \"PRRX1_HUMAN\"     \"PDZD2_HUMAN\"    \n",
       "[61] \"RNU4-2_HUMAN\"   "
      ]
     },
     "metadata": {},
     "output_type": "display_data"
    }
   ],
   "source": [
    "print(length(genes_intersect))\n",
    "genes_intersect"
   ]
  },
  {
   "cell_type": "markdown",
   "metadata": {},
   "source": [
    "### Distribution of non-zero genes at min lambda"
   ]
  },
  {
   "cell_type": "code",
   "execution_count": 13,
   "metadata": {
    "scrolled": false
   },
   "outputs": [
    {
     "name": "stderr",
     "output_type": "stream",
     "text": [
      "`stat_bin()` using `bins = 30`. Pick better value with `binwidth`.\n"
     ]
    },
    {
     "data": {},
     "metadata": {},
     "output_type": "display_data"
    },
    {
     "data": {
      "image/png": "[encoded data removed]",
      "text/plain": [
       "plot without title"
      ]
     },
     "metadata": {},
     "output_type": "display_data"
    }
   ],
   "source": [
    "nonzero_gene_count <- as.data.frame(nonzero_gene_count)\n",
    "colnames(nonzero_gene_count) <- \"nonzeroGenes\"\n",
    "ggplot(nonzero_gene_count) + geom_histogram(aes(nonzeroGenes))"
   ]
  },
  {
   "cell_type": "markdown",
   "metadata": {},
   "source": [
    "### Compare gene list to previous analysis (remove_1s2exp data)"
   ]
  },
  {
   "cell_type": "code",
   "execution_count": 14,
   "metadata": {},
   "outputs": [
    {
     "data": {
      "text/html": [
       "<ol class=list-inline>\n",
       "\t<li>'FAM155A_HUMAN'</li>\n",
       "\t<li>'CCDC141_HUMAN'</li>\n",
       "\t<li>'KCNIP4_HUMAN'</li>\n",
       "\t<li>'SORCS1_HUMAN'</li>\n",
       "\t<li>'GRIN2A_HUMAN'</li>\n",
       "\t<li>'PTCHD4_HUMAN'</li>\n",
       "\t<li>'UACA_HUMAN'</li>\n",
       "\t<li>'CNTN5_HUMAN'</li>\n",
       "\t<li>'GPRIN3_HUMAN'</li>\n",
       "\t<li>'PEG10_HUMAN'</li>\n",
       "\t<li>'ANGPT1_HUMAN'</li>\n",
       "\t<li>'CDH11_HUMAN'</li>\n",
       "\t<li>'SYT1_HUMAN'</li>\n",
       "\t<li>'FN1_HUMAN'</li>\n",
       "\t<li>'TENM3_HUMAN'</li>\n",
       "\t<li>'LDLRAD4_HUMAN'</li>\n",
       "\t<li>'TENM4_HUMAN'</li>\n",
       "\t<li>'RBMS3_HUMAN'</li>\n",
       "\t<li>'SPHKAP_HUMAN'</li>\n",
       "\t<li>'MYH7_HUMAN'</li>\n",
       "\t<li>'EGFEM1P_HUMAN'</li>\n",
       "\t<li>'DLEU1_HUMAN'</li>\n",
       "\t<li>'PDGFD_HUMAN'</li>\n",
       "\t<li>'HS6ST3_HUMAN'</li>\n",
       "\t<li>'COL11A1_HUMAN'</li>\n",
       "\t<li>'RELN_HUMAN'</li>\n",
       "\t<li>'HMGA2_HUMAN'</li>\n",
       "\t<li>'LDHA_HUMAN'</li>\n",
       "\t<li>'CASC9_HUMAN'</li>\n",
       "\t<li>'ANKRD44_HUMAN'</li>\n",
       "\t<li>'NR2F2-AS1_HUMAN'</li>\n",
       "\t<li>'PLCXD3_HUMAN'</li>\n",
       "\t<li>'SMARCA2_HUMAN'</li>\n",
       "\t<li>'PRSS35_HUMAN'</li>\n",
       "\t<li>'XDH_HUMAN'</li>\n",
       "\t<li>'PRRX1_HUMAN'</li>\n",
       "</ol>\n"
      ],
      "text/latex": [
       "\\begin{enumerate*}\n",
       "\\item 'FAM155A\\_HUMAN'\n",
       "\\item 'CCDC141\\_HUMAN'\n",
       "\\item 'KCNIP4\\_HUMAN'\n",
       "\\item 'SORCS1\\_HUMAN'\n",
       "\\item 'GRIN2A\\_HUMAN'\n",
       "\\item 'PTCHD4\\_HUMAN'\n",
       "\\item 'UACA\\_HUMAN'\n",
       "\\item 'CNTN5\\_HUMAN'\n",
       "\\item 'GPRIN3\\_HUMAN'\n",
       "\\item 'PEG10\\_HUMAN'\n",
       "\\item 'ANGPT1\\_HUMAN'\n",
       "\\item 'CDH11\\_HUMAN'\n",
       "\\item 'SYT1\\_HUMAN'\n",
       "\\item 'FN1\\_HUMAN'\n",
       "\\item 'TENM3\\_HUMAN'\n",
       "\\item 'LDLRAD4\\_HUMAN'\n",
       "\\item 'TENM4\\_HUMAN'\n",
       "\\item 'RBMS3\\_HUMAN'\n",
       "\\item 'SPHKAP\\_HUMAN'\n",
       "\\item 'MYH7\\_HUMAN'\n",
       "\\item 'EGFEM1P\\_HUMAN'\n",
       "\\item 'DLEU1\\_HUMAN'\n",
       "\\item 'PDGFD\\_HUMAN'\n",
       "\\item 'HS6ST3\\_HUMAN'\n",
       "\\item 'COL11A1\\_HUMAN'\n",
       "\\item 'RELN\\_HUMAN'\n",
       "\\item 'HMGA2\\_HUMAN'\n",
       "\\item 'LDHA\\_HUMAN'\n",
       "\\item 'CASC9\\_HUMAN'\n",
       "\\item 'ANKRD44\\_HUMAN'\n",
       "\\item 'NR2F2-AS1\\_HUMAN'\n",
       "\\item 'PLCXD3\\_HUMAN'\n",
       "\\item 'SMARCA2\\_HUMAN'\n",
       "\\item 'PRSS35\\_HUMAN'\n",
       "\\item 'XDH\\_HUMAN'\n",
       "\\item 'PRRX1\\_HUMAN'\n",
       "\\end{enumerate*}\n"
      ],
      "text/markdown": [
       "1. 'FAM155A_HUMAN'\n",
       "2. 'CCDC141_HUMAN'\n",
       "3. 'KCNIP4_HUMAN'\n",
       "4. 'SORCS1_HUMAN'\n",
       "5. 'GRIN2A_HUMAN'\n",
       "6. 'PTCHD4_HUMAN'\n",
       "7. 'UACA_HUMAN'\n",
       "8. 'CNTN5_HUMAN'\n",
       "9. 'GPRIN3_HUMAN'\n",
       "10. 'PEG10_HUMAN'\n",
       "11. 'ANGPT1_HUMAN'\n",
       "12. 'CDH11_HUMAN'\n",
       "13. 'SYT1_HUMAN'\n",
       "14. 'FN1_HUMAN'\n",
       "15. 'TENM3_HUMAN'\n",
       "16. 'LDLRAD4_HUMAN'\n",
       "17. 'TENM4_HUMAN'\n",
       "18. 'RBMS3_HUMAN'\n",
       "19. 'SPHKAP_HUMAN'\n",
       "20. 'MYH7_HUMAN'\n",
       "21. 'EGFEM1P_HUMAN'\n",
       "22. 'DLEU1_HUMAN'\n",
       "23. 'PDGFD_HUMAN'\n",
       "24. 'HS6ST3_HUMAN'\n",
       "25. 'COL11A1_HUMAN'\n",
       "26. 'RELN_HUMAN'\n",
       "27. 'HMGA2_HUMAN'\n",
       "28. 'LDHA_HUMAN'\n",
       "29. 'CASC9_HUMAN'\n",
       "30. 'ANKRD44_HUMAN'\n",
       "31. 'NR2F2-AS1_HUMAN'\n",
       "32. 'PLCXD3_HUMAN'\n",
       "33. 'SMARCA2_HUMAN'\n",
       "34. 'PRSS35_HUMAN'\n",
       "35. 'XDH_HUMAN'\n",
       "36. 'PRRX1_HUMAN'\n",
       "\n",
       "\n"
      ],
      "text/plain": [
       " [1] \"FAM155A_HUMAN\"   \"CCDC141_HUMAN\"   \"KCNIP4_HUMAN\"    \"SORCS1_HUMAN\"   \n",
       " [5] \"GRIN2A_HUMAN\"    \"PTCHD4_HUMAN\"    \"UACA_HUMAN\"      \"CNTN5_HUMAN\"    \n",
       " [9] \"GPRIN3_HUMAN\"    \"PEG10_HUMAN\"     \"ANGPT1_HUMAN\"    \"CDH11_HUMAN\"    \n",
       "[13] \"SYT1_HUMAN\"      \"FN1_HUMAN\"       \"TENM3_HUMAN\"     \"LDLRAD4_HUMAN\"  \n",
       "[17] \"TENM4_HUMAN\"     \"RBMS3_HUMAN\"     \"SPHKAP_HUMAN\"    \"MYH7_HUMAN\"     \n",
       "[21] \"EGFEM1P_HUMAN\"   \"DLEU1_HUMAN\"     \"PDGFD_HUMAN\"     \"HS6ST3_HUMAN\"   \n",
       "[25] \"COL11A1_HUMAN\"   \"RELN_HUMAN\"      \"HMGA2_HUMAN\"     \"LDHA_HUMAN\"     \n",
       "[29] \"CASC9_HUMAN\"     \"ANKRD44_HUMAN\"   \"NR2F2-AS1_HUMAN\" \"PLCXD3_HUMAN\"   \n",
       "[33] \"SMARCA2_HUMAN\"   \"PRSS35_HUMAN\"    \"XDH_HUMAN\"       \"PRRX1_HUMAN\"    "
      ]
     },
     "metadata": {},
     "output_type": "display_data"
    },
    {
     "data": {
      "text/html": [
       "36"
      ],
      "text/latex": [
       "36"
      ],
      "text/markdown": [
       "36"
      ],
      "text/plain": [
       "[1] 36"
      ]
     },
     "metadata": {},
     "output_type": "display_data"
    }
   ],
   "source": [
    "remove_1st2exp_genes <- c('FAM155A_HUMAN','ARHGAP6_HUMAN','ADAMTS12_HUMAN','CCDC141_HUMAN','KCNIP4_HUMAN','SORCS1_HUMAN','ROBO2_HUMAN','GRIN2A_HUMAN','PDE3A_HUMAN','PTCHD4_HUMAN','UACA_HUMAN','CNTN5_HUMAN','GPRIN3_HUMAN','TECRL_HUMAN','PEG10_HUMAN','ANGPT1_HUMAN','CDH11_HUMAN','BMPER_HUMAN','SYT1_HUMAN','FN1_HUMAN','TENM3_HUMAN','GPC3_HUMAN','LDLRAD4_HUMAN','TENM4_HUMAN','RBMS3_HUMAN','AFF3_HUMAN','SPHKAP_HUMAN','MYH7_HUMAN','EGFEM1P_HUMAN','ANXA3_HUMAN','DLEU1_HUMAN','PDGFD_HUMAN','HS6ST3_HUMAN','PPP1R9A_HUMAN','COL11A1_HUMAN','RELN_HUMAN','HMGA2_HUMAN','FRMD5_HUMAN','BCAT1_HUMAN','LDHA_HUMAN','CASC9_HUMAN','MLIP_HUMAN','ANKRD44_HUMAN','NR2F2-AS1_HUMAN','PLCXD3_HUMAN','SMARCA2_HUMAN','PRSS35_HUMAN','PPP1R14C_HUMAN','DOK4_HUMAN','XDH_HUMAN','PRRX1_HUMAN','EEF1A1_HUMAN')\n",
    "x <- intersect(remove_1st2exp_genes, genes_intersect)\n",
    "x\n",
    "length(x)"
   ]
  },
  {
   "cell_type": "markdown",
   "metadata": {},
   "source": [
    "36 genes are detected in both analyses"
   ]
  },
  {
   "cell_type": "markdown",
   "metadata": {},
   "source": [
    "### Caclulate fold changes for genes"
   ]
  },
  {
   "cell_type": "code",
   "execution_count": 15,
   "metadata": {
    "scrolled": false
   },
   "outputs": [
    {
     "name": "stderr",
     "output_type": "stream",
     "text": [
      "\n",
      "Attaching package: ‘dplyr’\n",
      "\n",
      "The following objects are masked from ‘package:stats’:\n",
      "\n",
      "    filter, lag\n",
      "\n",
      "The following objects are masked from ‘package:base’:\n",
      "\n",
      "    intersect, setdiff, setequal, union\n",
      "\n"
     ]
    }
   ],
   "source": [
    "library(dplyr)"
   ]
  },
  {
   "cell_type": "code",
   "execution_count": 16,
   "metadata": {
    "collapsed": true
   },
   "outputs": [],
   "source": [
    "load(\"/allen/aics/gene-editing/RNA_seq/scRNAseq_SeeligCollaboration/12012017_cardio/seurat/all_cells/regressions/reg1/train_cm_filtered_cells_entrez_only_normalized_counts.RData\")"
   ]
  },
  {
   "cell_type": "code",
   "execution_count": 17,
   "metadata": {
    "collapsed": true
   },
   "outputs": [],
   "source": [
    "cell_metadata <- read.csv(\"/allen/aics/gene-editing/RNA_seq/scRNAseq_SeeligCollaboration/12012017_cardio/seurat/all_cells/regressions/reg1/train_cm_filtered_cells_entrez_only_metadata.csv\")"
   ]
  },
  {
   "cell_type": "code",
   "execution_count": 19,
   "metadata": {
    "collapsed": true
   },
   "outputs": [],
   "source": [
    "cardioAICS <- t(cardioAICS)\n",
    "\n",
    "early_cells <- cell_metadata$day %in% c(\"D12\", \"D14\")\n",
    "cardioAICS <- cardioAICS[early_cells,]\n",
    "\n",
    "diff_day <- cell_metadata$day[early_cells]\n",
    "\n",
    "names(diff_day) <- cell_metadata$X[early_cells]\n",
    "\n",
    "cell_metadata <- cell_metadata[early_cells,]"
   ]
  },
  {
   "cell_type": "code",
   "execution_count": 21,
   "metadata": {
    "collapsed": true
   },
   "outputs": [],
   "source": [
    "genes.use <- genes_intersect\n",
    "\n",
    "cytokine_cells <- cell_metadata$X[cell_metadata$protocol == \"Murry\"]\n",
    "small_mol_cells <- cell_metadata$X[cell_metadata$protocol == \"Lian\"]\n",
    "\n",
    "cytokine_exp_mat <- cardioAICS[cytokine_cells,]\n",
    "small_mol_exp_mat <- cardioAICS[small_mol_cells,]\n",
    "\n",
    "foldChange_list <- list()\n",
    "for (i in 1:length(genes.use)) {\n",
    "    gene <- genes.use[i]\n",
    "    cytokine_exp <- cytokine_exp_mat[,gene]\n",
    "    small_mol_exp <- small_mol_exp_mat[,gene]\n",
    "    log2fc <- log2(mean(expm1(small_mol_exp)) + 1) - log2(mean(expm1(cytokine_exp)) + 1)\n",
    "    foldChange_list[[gene]] <- log2fc\n",
    "    \n",
    "}\n",
    "\n",
    "lfc_df <- data.frame(\"log2fc\" = as.numeric(foldChange_list), \"gene\" = names(foldChange_list), row.names = names(foldChange_list))\n",
    "lfc_df <- dplyr::arrange(lfc_df, log2fc)"
   ]
  },
  {
   "cell_type": "code",
   "execution_count": 22,
   "metadata": {
    "scrolled": true
   },
   "outputs": [
    {
     "data": {
      "text/html": [
       "<table>\n",
       "<thead><tr><th scope=col>log2fc</th><th scope=col>gene</th></tr></thead>\n",
       "<tbody>\n",
       "\t<tr><td>-3.6607493   </td><td>CNTN5_HUMAN  </td></tr>\n",
       "\t<tr><td>-1.5836942   </td><td>SPHKAP_HUMAN </td></tr>\n",
       "\t<tr><td>-1.0904951   </td><td>GRIA4_HUMAN  </td></tr>\n",
       "\t<tr><td>-1.0326458   </td><td>PDGFD_HUMAN  </td></tr>\n",
       "\t<tr><td>-1.0264053   </td><td>EGFEM1P_HUMAN</td></tr>\n",
       "\t<tr><td>-0.9273187   </td><td>SORCS1_HUMAN </td></tr>\n",
       "\t<tr><td>-0.9261419   </td><td>L3MBTL4_HUMAN</td></tr>\n",
       "\t<tr><td>-0.8601971   </td><td>LRP1B_HUMAN  </td></tr>\n",
       "\t<tr><td>-0.8264670   </td><td>PLCXD3_HUMAN </td></tr>\n",
       "\t<tr><td>-0.7807262   </td><td>SYNPO2_HUMAN </td></tr>\n",
       "\t<tr><td>-0.7481973   </td><td>UNC5C_HUMAN  </td></tr>\n",
       "\t<tr><td>-0.7113965   </td><td>RBMS3_HUMAN  </td></tr>\n",
       "\t<tr><td>-0.6127454   </td><td>COL11A1_HUMAN</td></tr>\n",
       "\t<tr><td>-0.5857688   </td><td>PEG10_HUMAN  </td></tr>\n",
       "\t<tr><td>-0.5798352   </td><td>RNF150_HUMAN </td></tr>\n",
       "\t<tr><td>-0.5558643   </td><td>HS6ST3_HUMAN </td></tr>\n",
       "\t<tr><td>-0.4715647   </td><td>UACA_HUMAN   </td></tr>\n",
       "\t<tr><td>-0.4168508   </td><td>ANKRD44_HUMAN</td></tr>\n",
       "\t<tr><td>-0.4158050   </td><td>PDZD2_HUMAN  </td></tr>\n",
       "\t<tr><td>-0.3928716   </td><td>CDH11_HUMAN  </td></tr>\n",
       "\t<tr><td>-0.3745952   </td><td>PIP5K1B_HUMAN</td></tr>\n",
       "\t<tr><td>-0.3514524   </td><td>LDLRAD4_HUMAN</td></tr>\n",
       "\t<tr><td>-0.3504953   </td><td>LSAMP_HUMAN  </td></tr>\n",
       "\t<tr><td>-0.3308028   </td><td>GPRIN3_HUMAN </td></tr>\n",
       "\t<tr><td>-0.3185550   </td><td>FAM155A_HUMAN</td></tr>\n",
       "\t<tr><td>-0.3048274   </td><td>PRSS35_HUMAN </td></tr>\n",
       "\t<tr><td>-0.1902798   </td><td>HS3ST4_HUMAN </td></tr>\n",
       "\t<tr><td>-0.1785401   </td><td>TTN_HUMAN    </td></tr>\n",
       "\t<tr><td>-0.1744155   </td><td>PPFIA2_HUMAN </td></tr>\n",
       "\t<tr><td>-0.1246612   </td><td>PLEKHA5_HUMAN</td></tr>\n",
       "\t<tr><td>⋮</td><td>⋮</td></tr>\n",
       "\t<tr><td>-0.07885737    </td><td>PRRX1_HUMAN    </td></tr>\n",
       "\t<tr><td>-0.06295875    </td><td>CKM_HUMAN      </td></tr>\n",
       "\t<tr><td> 0.01422094    </td><td>MYH7_HUMAN     </td></tr>\n",
       "\t<tr><td> 0.08104172    </td><td>RELN_HUMAN     </td></tr>\n",
       "\t<tr><td> 0.09949986    </td><td>ETV1_HUMAN     </td></tr>\n",
       "\t<tr><td> 0.15509388    </td><td>DTNA_HUMAN     </td></tr>\n",
       "\t<tr><td> 0.15739434    </td><td>SLC44A5_HUMAN  </td></tr>\n",
       "\t<tr><td> 0.16066728    </td><td>KCNIP4_HUMAN   </td></tr>\n",
       "\t<tr><td> 0.23024051    </td><td>ANGPT1_HUMAN   </td></tr>\n",
       "\t<tr><td> 0.25538640    </td><td>SMARCA2_HUMAN  </td></tr>\n",
       "\t<tr><td> 0.25607246    </td><td>XDH_HUMAN      </td></tr>\n",
       "\t<tr><td> 0.31007151    </td><td>LAMA4_HUMAN    </td></tr>\n",
       "\t<tr><td> 0.31164963    </td><td>RNU4-2_HUMAN   </td></tr>\n",
       "\t<tr><td> 0.37444431    </td><td>NLGN4X_HUMAN   </td></tr>\n",
       "\t<tr><td> 0.37969039    </td><td>LDHA_HUMAN     </td></tr>\n",
       "\t<tr><td> 0.39246753    </td><td>NREP_HUMAN     </td></tr>\n",
       "\t<tr><td> 0.49121218    </td><td>CASC9_HUMAN    </td></tr>\n",
       "\t<tr><td> 0.49489198    </td><td>HMGA2_HUMAN    </td></tr>\n",
       "\t<tr><td> 0.49554370    </td><td>GRIN2A_HUMAN   </td></tr>\n",
       "\t<tr><td> 0.56364585    </td><td>SYT1_HUMAN     </td></tr>\n",
       "\t<tr><td> 0.59104883    </td><td>DLEU1_HUMAN    </td></tr>\n",
       "\t<tr><td> 0.62571317    </td><td>TENM4_HUMAN    </td></tr>\n",
       "\t<tr><td> 0.63682193    </td><td>RPS6_HUMAN     </td></tr>\n",
       "\t<tr><td> 0.66387640    </td><td>PTCHD4_HUMAN   </td></tr>\n",
       "\t<tr><td> 0.67311035    </td><td>HSPG2_HUMAN    </td></tr>\n",
       "\t<tr><td> 0.68738462    </td><td>NR2F2-AS1_HUMAN</td></tr>\n",
       "\t<tr><td> 0.70345190    </td><td>PRTG_HUMAN     </td></tr>\n",
       "\t<tr><td> 0.77253256    </td><td>NLGN1_HUMAN    </td></tr>\n",
       "\t<tr><td> 1.11006671    </td><td>TENM3_HUMAN    </td></tr>\n",
       "\t<tr><td> 1.44702925    </td><td>FN1_HUMAN      </td></tr>\n",
       "</tbody>\n",
       "</table>\n"
      ],
      "text/latex": [
       "\\begin{tabular}{r|ll}\n",
       " log2fc & gene\\\\\n",
       "\\hline\n",
       "\t -3.6607493      & CNTN5\\_HUMAN  \\\\\n",
       "\t -1.5836942      & SPHKAP\\_HUMAN \\\\\n",
       "\t -1.0904951      & GRIA4\\_HUMAN  \\\\\n",
       "\t -1.0326458      & PDGFD\\_HUMAN  \\\\\n",
       "\t -1.0264053      & EGFEM1P\\_HUMAN\\\\\n",
       "\t -0.9273187      & SORCS1\\_HUMAN \\\\\n",
       "\t -0.9261419      & L3MBTL4\\_HUMAN\\\\\n",
       "\t -0.8601971      & LRP1B\\_HUMAN  \\\\\n",
       "\t -0.8264670      & PLCXD3\\_HUMAN \\\\\n",
       "\t -0.7807262      & SYNPO2\\_HUMAN \\\\\n",
       "\t -0.7481973      & UNC5C\\_HUMAN  \\\\\n",
       "\t -0.7113965      & RBMS3\\_HUMAN  \\\\\n",
       "\t -0.6127454      & COL11A1\\_HUMAN\\\\\n",
       "\t -0.5857688      & PEG10\\_HUMAN  \\\\\n",
       "\t -0.5798352      & RNF150\\_HUMAN \\\\\n",
       "\t -0.5558643      & HS6ST3\\_HUMAN \\\\\n",
       "\t -0.4715647      & UACA\\_HUMAN   \\\\\n",
       "\t -0.4168508      & ANKRD44\\_HUMAN\\\\\n",
       "\t -0.4158050      & PDZD2\\_HUMAN  \\\\\n",
       "\t -0.3928716      & CDH11\\_HUMAN  \\\\\n",
       "\t -0.3745952      & PIP5K1B\\_HUMAN\\\\\n",
       "\t -0.3514524      & LDLRAD4\\_HUMAN\\\\\n",
       "\t -0.3504953      & LSAMP\\_HUMAN  \\\\\n",
       "\t -0.3308028      & GPRIN3\\_HUMAN \\\\\n",
       "\t -0.3185550      & FAM155A\\_HUMAN\\\\\n",
       "\t -0.3048274      & PRSS35\\_HUMAN \\\\\n",
       "\t -0.1902798      & HS3ST4\\_HUMAN \\\\\n",
       "\t -0.1785401      & TTN\\_HUMAN    \\\\\n",
       "\t -0.1744155      & PPFIA2\\_HUMAN \\\\\n",
       "\t -0.1246612      & PLEKHA5\\_HUMAN\\\\\n",
       "\t ⋮ & ⋮\\\\\n",
       "\t -0.07885737       & PRRX1\\_HUMAN    \\\\\n",
       "\t -0.06295875       & CKM\\_HUMAN      \\\\\n",
       "\t  0.01422094       & MYH7\\_HUMAN     \\\\\n",
       "\t  0.08104172       & RELN\\_HUMAN     \\\\\n",
       "\t  0.09949986       & ETV1\\_HUMAN     \\\\\n",
       "\t  0.15509388       & DTNA\\_HUMAN     \\\\\n",
       "\t  0.15739434       & SLC44A5\\_HUMAN  \\\\\n",
       "\t  0.16066728       & KCNIP4\\_HUMAN   \\\\\n",
       "\t  0.23024051       & ANGPT1\\_HUMAN   \\\\\n",
       "\t  0.25538640       & SMARCA2\\_HUMAN  \\\\\n",
       "\t  0.25607246       & XDH\\_HUMAN      \\\\\n",
       "\t  0.31007151       & LAMA4\\_HUMAN    \\\\\n",
       "\t  0.31164963       & RNU4-2\\_HUMAN   \\\\\n",
       "\t  0.37444431       & NLGN4X\\_HUMAN   \\\\\n",
       "\t  0.37969039       & LDHA\\_HUMAN     \\\\\n",
       "\t  0.39246753       & NREP\\_HUMAN     \\\\\n",
       "\t  0.49121218       & CASC9\\_HUMAN    \\\\\n",
       "\t  0.49489198       & HMGA2\\_HUMAN    \\\\\n",
       "\t  0.49554370       & GRIN2A\\_HUMAN   \\\\\n",
       "\t  0.56364585       & SYT1\\_HUMAN     \\\\\n",
       "\t  0.59104883       & DLEU1\\_HUMAN    \\\\\n",
       "\t  0.62571317       & TENM4\\_HUMAN    \\\\\n",
       "\t  0.63682193       & RPS6\\_HUMAN     \\\\\n",
       "\t  0.66387640       & PTCHD4\\_HUMAN   \\\\\n",
       "\t  0.67311035       & HSPG2\\_HUMAN    \\\\\n",
       "\t  0.68738462       & NR2F2-AS1\\_HUMAN\\\\\n",
       "\t  0.70345190       & PRTG\\_HUMAN     \\\\\n",
       "\t  0.77253256       & NLGN1\\_HUMAN    \\\\\n",
       "\t  1.11006671       & TENM3\\_HUMAN    \\\\\n",
       "\t  1.44702925       & FN1\\_HUMAN      \\\\\n",
       "\\end{tabular}\n"
      ],
      "text/markdown": [
       "\n",
       "log2fc | gene | \n",
       "|---|---|---|---|---|---|---|---|---|---|---|---|---|---|---|---|---|---|---|---|---|---|---|---|---|---|---|---|---|---|---|---|---|---|---|---|---|---|---|---|---|---|---|---|---|---|---|---|---|---|---|---|---|---|---|---|---|---|---|---|---|\n",
       "| -3.6607493    | CNTN5_HUMAN   | \n",
       "| -1.5836942    | SPHKAP_HUMAN  | \n",
       "| -1.0904951    | GRIA4_HUMAN   | \n",
       "| -1.0326458    | PDGFD_HUMAN   | \n",
       "| -1.0264053    | EGFEM1P_HUMAN | \n",
       "| -0.9273187    | SORCS1_HUMAN  | \n",
       "| -0.9261419    | L3MBTL4_HUMAN | \n",
       "| -0.8601971    | LRP1B_HUMAN   | \n",
       "| -0.8264670    | PLCXD3_HUMAN  | \n",
       "| -0.7807262    | SYNPO2_HUMAN  | \n",
       "| -0.7481973    | UNC5C_HUMAN   | \n",
       "| -0.7113965    | RBMS3_HUMAN   | \n",
       "| -0.6127454    | COL11A1_HUMAN | \n",
       "| -0.5857688    | PEG10_HUMAN   | \n",
       "| -0.5798352    | RNF150_HUMAN  | \n",
       "| -0.5558643    | HS6ST3_HUMAN  | \n",
       "| -0.4715647    | UACA_HUMAN    | \n",
       "| -0.4168508    | ANKRD44_HUMAN | \n",
       "| -0.4158050    | PDZD2_HUMAN   | \n",
       "| -0.3928716    | CDH11_HUMAN   | \n",
       "| -0.3745952    | PIP5K1B_HUMAN | \n",
       "| -0.3514524    | LDLRAD4_HUMAN | \n",
       "| -0.3504953    | LSAMP_HUMAN   | \n",
       "| -0.3308028    | GPRIN3_HUMAN  | \n",
       "| -0.3185550    | FAM155A_HUMAN | \n",
       "| -0.3048274    | PRSS35_HUMAN  | \n",
       "| -0.1902798    | HS3ST4_HUMAN  | \n",
       "| -0.1785401    | TTN_HUMAN     | \n",
       "| -0.1744155    | PPFIA2_HUMAN  | \n",
       "| -0.1246612    | PLEKHA5_HUMAN | \n",
       "| ⋮ | ⋮ | \n",
       "| -0.07885737     | PRRX1_HUMAN     | \n",
       "| -0.06295875     | CKM_HUMAN       | \n",
       "|  0.01422094     | MYH7_HUMAN      | \n",
       "|  0.08104172     | RELN_HUMAN      | \n",
       "|  0.09949986     | ETV1_HUMAN      | \n",
       "|  0.15509388     | DTNA_HUMAN      | \n",
       "|  0.15739434     | SLC44A5_HUMAN   | \n",
       "|  0.16066728     | KCNIP4_HUMAN    | \n",
       "|  0.23024051     | ANGPT1_HUMAN    | \n",
       "|  0.25538640     | SMARCA2_HUMAN   | \n",
       "|  0.25607246     | XDH_HUMAN       | \n",
       "|  0.31007151     | LAMA4_HUMAN     | \n",
       "|  0.31164963     | RNU4-2_HUMAN    | \n",
       "|  0.37444431     | NLGN4X_HUMAN    | \n",
       "|  0.37969039     | LDHA_HUMAN      | \n",
       "|  0.39246753     | NREP_HUMAN      | \n",
       "|  0.49121218     | CASC9_HUMAN     | \n",
       "|  0.49489198     | HMGA2_HUMAN     | \n",
       "|  0.49554370     | GRIN2A_HUMAN    | \n",
       "|  0.56364585     | SYT1_HUMAN      | \n",
       "|  0.59104883     | DLEU1_HUMAN     | \n",
       "|  0.62571317     | TENM4_HUMAN     | \n",
       "|  0.63682193     | RPS6_HUMAN      | \n",
       "|  0.66387640     | PTCHD4_HUMAN    | \n",
       "|  0.67311035     | HSPG2_HUMAN     | \n",
       "|  0.68738462     | NR2F2-AS1_HUMAN | \n",
       "|  0.70345190     | PRTG_HUMAN      | \n",
       "|  0.77253256     | NLGN1_HUMAN     | \n",
       "|  1.11006671     | TENM3_HUMAN     | \n",
       "|  1.44702925     | FN1_HUMAN       | \n",
       "\n",
       "\n"
      ],
      "text/plain": [
       "   log2fc      gene           \n",
       "1  -3.6607493  CNTN5_HUMAN    \n",
       "2  -1.5836942  SPHKAP_HUMAN   \n",
       "3  -1.0904951  GRIA4_HUMAN    \n",
       "4  -1.0326458  PDGFD_HUMAN    \n",
       "5  -1.0264053  EGFEM1P_HUMAN  \n",
       "6  -0.9273187  SORCS1_HUMAN   \n",
       "7  -0.9261419  L3MBTL4_HUMAN  \n",
       "8  -0.8601971  LRP1B_HUMAN    \n",
       "9  -0.8264670  PLCXD3_HUMAN   \n",
       "10 -0.7807262  SYNPO2_HUMAN   \n",
       "11 -0.7481973  UNC5C_HUMAN    \n",
       "12 -0.7113965  RBMS3_HUMAN    \n",
       "13 -0.6127454  COL11A1_HUMAN  \n",
       "14 -0.5857688  PEG10_HUMAN    \n",
       "15 -0.5798352  RNF150_HUMAN   \n",
       "16 -0.5558643  HS6ST3_HUMAN   \n",
       "17 -0.4715647  UACA_HUMAN     \n",
       "18 -0.4168508  ANKRD44_HUMAN  \n",
       "19 -0.4158050  PDZD2_HUMAN    \n",
       "20 -0.3928716  CDH11_HUMAN    \n",
       "21 -0.3745952  PIP5K1B_HUMAN  \n",
       "22 -0.3514524  LDLRAD4_HUMAN  \n",
       "23 -0.3504953  LSAMP_HUMAN    \n",
       "24 -0.3308028  GPRIN3_HUMAN   \n",
       "25 -0.3185550  FAM155A_HUMAN  \n",
       "26 -0.3048274  PRSS35_HUMAN   \n",
       "27 -0.1902798  HS3ST4_HUMAN   \n",
       "28 -0.1785401  TTN_HUMAN      \n",
       "29 -0.1744155  PPFIA2_HUMAN   \n",
       "30 -0.1246612  PLEKHA5_HUMAN  \n",
       "⋮  ⋮           ⋮              \n",
       "32 -0.07885737 PRRX1_HUMAN    \n",
       "33 -0.06295875 CKM_HUMAN      \n",
       "34  0.01422094 MYH7_HUMAN     \n",
       "35  0.08104172 RELN_HUMAN     \n",
       "36  0.09949986 ETV1_HUMAN     \n",
       "37  0.15509388 DTNA_HUMAN     \n",
       "38  0.15739434 SLC44A5_HUMAN  \n",
       "39  0.16066728 KCNIP4_HUMAN   \n",
       "40  0.23024051 ANGPT1_HUMAN   \n",
       "41  0.25538640 SMARCA2_HUMAN  \n",
       "42  0.25607246 XDH_HUMAN      \n",
       "43  0.31007151 LAMA4_HUMAN    \n",
       "44  0.31164963 RNU4-2_HUMAN   \n",
       "45  0.37444431 NLGN4X_HUMAN   \n",
       "46  0.37969039 LDHA_HUMAN     \n",
       "47  0.39246753 NREP_HUMAN     \n",
       "48  0.49121218 CASC9_HUMAN    \n",
       "49  0.49489198 HMGA2_HUMAN    \n",
       "50  0.49554370 GRIN2A_HUMAN   \n",
       "51  0.56364585 SYT1_HUMAN     \n",
       "52  0.59104883 DLEU1_HUMAN    \n",
       "53  0.62571317 TENM4_HUMAN    \n",
       "54  0.63682193 RPS6_HUMAN     \n",
       "55  0.66387640 PTCHD4_HUMAN   \n",
       "56  0.67311035 HSPG2_HUMAN    \n",
       "57  0.68738462 NR2F2-AS1_HUMAN\n",
       "58  0.70345190 PRTG_HUMAN     \n",
       "59  0.77253256 NLGN1_HUMAN    \n",
       "60  1.11006671 TENM3_HUMAN    \n",
       "61  1.44702925 FN1_HUMAN      "
      ]
     },
     "metadata": {},
     "output_type": "display_data"
    }
   ],
   "source": [
    "lfc_df"
   ]
  },
  {
   "cell_type": "markdown",
   "metadata": {},
   "source": [
    "### Fit using 61 genes"
   ]
  },
  {
   "cell_type": "code",
   "execution_count": 23,
   "metadata": {
    "collapsed": true
   },
   "outputs": [],
   "source": [
    "diff_day <- as.factor(diff_day)"
   ]
  },
  {
   "cell_type": "code",
   "execution_count": 26,
   "metadata": {
    "collapsed": true
   },
   "outputs": [],
   "source": [
    "library(boot)"
   ]
  },
  {
   "cell_type": "code",
   "execution_count": 27,
   "metadata": {
    "collapsed": true
   },
   "outputs": [],
   "source": [
    "subset_cardio <- cardioAICS[,genes.use]\n",
    "subset_cardio <- as.data.frame(as.matrix(subset_cardio))"
   ]
  },
  {
   "cell_type": "code",
   "execution_count": 29,
   "metadata": {},
   "outputs": [
    {
     "data": {
      "text/html": [
       "<ol class=list-inline>\n",
       "\t<li>9800</li>\n",
       "\t<li>61</li>\n",
       "</ol>\n"
      ],
      "text/latex": [
       "\\begin{enumerate*}\n",
       "\\item 9800\n",
       "\\item 61\n",
       "\\end{enumerate*}\n"
      ],
      "text/markdown": [
       "1. 9800\n",
       "2. 61\n",
       "\n",
       "\n"
      ],
      "text/plain": [
       "[1] 9800   61"
      ]
     },
     "metadata": {},
     "output_type": "display_data"
    }
   ],
   "source": [
    "dim(subset_cardio)"
   ]
  },
  {
   "cell_type": "code",
   "execution_count": 30,
   "metadata": {
    "collapsed": true
   },
   "outputs": [],
   "source": [
    "fit <- glm(diff_day ~ .,\n",
    "    data = subset_cardio, family = binomial(\"logit\")\n",
    "   )"
   ]
  },
  {
   "cell_type": "code",
   "execution_count": 31,
   "metadata": {},
   "outputs": [
    {
     "data": {
      "text/plain": [
       "\n",
       "Call:  glm(formula = diff_day ~ ., family = binomial(\"logit\"), data = subset_cardio)\n",
       "\n",
       "Coefficients:\n",
       "      (Intercept)          TTN_HUMAN        NLGN1_HUMAN      FAM155A_HUMAN  \n",
       "          -0.8076             0.2891            -0.2513             0.3264  \n",
       "    CCDC141_HUMAN       KCNIP4_HUMAN       SORCS1_HUMAN       HS3ST4_HUMAN  \n",
       "          -0.3070            -0.3485             0.3650             0.4141  \n",
       "     GRIN2A_HUMAN       PTCHD4_HUMAN         UACA_HUMAN         PRTG_HUMAN  \n",
       "          -0.5001            -0.4390             0.2161            -0.3682  \n",
       "      CNTN5_HUMAN       GPRIN3_HUMAN        PEG10_HUMAN       ANGPT1_HUMAN  \n",
       "           0.7278             0.2183             0.2543            -0.3091  \n",
       "      CDH11_HUMAN         SYT1_HUMAN          FN1_HUMAN        TENM3_HUMAN  \n",
       "           0.2444            -0.4933            -0.1843            -0.3898  \n",
       "    PLEKHA5_HUMAN      LDLRAD4_HUMAN        TENM4_HUMAN        RBMS3_HUMAN  \n",
       "          -0.2504             0.3168            -0.2809             0.4278  \n",
       "      LRP1B_HUMAN       PPFIA2_HUMAN        LAMA4_HUMAN        LSAMP_HUMAN  \n",
       "           0.2658            -0.3019            -0.3871             0.2118  \n",
       "     SPHKAP_HUMAN         MYH7_HUMAN      EGFEM1P_HUMAN      PIP5K1B_HUMAN  \n",
       "           0.6615             0.1642             0.2550             0.3129  \n",
       "      DLEU1_HUMAN        PDGFD_HUMAN       RNF150_HUMAN       HS6ST3_HUMAN  \n",
       "          -0.2777             0.3322             0.2158             0.4949  \n",
       "    COL11A1_HUMAN         RELN_HUMAN        HMGA2_HUMAN      L3MBTL4_HUMAN  \n",
       "           0.4154             0.2495            -0.2880             0.2086  \n",
       "       LDHA_HUMAN        UNC5C_HUMAN         NREP_HUMAN        CASC9_HUMAN  \n",
       "          -0.4321             0.2958            -0.2427            -0.7065  \n",
       "       DTNA_HUMAN      ANKRD44_HUMAN        HSPG2_HUMAN         ETV1_HUMAN  \n",
       "           0.2579             0.5285            -0.3323            -0.3011  \n",
       "`NR2F2-AS1_HUMAN`       SYNPO2_HUMAN       PLCXD3_HUMAN         RPS6_HUMAN  \n",
       "          -0.9870             0.3257             0.2480            -0.3196  \n",
       "    SMARCA2_HUMAN          CKM_HUMAN        GRIA4_HUMAN       PRSS35_HUMAN  \n",
       "          -0.4041             0.3056             0.3445             0.3554  \n",
       "    SLC44A5_HUMAN       NLGN4X_HUMAN          XDH_HUMAN        PRRX1_HUMAN  \n",
       "          -0.5123            -0.4552            -0.9923             1.6891  \n",
       "      PDZD2_HUMAN     `RNU4-2_HUMAN`  \n",
       "           0.3674            -0.5535  \n",
       "\n",
       "Degrees of Freedom: 9799 Total (i.e. Null);  9738 Residual\n",
       "Null Deviance:\t    13590 \n",
       "Residual Deviance: 4268 \tAIC: 4392"
      ]
     },
     "metadata": {},
     "output_type": "display_data"
    }
   ],
   "source": [
    "fit"
   ]
  },
  {
   "cell_type": "code",
   "execution_count": 32,
   "metadata": {
    "collapsed": true
   },
   "outputs": [],
   "source": [
    "subset_cardio$diff_day <- diff_day"
   ]
  },
  {
   "cell_type": "code",
   "execution_count": 33,
   "metadata": {
    "collapsed": true
   },
   "outputs": [],
   "source": [
    "cost <- function(r, pi = 0) mean(abs(r-pi) > 0.5)\n",
    "cv.test <- cv.glm(subset_cardio, cost = cost, fit, K = 5)"
   ]
  },
  {
   "cell_type": "code",
   "execution_count": 34,
   "metadata": {},
   "outputs": [
    {
     "data": {
      "text/html": [
       "<ol class=list-inline>\n",
       "\t<li>0.0898979591836735</li>\n",
       "\t<li>0.0888775510204082</li>\n",
       "</ol>\n"
      ],
      "text/latex": [
       "\\begin{enumerate*}\n",
       "\\item 0.0898979591836735\n",
       "\\item 0.0888775510204082\n",
       "\\end{enumerate*}\n"
      ],
      "text/markdown": [
       "1. 0.0898979591836735\n",
       "2. 0.0888775510204082\n",
       "\n",
       "\n"
      ],
      "text/plain": [
       "[1] 0.08989796 0.08887755"
      ]
     },
     "metadata": {},
     "output_type": "display_data"
    }
   ],
   "source": [
    "cv.test$delta"
   ]
  },
  {
   "cell_type": "code",
   "execution_count": 35,
   "metadata": {
    "collapsed": true,
    "scrolled": false
   },
   "outputs": [],
   "source": [
    "load(\"/allen/aics/gene-editing/RNA_seq/scRNAseq_SeeligCollaboration/12012017_cardio/seurat/all_cells/regressions/reg1/holdout_cm_filtered_cells_entrez_only_normalized_counts.RData\")\n",
    "holdout_cell_metadata <- read.csv(\"/allen/aics/gene-editing/RNA_seq/scRNAseq_SeeligCollaboration/12012017_cardio/seurat/all_cells/regressions/reg1/holdout_cm_filtered_cells_entrez_only_metadata.csv\")"
   ]
  },
  {
   "cell_type": "code",
   "execution_count": 36,
   "metadata": {
    "collapsed": true
   },
   "outputs": [],
   "source": [
    "holdout_cardioAICS <- t(holdout_cardioAICS)\n",
    "holdout_early_cells <- holdout_cell_metadata$day %in% c(\"D12\", \"D14\")\n",
    "holdout_cardioAICS <- holdout_cardioAICS[holdout_early_cells,]\n",
    "\n",
    "diff_day <- holdout_cell_metadata$day[holdout_early_cells]\n",
    "\n",
    "names(diff_day) <- holdout_cell_metadata$X[holdout_early_cells]\n",
    "\n",
    "holdout_cell_metadata <- holdout_cell_metadata[holdout_early_cells,]"
   ]
  },
  {
   "cell_type": "code",
   "execution_count": 38,
   "metadata": {
    "collapsed": true
   },
   "outputs": [],
   "source": [
    "holdout_mat <- holdout_cardioAICS[,genes.use]\n",
    "holdout_mat <- as.data.frame(as.matrix(holdout_mat))"
   ]
  },
  {
   "cell_type": "code",
   "execution_count": 40,
   "metadata": {},
   "outputs": [
    {
     "data": {
      "text/html": [
       "<ol class=list-inline>\n",
       "\t<li>1103</li>\n",
       "\t<li>61</li>\n",
       "</ol>\n"
      ],
      "text/latex": [
       "\\begin{enumerate*}\n",
       "\\item 1103\n",
       "\\item 61\n",
       "\\end{enumerate*}\n"
      ],
      "text/markdown": [
       "1. 1103\n",
       "2. 61\n",
       "\n",
       "\n"
      ],
      "text/plain": [
       "[1] 1103   61"
      ]
     },
     "metadata": {},
     "output_type": "display_data"
    }
   ],
   "source": [
    "dim(holdout_mat)"
   ]
  },
  {
   "cell_type": "code",
   "execution_count": 41,
   "metadata": {
    "collapsed": true
   },
   "outputs": [],
   "source": [
    "holdout_predict <- predict(fit, newdata = holdout_mat, type = c(\"response\"))"
   ]
  },
  {
   "cell_type": "code",
   "execution_count": 44,
   "metadata": {
    "collapsed": true
   },
   "outputs": [],
   "source": [
    "get_predicted_time <- function(predict_prob) {\n",
    "    if (predict_prob < 0.5) {\n",
    "        return(\"D12\")\n",
    "    } else {\n",
    "        return(\"D14\")\n",
    "    }\n",
    "}"
   ]
  },
  {
   "cell_type": "code",
   "execution_count": 45,
   "metadata": {
    "collapsed": true
   },
   "outputs": [],
   "source": [
    "predicted_day <- sapply(holdout_predict, get_predicted_time, simplify = TRUE)"
   ]
  },
  {
   "cell_type": "code",
   "execution_count": 47,
   "metadata": {},
   "outputs": [
    {
     "data": {
      "text/plain": [
       "         actual\n",
       "predicted D12 D14\n",
       "      D12 496  51\n",
       "      D14  54 502"
      ]
     },
     "metadata": {},
     "output_type": "display_data"
    }
   ],
   "source": [
    "predict_actual_df <- data.frame(\"predicted\" = predicted_day, \"actual\" = diff_day)\n",
    "xtabs(~ predicted + actual, data = predict_actual_df)"
   ]
  },
  {
   "cell_type": "code",
   "execution_count": null,
   "metadata": {
    "collapsed": true
   },
   "outputs": [],
   "source": []
  }
 ],
 "metadata": {
  "kernelspec": {
   "display_name": "R",
   "language": "R",
   "name": "ir"
  },
  "language_info": {
   "codemirror_mode": "r",
   "file_extension": ".r",
   "mimetype": "text/x-r-source",
   "name": "R",
   "pygments_lexer": "r",
   "version": "3.4.1"
  }
 },
 "nbformat": 4,
 "nbformat_minor": 2
}
