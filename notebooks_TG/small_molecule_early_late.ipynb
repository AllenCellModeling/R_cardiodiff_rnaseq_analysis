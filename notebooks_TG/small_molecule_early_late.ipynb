{
 "cells": [
  {
   "cell_type": "code",
   "execution_count": 1,
   "metadata": {
    "scrolled": true
   },
   "outputs": [
    {
     "name": "stderr",
     "output_type": "stream",
     "text": [
      "Loading required package: Matrix\n",
      "Loading required package: foreach\n",
      "Loaded glmnet 2.0-13\n",
      "\n"
     ]
    }
   ],
   "source": [
    "library(glmnet)\n",
    "library(ggplot2)"
   ]
  },
  {
   "cell_type": "code",
   "execution_count": 2,
   "metadata": {
    "collapsed": true
   },
   "outputs": [],
   "source": [
    "options(stringsAsFactors = FALSE)"
   ]
  },
  {
   "cell_type": "code",
   "execution_count": 3,
   "metadata": {
    "collapsed": true,
    "scrolled": true
   },
   "outputs": [],
   "source": [
    "base_dir <- \"/allen/aics/gene-editing/RNA_seq/scRNAseq_SeeligCollaboration/12012017_cardio/seurat/all_cells/regressions/reg1/feature_selection/\""
   ]
  },
  {
   "cell_type": "code",
   "execution_count": 4,
   "metadata": {
    "collapsed": true
   },
   "outputs": [],
   "source": [
    "load(paste0(base_dir, \"early_late_small_mol.RData\"))"
   ]
  },
  {
   "cell_type": "code",
   "execution_count": 5,
   "metadata": {},
   "outputs": [
    {
     "data": {
      "text/html": [
       "1000"
      ],
      "text/latex": [
       "1000"
      ],
      "text/markdown": [
       "1000"
      ],
      "text/plain": [
       "[1] 1000"
      ]
     },
     "metadata": {},
     "output_type": "display_data"
    }
   ],
   "source": [
    "length(bootstraps)"
   ]
  },
  {
   "cell_type": "code",
   "execution_count": 6,
   "metadata": {
    "collapsed": true,
    "scrolled": true
   },
   "outputs": [],
   "source": [
    "lambda_sequence <- bootstraps[[1]][[\"lambda\"]]\n",
    "genes <- rownames(coef(bootstraps[[1]], s = lambda_sequence[1]))"
   ]
  },
  {
   "cell_type": "code",
   "execution_count": 7,
   "metadata": {},
   "outputs": [
    {
     "data": {
      "text/html": [
       "<ol class=list-inline>\n",
       "\t<li>'(Intercept)'</li>\n",
       "\t<li>'TTN_HUMAN'</li>\n",
       "\t<li>'AATF_HUMAN'</li>\n",
       "\t<li>'NEXN_HUMAN'</li>\n",
       "\t<li>'SOD2_HUMAN'</li>\n",
       "\t<li>'MALAT1_HUMAN'</li>\n",
       "</ol>\n"
      ],
      "text/latex": [
       "\\begin{enumerate*}\n",
       "\\item '(Intercept)'\n",
       "\\item 'TTN\\_HUMAN'\n",
       "\\item 'AATF\\_HUMAN'\n",
       "\\item 'NEXN\\_HUMAN'\n",
       "\\item 'SOD2\\_HUMAN'\n",
       "\\item 'MALAT1\\_HUMAN'\n",
       "\\end{enumerate*}\n"
      ],
      "text/markdown": [
       "1. '(Intercept)'\n",
       "2. 'TTN_HUMAN'\n",
       "3. 'AATF_HUMAN'\n",
       "4. 'NEXN_HUMAN'\n",
       "5. 'SOD2_HUMAN'\n",
       "6. 'MALAT1_HUMAN'\n",
       "\n",
       "\n"
      ],
      "text/plain": [
       "[1] \"(Intercept)\"  \"TTN_HUMAN\"    \"AATF_HUMAN\"   \"NEXN_HUMAN\"   \"SOD2_HUMAN\"  \n",
       "[6] \"MALAT1_HUMAN\""
      ]
     },
     "metadata": {},
     "output_type": "display_data"
    }
   ],
   "source": [
    "head(genes)"
   ]
  },
  {
   "cell_type": "code",
   "execution_count": 8,
   "metadata": {},
   "outputs": [
    {
     "data": {
      "text/html": [
       "<ol class=list-inline>\n",
       "\t<li>0.56301196083732</li>\n",
       "\t<li>0.535036615565917</li>\n",
       "\t<li>0.508451329471748</li>\n",
       "\t<li>0.483187032289639</li>\n",
       "\t<li>0.459178085767678</li>\n",
       "\t<li>0.436362113134862</li>\n",
       "</ol>\n"
      ],
      "text/latex": [
       "\\begin{enumerate*}\n",
       "\\item 0.56301196083732\n",
       "\\item 0.535036615565917\n",
       "\\item 0.508451329471748\n",
       "\\item 0.483187032289639\n",
       "\\item 0.459178085767678\n",
       "\\item 0.436362113134862\n",
       "\\end{enumerate*}\n"
      ],
      "text/markdown": [
       "1. 0.56301196083732\n",
       "2. 0.535036615565917\n",
       "3. 0.508451329471748\n",
       "4. 0.483187032289639\n",
       "5. 0.459178085767678\n",
       "6. 0.436362113134862\n",
       "\n",
       "\n"
      ],
      "text/plain": [
       "[1] 0.5630120 0.5350366 0.5084513 0.4831870 0.4591781 0.4363621"
      ]
     },
     "metadata": {},
     "output_type": "display_data"
    }
   ],
   "source": [
    "head(lambda_sequence)"
   ]
  },
  {
   "cell_type": "code",
   "execution_count": 9,
   "metadata": {
    "collapsed": true
   },
   "outputs": [],
   "source": [
    "genes <- genes[2:length(genes)]"
   ]
  },
  {
   "cell_type": "code",
   "execution_count": 10,
   "metadata": {},
   "outputs": [
    {
     "data": {
      "text/html": [
       "<ol class=list-inline>\n",
       "\t<li>'TTN_HUMAN'</li>\n",
       "\t<li>'AATF_HUMAN'</li>\n",
       "\t<li>'NEXN_HUMAN'</li>\n",
       "\t<li>'SOD2_HUMAN'</li>\n",
       "\t<li>'MALAT1_HUMAN'</li>\n",
       "\t<li>'PIGP_HUMAN'</li>\n",
       "</ol>\n"
      ],
      "text/latex": [
       "\\begin{enumerate*}\n",
       "\\item 'TTN\\_HUMAN'\n",
       "\\item 'AATF\\_HUMAN'\n",
       "\\item 'NEXN\\_HUMAN'\n",
       "\\item 'SOD2\\_HUMAN'\n",
       "\\item 'MALAT1\\_HUMAN'\n",
       "\\item 'PIGP\\_HUMAN'\n",
       "\\end{enumerate*}\n"
      ],
      "text/markdown": [
       "1. 'TTN_HUMAN'\n",
       "2. 'AATF_HUMAN'\n",
       "3. 'NEXN_HUMAN'\n",
       "4. 'SOD2_HUMAN'\n",
       "5. 'MALAT1_HUMAN'\n",
       "6. 'PIGP_HUMAN'\n",
       "\n",
       "\n"
      ],
      "text/plain": [
       "[1] \"TTN_HUMAN\"    \"AATF_HUMAN\"   \"NEXN_HUMAN\"   \"SOD2_HUMAN\"   \"MALAT1_HUMAN\"\n",
       "[6] \"PIGP_HUMAN\"  "
      ]
     },
     "metadata": {},
     "output_type": "display_data"
    },
    {
     "data": {
      "text/html": [
       "22187"
      ],
      "text/latex": [
       "22187"
      ],
      "text/markdown": [
       "22187"
      ],
      "text/plain": [
       "[1] 22187"
      ]
     },
     "metadata": {},
     "output_type": "display_data"
    }
   ],
   "source": [
    "head(genes)\n",
    "length(genes)\n",
    "num_genes <- length(genes)"
   ]
  },
  {
   "cell_type": "code",
   "execution_count": 11,
   "metadata": {
    "collapsed": true
   },
   "outputs": [],
   "source": [
    "nonzero_gene_count <- c()\n",
    "lambda <- min(lambda_sequence)\n",
    "\n",
    "genes_coeff <- coef(bootstraps[[1]], s = lambda)\n",
    "genes_coeff <- genes_coeff[2:length(genes_coeff),]\n",
    "gene_names <- names(genes_coeff)\n",
    "genes_nonzero <- gene_names[abs(genes_coeff) > 0]\n",
    "nonzero_gene_count <- c(nonzero_gene_count, length(genes_nonzero))\n",
    "\n",
    "genes_intersect <- genes_nonzero\n",
    "\n",
    "for (i in 2:length(bootstraps)) {\n",
    "    lambda_seq <- bootstraps[[i]][[\"lambda\"]]\n",
    "    if (lambda < tail(lambda_seq, n = 1)) {\n",
    "        print(i)\n",
    "    } \n",
    "    genes_coeff <- coef(bootstraps[[i]], s = lambda)\n",
    "    genes_coeff <- genes_coeff[2:length(genes_coeff),]\n",
    "    gene_names <- names(genes_coeff)\n",
    "    genes_nonzero <- gene_names[abs(genes_coeff) > 0]\n",
    "    nonzero_gene_count <- c(nonzero_gene_count, length(genes_nonzero))\n",
    "    genes_intersect <- intersect(genes_intersect, genes_nonzero)\n",
    "}"
   ]
  },
  {
   "cell_type": "markdown",
   "metadata": {},
   "source": [
    "### Non-zero genes in all rounds"
   ]
  },
  {
   "cell_type": "code",
   "execution_count": 12,
   "metadata": {},
   "outputs": [
    {
     "name": "stdout",
     "output_type": "stream",
     "text": [
      "[1] 40\n"
     ]
    },
    {
     "data": {
      "text/html": [
       "<ol class=list-inline>\n",
       "\t<li>'ACTA1_HUMAN'</li>\n",
       "\t<li>'MYH6_HUMAN'</li>\n",
       "\t<li>'ATXN1_HUMAN'</li>\n",
       "\t<li>'ADAMTS12_HUMAN'</li>\n",
       "\t<li>'CCDC141_HUMAN'</li>\n",
       "\t<li>'GRIN2A_HUMAN'</li>\n",
       "\t<li>'PRTG_HUMAN'</li>\n",
       "\t<li>'RPL23_HUMAN'</li>\n",
       "\t<li>'PLN_HUMAN'</li>\n",
       "\t<li>'VCAN_HUMAN'</li>\n",
       "\t<li>'CNTN5_HUMAN'</li>\n",
       "\t<li>'BMPER_HUMAN'</li>\n",
       "\t<li>'KCNH7_HUMAN'</li>\n",
       "\t<li>'FAM19A4_HUMAN'</li>\n",
       "\t<li>'ARHGAP42_HUMAN'</li>\n",
       "\t<li>'WWOX_HUMAN'</li>\n",
       "\t<li>'ANKRD1_HUMAN'</li>\n",
       "\t<li>'MAML3_HUMAN'</li>\n",
       "\t<li>'STK39_HUMAN'</li>\n",
       "\t<li>'FRMD4B_HUMAN'</li>\n",
       "\t<li>'SPHKAP_HUMAN'</li>\n",
       "\t<li>'MYH7_HUMAN'</li>\n",
       "\t<li>'FBXL7_HUMAN'</li>\n",
       "\t<li>'PDGFD_HUMAN'</li>\n",
       "\t<li>'RNF150_HUMAN'</li>\n",
       "\t<li>'ADAM28_HUMAN'</li>\n",
       "\t<li>'NT5C2_HUMAN'</li>\n",
       "\t<li>'COL3A1_HUMAN'</li>\n",
       "\t<li>'MEF2C_HUMAN'</li>\n",
       "\t<li>'H19_HUMAN'</li>\n",
       "\t<li>'HAPLN1_HUMAN'</li>\n",
       "\t<li>'LINC00881_HUMAN'</li>\n",
       "\t<li>'EPB41L4A_HUMAN'</li>\n",
       "\t<li>'SV2C_HUMAN'</li>\n",
       "\t<li>'RPS6_HUMAN'</li>\n",
       "\t<li>'PRSS35_HUMAN'</li>\n",
       "\t<li>'QRFPR_HUMAN'</li>\n",
       "\t<li>'DOK4_HUMAN'</li>\n",
       "\t<li>'NPNT_HUMAN'</li>\n",
       "\t<li>'LIN28A_HUMAN'</li>\n",
       "</ol>\n"
      ],
      "text/latex": [
       "\\begin{enumerate*}\n",
       "\\item 'ACTA1\\_HUMAN'\n",
       "\\item 'MYH6\\_HUMAN'\n",
       "\\item 'ATXN1\\_HUMAN'\n",
       "\\item 'ADAMTS12\\_HUMAN'\n",
       "\\item 'CCDC141\\_HUMAN'\n",
       "\\item 'GRIN2A\\_HUMAN'\n",
       "\\item 'PRTG\\_HUMAN'\n",
       "\\item 'RPL23\\_HUMAN'\n",
       "\\item 'PLN\\_HUMAN'\n",
       "\\item 'VCAN\\_HUMAN'\n",
       "\\item 'CNTN5\\_HUMAN'\n",
       "\\item 'BMPER\\_HUMAN'\n",
       "\\item 'KCNH7\\_HUMAN'\n",
       "\\item 'FAM19A4\\_HUMAN'\n",
       "\\item 'ARHGAP42\\_HUMAN'\n",
       "\\item 'WWOX\\_HUMAN'\n",
       "\\item 'ANKRD1\\_HUMAN'\n",
       "\\item 'MAML3\\_HUMAN'\n",
       "\\item 'STK39\\_HUMAN'\n",
       "\\item 'FRMD4B\\_HUMAN'\n",
       "\\item 'SPHKAP\\_HUMAN'\n",
       "\\item 'MYH7\\_HUMAN'\n",
       "\\item 'FBXL7\\_HUMAN'\n",
       "\\item 'PDGFD\\_HUMAN'\n",
       "\\item 'RNF150\\_HUMAN'\n",
       "\\item 'ADAM28\\_HUMAN'\n",
       "\\item 'NT5C2\\_HUMAN'\n",
       "\\item 'COL3A1\\_HUMAN'\n",
       "\\item 'MEF2C\\_HUMAN'\n",
       "\\item 'H19\\_HUMAN'\n",
       "\\item 'HAPLN1\\_HUMAN'\n",
       "\\item 'LINC00881\\_HUMAN'\n",
       "\\item 'EPB41L4A\\_HUMAN'\n",
       "\\item 'SV2C\\_HUMAN'\n",
       "\\item 'RPS6\\_HUMAN'\n",
       "\\item 'PRSS35\\_HUMAN'\n",
       "\\item 'QRFPR\\_HUMAN'\n",
       "\\item 'DOK4\\_HUMAN'\n",
       "\\item 'NPNT\\_HUMAN'\n",
       "\\item 'LIN28A\\_HUMAN'\n",
       "\\end{enumerate*}\n"
      ],
      "text/markdown": [
       "1. 'ACTA1_HUMAN'\n",
       "2. 'MYH6_HUMAN'\n",
       "3. 'ATXN1_HUMAN'\n",
       "4. 'ADAMTS12_HUMAN'\n",
       "5. 'CCDC141_HUMAN'\n",
       "6. 'GRIN2A_HUMAN'\n",
       "7. 'PRTG_HUMAN'\n",
       "8. 'RPL23_HUMAN'\n",
       "9. 'PLN_HUMAN'\n",
       "10. 'VCAN_HUMAN'\n",
       "11. 'CNTN5_HUMAN'\n",
       "12. 'BMPER_HUMAN'\n",
       "13. 'KCNH7_HUMAN'\n",
       "14. 'FAM19A4_HUMAN'\n",
       "15. 'ARHGAP42_HUMAN'\n",
       "16. 'WWOX_HUMAN'\n",
       "17. 'ANKRD1_HUMAN'\n",
       "18. 'MAML3_HUMAN'\n",
       "19. 'STK39_HUMAN'\n",
       "20. 'FRMD4B_HUMAN'\n",
       "21. 'SPHKAP_HUMAN'\n",
       "22. 'MYH7_HUMAN'\n",
       "23. 'FBXL7_HUMAN'\n",
       "24. 'PDGFD_HUMAN'\n",
       "25. 'RNF150_HUMAN'\n",
       "26. 'ADAM28_HUMAN'\n",
       "27. 'NT5C2_HUMAN'\n",
       "28. 'COL3A1_HUMAN'\n",
       "29. 'MEF2C_HUMAN'\n",
       "30. 'H19_HUMAN'\n",
       "31. 'HAPLN1_HUMAN'\n",
       "32. 'LINC00881_HUMAN'\n",
       "33. 'EPB41L4A_HUMAN'\n",
       "34. 'SV2C_HUMAN'\n",
       "35. 'RPS6_HUMAN'\n",
       "36. 'PRSS35_HUMAN'\n",
       "37. 'QRFPR_HUMAN'\n",
       "38. 'DOK4_HUMAN'\n",
       "39. 'NPNT_HUMAN'\n",
       "40. 'LIN28A_HUMAN'\n",
       "\n",
       "\n"
      ],
      "text/plain": [
       " [1] \"ACTA1_HUMAN\"     \"MYH6_HUMAN\"      \"ATXN1_HUMAN\"     \"ADAMTS12_HUMAN\" \n",
       " [5] \"CCDC141_HUMAN\"   \"GRIN2A_HUMAN\"    \"PRTG_HUMAN\"      \"RPL23_HUMAN\"    \n",
       " [9] \"PLN_HUMAN\"       \"VCAN_HUMAN\"      \"CNTN5_HUMAN\"     \"BMPER_HUMAN\"    \n",
       "[13] \"KCNH7_HUMAN\"     \"FAM19A4_HUMAN\"   \"ARHGAP42_HUMAN\"  \"WWOX_HUMAN\"     \n",
       "[17] \"ANKRD1_HUMAN\"    \"MAML3_HUMAN\"     \"STK39_HUMAN\"     \"FRMD4B_HUMAN\"   \n",
       "[21] \"SPHKAP_HUMAN\"    \"MYH7_HUMAN\"      \"FBXL7_HUMAN\"     \"PDGFD_HUMAN\"    \n",
       "[25] \"RNF150_HUMAN\"    \"ADAM28_HUMAN\"    \"NT5C2_HUMAN\"     \"COL3A1_HUMAN\"   \n",
       "[29] \"MEF2C_HUMAN\"     \"H19_HUMAN\"       \"HAPLN1_HUMAN\"    \"LINC00881_HUMAN\"\n",
       "[33] \"EPB41L4A_HUMAN\"  \"SV2C_HUMAN\"      \"RPS6_HUMAN\"      \"PRSS35_HUMAN\"   \n",
       "[37] \"QRFPR_HUMAN\"     \"DOK4_HUMAN\"      \"NPNT_HUMAN\"      \"LIN28A_HUMAN\"   "
      ]
     },
     "metadata": {},
     "output_type": "display_data"
    }
   ],
   "source": [
    "print(length(genes_intersect))\n",
    "genes_intersect"
   ]
  },
  {
   "cell_type": "markdown",
   "metadata": {},
   "source": [
    "### Distribution of non-zero genes at min lambda"
   ]
  },
  {
   "cell_type": "code",
   "execution_count": 13,
   "metadata": {
    "scrolled": false
   },
   "outputs": [
    {
     "name": "stderr",
     "output_type": "stream",
     "text": [
      "`stat_bin()` using `bins = 30`. Pick better value with `binwidth`.\n"
     ]
    },
    {
     "data": {},
     "metadata": {},
     "output_type": "display_data"
    },
    {
     "data": {
      "image/png": "[encoded data removed]",
      "text/plain": [
       "plot without title"
      ]
     },
     "metadata": {},
     "output_type": "display_data"
    }
   ],
   "source": [
    "nonzero_gene_count <- as.data.frame(nonzero_gene_count)\n",
    "colnames(nonzero_gene_count) <- \"nonzeroGenes\"\n",
    "ggplot(nonzero_gene_count) + geom_histogram(aes(nonzeroGenes))"
   ]
  },
  {
   "cell_type": "markdown",
   "metadata": {},
   "source": [
    "### Compare gene list to previous analysis (remove_1s2exp data)"
   ]
  },
  {
   "cell_type": "code",
   "execution_count": 14,
   "metadata": {},
   "outputs": [
    {
     "data": {
      "text/html": [
       "<ol class=list-inline>\n",
       "\t<li>'ACTA1_HUMAN'</li>\n",
       "\t<li>'MYH6_HUMAN'</li>\n",
       "\t<li>'ADAMTS12_HUMAN'</li>\n",
       "\t<li>'CCDC141_HUMAN'</li>\n",
       "\t<li>'GRIN2A_HUMAN'</li>\n",
       "\t<li>'PRTG_HUMAN'</li>\n",
       "\t<li>'PLN_HUMAN'</li>\n",
       "\t<li>'VCAN_HUMAN'</li>\n",
       "\t<li>'CNTN5_HUMAN'</li>\n",
       "\t<li>'BMPER_HUMAN'</li>\n",
       "\t<li>'KCNH7_HUMAN'</li>\n",
       "\t<li>'FAM19A4_HUMAN'</li>\n",
       "\t<li>'WWOX_HUMAN'</li>\n",
       "\t<li>'SPHKAP_HUMAN'</li>\n",
       "\t<li>'MYH7_HUMAN'</li>\n",
       "\t<li>'FBXL7_HUMAN'</li>\n",
       "\t<li>'PDGFD_HUMAN'</li>\n",
       "\t<li>'RNF150_HUMAN'</li>\n",
       "\t<li>'ADAM28_HUMAN'</li>\n",
       "\t<li>'MEF2C_HUMAN'</li>\n",
       "\t<li>'H19_HUMAN'</li>\n",
       "\t<li>'LINC00881_HUMAN'</li>\n",
       "\t<li>'EPB41L4A_HUMAN'</li>\n",
       "\t<li>'SV2C_HUMAN'</li>\n",
       "\t<li>'PRSS35_HUMAN'</li>\n",
       "\t<li>'QRFPR_HUMAN'</li>\n",
       "\t<li>'DOK4_HUMAN'</li>\n",
       "\t<li>'LIN28A_HUMAN'</li>\n",
       "</ol>\n"
      ],
      "text/latex": [
       "\\begin{enumerate*}\n",
       "\\item 'ACTA1\\_HUMAN'\n",
       "\\item 'MYH6\\_HUMAN'\n",
       "\\item 'ADAMTS12\\_HUMAN'\n",
       "\\item 'CCDC141\\_HUMAN'\n",
       "\\item 'GRIN2A\\_HUMAN'\n",
       "\\item 'PRTG\\_HUMAN'\n",
       "\\item 'PLN\\_HUMAN'\n",
       "\\item 'VCAN\\_HUMAN'\n",
       "\\item 'CNTN5\\_HUMAN'\n",
       "\\item 'BMPER\\_HUMAN'\n",
       "\\item 'KCNH7\\_HUMAN'\n",
       "\\item 'FAM19A4\\_HUMAN'\n",
       "\\item 'WWOX\\_HUMAN'\n",
       "\\item 'SPHKAP\\_HUMAN'\n",
       "\\item 'MYH7\\_HUMAN'\n",
       "\\item 'FBXL7\\_HUMAN'\n",
       "\\item 'PDGFD\\_HUMAN'\n",
       "\\item 'RNF150\\_HUMAN'\n",
       "\\item 'ADAM28\\_HUMAN'\n",
       "\\item 'MEF2C\\_HUMAN'\n",
       "\\item 'H19\\_HUMAN'\n",
       "\\item 'LINC00881\\_HUMAN'\n",
       "\\item 'EPB41L4A\\_HUMAN'\n",
       "\\item 'SV2C\\_HUMAN'\n",
       "\\item 'PRSS35\\_HUMAN'\n",
       "\\item 'QRFPR\\_HUMAN'\n",
       "\\item 'DOK4\\_HUMAN'\n",
       "\\item 'LIN28A\\_HUMAN'\n",
       "\\end{enumerate*}\n"
      ],
      "text/markdown": [
       "1. 'ACTA1_HUMAN'\n",
       "2. 'MYH6_HUMAN'\n",
       "3. 'ADAMTS12_HUMAN'\n",
       "4. 'CCDC141_HUMAN'\n",
       "5. 'GRIN2A_HUMAN'\n",
       "6. 'PRTG_HUMAN'\n",
       "7. 'PLN_HUMAN'\n",
       "8. 'VCAN_HUMAN'\n",
       "9. 'CNTN5_HUMAN'\n",
       "10. 'BMPER_HUMAN'\n",
       "11. 'KCNH7_HUMAN'\n",
       "12. 'FAM19A4_HUMAN'\n",
       "13. 'WWOX_HUMAN'\n",
       "14. 'SPHKAP_HUMAN'\n",
       "15. 'MYH7_HUMAN'\n",
       "16. 'FBXL7_HUMAN'\n",
       "17. 'PDGFD_HUMAN'\n",
       "18. 'RNF150_HUMAN'\n",
       "19. 'ADAM28_HUMAN'\n",
       "20. 'MEF2C_HUMAN'\n",
       "21. 'H19_HUMAN'\n",
       "22. 'LINC00881_HUMAN'\n",
       "23. 'EPB41L4A_HUMAN'\n",
       "24. 'SV2C_HUMAN'\n",
       "25. 'PRSS35_HUMAN'\n",
       "26. 'QRFPR_HUMAN'\n",
       "27. 'DOK4_HUMAN'\n",
       "28. 'LIN28A_HUMAN'\n",
       "\n",
       "\n"
      ],
      "text/plain": [
       " [1] \"ACTA1_HUMAN\"     \"MYH6_HUMAN\"      \"ADAMTS12_HUMAN\"  \"CCDC141_HUMAN\"  \n",
       " [5] \"GRIN2A_HUMAN\"    \"PRTG_HUMAN\"      \"PLN_HUMAN\"       \"VCAN_HUMAN\"     \n",
       " [9] \"CNTN5_HUMAN\"     \"BMPER_HUMAN\"     \"KCNH7_HUMAN\"     \"FAM19A4_HUMAN\"  \n",
       "[13] \"WWOX_HUMAN\"      \"SPHKAP_HUMAN\"    \"MYH7_HUMAN\"      \"FBXL7_HUMAN\"    \n",
       "[17] \"PDGFD_HUMAN\"     \"RNF150_HUMAN\"    \"ADAM28_HUMAN\"    \"MEF2C_HUMAN\"    \n",
       "[21] \"H19_HUMAN\"       \"LINC00881_HUMAN\" \"EPB41L4A_HUMAN\"  \"SV2C_HUMAN\"     \n",
       "[25] \"PRSS35_HUMAN\"    \"QRFPR_HUMAN\"     \"DOK4_HUMAN\"      \"LIN28A_HUMAN\"   "
      ]
     },
     "metadata": {},
     "output_type": "display_data"
    },
    {
     "data": {
      "text/html": [
       "28"
      ],
      "text/latex": [
       "28"
      ],
      "text/markdown": [
       "28"
      ],
      "text/plain": [
       "[1] 28"
      ]
     },
     "metadata": {},
     "output_type": "display_data"
    }
   ],
   "source": [
    "remove_1st2exp_genes <- c('ACTA1_HUMAN','FBN2_HUMAN','MYH6_HUMAN','COL2A1_HUMAN','ADAMTS12_HUMAN','CCDC141_HUMAN','FAM189A2_HUMAN','GRIN2A_HUMAN','GOLIM4_HUMAN','PRTG_HUMAN','PLN_HUMAN','VCAN_HUMAN','MYO1D_HUMAN','CNTN5_HUMAN','BMPER_HUMAN','KCNH7_HUMAN','FAM19A4_HUMAN','ATP1A1_HUMAN','WWOX_HUMAN','SAMD4A_HUMAN','SPHKAP_HUMAN','MYH7_HUMAN','SEMA5A_HUMAN','FBXL7_HUMAN','PAM_HUMAN','PDGFD_HUMAN','RNF150_HUMAN','ADAM28_HUMAN','MEF2C_HUMAN','H19_HUMAN','RBFOX2_HUMAN','LINC00881_HUMAN','MLIP_HUMAN','GAS6_HUMAN','ADAM23_HUMAN','EPB41L4A_HUMAN','MOXD1_HUMAN','SV2C_HUMAN','PRSS35_HUMAN','QRFPR_HUMAN','DOK4_HUMAN','LIN28A_HUMAN')\n",
    "x <- intersect(remove_1st2exp_genes, genes_intersect)\n",
    "x\n",
    "length(x)"
   ]
  },
  {
   "cell_type": "markdown",
   "metadata": {},
   "source": [
    "28 genes are detected in both analyses"
   ]
  },
  {
   "cell_type": "markdown",
   "metadata": {},
   "source": [
    "### Caclulate fold changes for genes"
   ]
  },
  {
   "cell_type": "code",
   "execution_count": 15,
   "metadata": {
    "scrolled": false
   },
   "outputs": [
    {
     "name": "stderr",
     "output_type": "stream",
     "text": [
      "\n",
      "Attaching package: ‘dplyr’\n",
      "\n",
      "The following objects are masked from ‘package:stats’:\n",
      "\n",
      "    filter, lag\n",
      "\n",
      "The following objects are masked from ‘package:base’:\n",
      "\n",
      "    intersect, setdiff, setequal, union\n",
      "\n"
     ]
    }
   ],
   "source": [
    "library(dplyr)"
   ]
  },
  {
   "cell_type": "code",
   "execution_count": 23,
   "metadata": {
    "collapsed": true
   },
   "outputs": [],
   "source": [
    "load(\"/allen/aics/gene-editing/RNA_seq/scRNAseq_SeeligCollaboration/12012017_cardio/seurat/all_cells/regressions/reg1/train_cm_filtered_cells_entrez_only_normalized_counts.RData\")"
   ]
  },
  {
   "cell_type": "code",
   "execution_count": 24,
   "metadata": {
    "collapsed": true
   },
   "outputs": [],
   "source": [
    "cell_metadata <- read.csv(\"/allen/aics/gene-editing/RNA_seq/scRNAseq_SeeligCollaboration/12012017_cardio/seurat/all_cells/regressions/reg1/train_cm_filtered_cells_entrez_only_metadata.csv\")"
   ]
  },
  {
   "cell_type": "code",
   "execution_count": 25,
   "metadata": {},
   "outputs": [
    {
     "data": {
      "text/html": [
       "<table>\n",
       "<thead><tr><th scope=col>X</th><th scope=col>nGene</th><th scope=col>nUMI</th><th scope=col>orig.ident</th><th scope=col>day</th><th scope=col>protocol</th><th scope=col>cell_line</th><th scope=col>diff_harvest</th><th scope=col>passage</th><th scope=col>scientist</th><th scope=col>diff_exp</th><th scope=col>sci_exp</th><th scope=col>ctnt</th><th scope=col>cell_sample</th></tr></thead>\n",
       "<tbody>\n",
       "\t<tr><td>AAACATCGAAACATCG_14_6 </td><td>1577                  </td><td>2986                  </td><td>SeuratProject         </td><td>D12                   </td><td>Lian                  </td><td>AICS11                </td><td>08_8_2017             </td><td>44                    </td><td>KG                    </td><td>7_24_2017             </td><td>KG_7_24               </td><td>90                    </td><td>15                    </td></tr>\n",
       "\t<tr><td>AAACATCGAAACATCG_21_10</td><td> 578                  </td><td> 727                  </td><td>SeuratProject         </td><td>D14                   </td><td>Murry                 </td><td>AICS0                 </td><td>08_11_2017            </td><td>28                    </td><td>KG                    </td><td>7_27_2017             </td><td>KG_7_27               </td><td>78                    </td><td>22                    </td></tr>\n",
       "\t<tr><td>AAACATCGAACAACCA_2_9  </td><td> 489                  </td><td> 606                  </td><td>SeuratProject         </td><td>D12                   </td><td>Lian                  </td><td>AICS37                </td><td>07_24_2017            </td><td>34                    </td><td>AN                    </td><td>7_10_2017             </td><td>AN_7_10               </td><td>89                    </td><td> 3                    </td></tr>\n",
       "\t<tr><td>AAACATCGAACAACCA_5_8  </td><td>1117                  </td><td>1511                  </td><td>SeuratProject         </td><td>D14                   </td><td>Murry                 </td><td>AICS0                 </td><td>07_28_2017            </td><td>32                    </td><td>AN                    </td><td>7_13_2017             </td><td>AN_7_13               </td><td>75                    </td><td> 6                    </td></tr>\n",
       "\t<tr><td>AAACATCGAACGCTTA_32_8 </td><td> 940                  </td><td>1599                  </td><td>SeuratProject         </td><td>D24                   </td><td>Lian                  </td><td>AICS11                </td><td>08_18_2017            </td><td>44                    </td><td>KG                    </td><td>7_24_2017             </td><td>KG_7_24               </td><td>92                    </td><td>33                    </td></tr>\n",
       "\t<tr><td>AAACATCGAACTCACC_26_2 </td><td>2282                  </td><td>4392                  </td><td>SeuratProject         </td><td>D12                   </td><td>Lian                  </td><td>AICS37                </td><td>08_11_2017            </td><td>37                    </td><td>KG                    </td><td>7_27_2017             </td><td>KG_7_27               </td><td>87                    </td><td>27                    </td></tr>\n",
       "</tbody>\n",
       "</table>\n"
      ],
      "text/latex": [
       "\\begin{tabular}{r|llllllllllllll}\n",
       " X & nGene & nUMI & orig.ident & day & protocol & cell\\_line & diff\\_harvest & passage & scientist & diff\\_exp & sci\\_exp & ctnt & cell\\_sample\\\\\n",
       "\\hline\n",
       "\t AAACATCGAAACATCG\\_14\\_6  & 1577                       & 2986                       & SeuratProject              & D12                        & Lian                       & AICS11                     & 08\\_8\\_2017              & 44                         & KG                         & 7\\_24\\_2017              & KG\\_7\\_24                & 90                         & 15                        \\\\\n",
       "\t AAACATCGAAACATCG\\_21\\_10 &  578                       &  727                       & SeuratProject              & D14                        & Murry                      & AICS0                      & 08\\_11\\_2017             & 28                         & KG                         & 7\\_27\\_2017              & KG\\_7\\_27                & 78                         & 22                        \\\\\n",
       "\t AAACATCGAACAACCA\\_2\\_9   &  489                       &  606                       & SeuratProject              & D12                        & Lian                       & AICS37                     & 07\\_24\\_2017             & 34                         & AN                         & 7\\_10\\_2017              & AN\\_7\\_10                & 89                         &  3                        \\\\\n",
       "\t AAACATCGAACAACCA\\_5\\_8   & 1117                       & 1511                       & SeuratProject              & D14                        & Murry                      & AICS0                      & 07\\_28\\_2017             & 32                         & AN                         & 7\\_13\\_2017              & AN\\_7\\_13                & 75                         &  6                        \\\\\n",
       "\t AAACATCGAACGCTTA\\_32\\_8  &  940                       & 1599                       & SeuratProject              & D24                        & Lian                       & AICS11                     & 08\\_18\\_2017             & 44                         & KG                         & 7\\_24\\_2017              & KG\\_7\\_24                & 92                         & 33                        \\\\\n",
       "\t AAACATCGAACTCACC\\_26\\_2  & 2282                       & 4392                       & SeuratProject              & D12                        & Lian                       & AICS37                     & 08\\_11\\_2017             & 37                         & KG                         & 7\\_27\\_2017              & KG\\_7\\_27                & 87                         & 27                        \\\\\n",
       "\\end{tabular}\n"
      ],
      "text/markdown": [
       "\n",
       "X | nGene | nUMI | orig.ident | day | protocol | cell_line | diff_harvest | passage | scientist | diff_exp | sci_exp | ctnt | cell_sample | \n",
       "|---|---|---|---|---|---|\n",
       "| AAACATCGAAACATCG_14_6  | 1577                   | 2986                   | SeuratProject          | D12                    | Lian                   | AICS11                 | 08_8_2017              | 44                     | KG                     | 7_24_2017              | KG_7_24                | 90                     | 15                     | \n",
       "| AAACATCGAAACATCG_21_10 |  578                   |  727                   | SeuratProject          | D14                    | Murry                  | AICS0                  | 08_11_2017             | 28                     | KG                     | 7_27_2017              | KG_7_27                | 78                     | 22                     | \n",
       "| AAACATCGAACAACCA_2_9   |  489                   |  606                   | SeuratProject          | D12                    | Lian                   | AICS37                 | 07_24_2017             | 34                     | AN                     | 7_10_2017              | AN_7_10                | 89                     |  3                     | \n",
       "| AAACATCGAACAACCA_5_8   | 1117                   | 1511                   | SeuratProject          | D14                    | Murry                  | AICS0                  | 07_28_2017             | 32                     | AN                     | 7_13_2017              | AN_7_13                | 75                     |  6                     | \n",
       "| AAACATCGAACGCTTA_32_8  |  940                   | 1599                   | SeuratProject          | D24                    | Lian                   | AICS11                 | 08_18_2017             | 44                     | KG                     | 7_24_2017              | KG_7_24                | 92                     | 33                     | \n",
       "| AAACATCGAACTCACC_26_2  | 2282                   | 4392                   | SeuratProject          | D12                    | Lian                   | AICS37                 | 08_11_2017             | 37                     | KG                     | 7_27_2017              | KG_7_27                | 87                     | 27                     | \n",
       "\n",
       "\n"
      ],
      "text/plain": [
       "  X                      nGene nUMI orig.ident    day protocol cell_line\n",
       "1 AAACATCGAAACATCG_14_6  1577  2986 SeuratProject D12 Lian     AICS11   \n",
       "2 AAACATCGAAACATCG_21_10  578   727 SeuratProject D14 Murry    AICS0    \n",
       "3 AAACATCGAACAACCA_2_9    489   606 SeuratProject D12 Lian     AICS37   \n",
       "4 AAACATCGAACAACCA_5_8   1117  1511 SeuratProject D14 Murry    AICS0    \n",
       "5 AAACATCGAACGCTTA_32_8   940  1599 SeuratProject D24 Lian     AICS11   \n",
       "6 AAACATCGAACTCACC_26_2  2282  4392 SeuratProject D12 Lian     AICS37   \n",
       "  diff_harvest passage scientist diff_exp  sci_exp ctnt cell_sample\n",
       "1 08_8_2017    44      KG        7_24_2017 KG_7_24 90   15         \n",
       "2 08_11_2017   28      KG        7_27_2017 KG_7_27 78   22         \n",
       "3 07_24_2017   34      AN        7_10_2017 AN_7_10 89    3         \n",
       "4 07_28_2017   32      AN        7_13_2017 AN_7_13 75    6         \n",
       "5 08_18_2017   44      KG        7_24_2017 KG_7_24 92   33         \n",
       "6 08_11_2017   37      KG        7_27_2017 KG_7_27 87   27         "
      ]
     },
     "metadata": {},
     "output_type": "display_data"
    }
   ],
   "source": [
    "head(cell_metadata)"
   ]
  },
  {
   "cell_type": "code",
   "execution_count": 26,
   "metadata": {
    "collapsed": true
   },
   "outputs": [],
   "source": [
    "cardioAICS <- t(cardioAICS)\n",
    "\n",
    "small_mol_cells <- cell_metadata$protocol == \"Lian\"\n",
    "cardioAICS <- cardioAICS[small_mol_cells,]\n",
    "\n",
    "diff_day <- cell_metadata$day[small_mol_cells]\n",
    "\n",
    "diff_day <- gsub('D12|D14', \"early\", diff_day)\n",
    "diff_day <- gsub('D24|D26', \"late\", diff_day)\n",
    "names(diff_day) <- cell_metadata$X[small_mol_cells]\n",
    "\n",
    "cell_metadata <- cell_metadata[small_mol_cells,]"
   ]
  },
  {
   "cell_type": "code",
   "execution_count": 27,
   "metadata": {},
   "outputs": [
    {
     "data": {
      "text/html": [
       "<table>\n",
       "<thead><tr><th></th><th scope=col>X</th><th scope=col>nGene</th><th scope=col>nUMI</th><th scope=col>orig.ident</th><th scope=col>day</th><th scope=col>protocol</th><th scope=col>cell_line</th><th scope=col>diff_harvest</th><th scope=col>passage</th><th scope=col>scientist</th><th scope=col>diff_exp</th><th scope=col>sci_exp</th><th scope=col>ctnt</th><th scope=col>cell_sample</th></tr></thead>\n",
       "<tbody>\n",
       "\t<tr><th scope=row>1</th><td>AAACATCGAAACATCG_14_6</td><td>1577                 </td><td>2986                 </td><td>SeuratProject        </td><td>D12                  </td><td>Lian                 </td><td>AICS11               </td><td>08_8_2017            </td><td>44                   </td><td>KG                   </td><td>7_24_2017            </td><td>KG_7_24              </td><td>90                   </td><td>15                   </td></tr>\n",
       "\t<tr><th scope=row>3</th><td>AAACATCGAACAACCA_2_9 </td><td> 489                 </td><td> 606                 </td><td>SeuratProject        </td><td>D12                  </td><td>Lian                 </td><td>AICS37               </td><td>07_24_2017           </td><td>34                   </td><td>AN                   </td><td>7_10_2017            </td><td>AN_7_10              </td><td>89                   </td><td> 3                   </td></tr>\n",
       "\t<tr><th scope=row>5</th><td>AAACATCGAACGCTTA_32_8</td><td> 940                 </td><td>1599                 </td><td>SeuratProject        </td><td>D24                  </td><td>Lian                 </td><td>AICS11               </td><td>08_18_2017           </td><td>44                   </td><td>KG                   </td><td>7_24_2017            </td><td>KG_7_24              </td><td>92                   </td><td>33                   </td></tr>\n",
       "\t<tr><th scope=row>6</th><td>AAACATCGAACTCACC_26_2</td><td>2282                 </td><td>4392                 </td><td>SeuratProject        </td><td>D12                  </td><td>Lian                 </td><td>AICS37               </td><td>08_11_2017           </td><td>37                   </td><td>KG                   </td><td>7_27_2017            </td><td>KG_7_27              </td><td>87                   </td><td>27                   </td></tr>\n",
       "\t<tr><th scope=row>7</th><td>AAACATCGAACTCACC_26_3</td><td>2279                 </td><td>3624                 </td><td>SeuratProject        </td><td>D12                  </td><td>Lian                 </td><td>AICS37               </td><td>08_11_2017           </td><td>37                   </td><td>KG                   </td><td>7_27_2017            </td><td>KG_7_27              </td><td>87                   </td><td>27                   </td></tr>\n",
       "\t<tr><th scope=row>8</th><td>AAACATCGAAGACGGA_4_9 </td><td> 414                 </td><td> 495                 </td><td>SeuratProject        </td><td>D12                  </td><td>Lian                 </td><td>AICS0                </td><td>07_28_2017           </td><td>32                   </td><td>AN                   </td><td>7_13_2017            </td><td>AN_7_13              </td><td>52                   </td><td> 5                   </td></tr>\n",
       "</tbody>\n",
       "</table>\n"
      ],
      "text/latex": [
       "\\begin{tabular}{r|llllllllllllll}\n",
       "  & X & nGene & nUMI & orig.ident & day & protocol & cell\\_line & diff\\_harvest & passage & scientist & diff\\_exp & sci\\_exp & ctnt & cell\\_sample\\\\\n",
       "\\hline\n",
       "\t1 & AAACATCGAAACATCG\\_14\\_6 & 1577                      & 2986                      & SeuratProject             & D12                       & Lian                      & AICS11                    & 08\\_8\\_2017             & 44                        & KG                        & 7\\_24\\_2017             & KG\\_7\\_24               & 90                        & 15                       \\\\\n",
       "\t3 & AAACATCGAACAACCA\\_2\\_9  &  489                      &  606                      & SeuratProject             & D12                       & Lian                      & AICS37                    & 07\\_24\\_2017            & 34                        & AN                        & 7\\_10\\_2017             & AN\\_7\\_10               & 89                        &  3                       \\\\\n",
       "\t5 & AAACATCGAACGCTTA\\_32\\_8 &  940                      & 1599                      & SeuratProject             & D24                       & Lian                      & AICS11                    & 08\\_18\\_2017            & 44                        & KG                        & 7\\_24\\_2017             & KG\\_7\\_24               & 92                        & 33                       \\\\\n",
       "\t6 & AAACATCGAACTCACC\\_26\\_2 & 2282                      & 4392                      & SeuratProject             & D12                       & Lian                      & AICS37                    & 08\\_11\\_2017            & 37                        & KG                        & 7\\_27\\_2017             & KG\\_7\\_27               & 87                        & 27                       \\\\\n",
       "\t7 & AAACATCGAACTCACC\\_26\\_3 & 2279                      & 3624                      & SeuratProject             & D12                       & Lian                      & AICS37                    & 08\\_11\\_2017            & 37                        & KG                        & 7\\_27\\_2017             & KG\\_7\\_27               & 87                        & 27                       \\\\\n",
       "\t8 & AAACATCGAAGACGGA\\_4\\_9  &  414                      &  495                      & SeuratProject             & D12                       & Lian                      & AICS0                     & 07\\_28\\_2017            & 32                        & AN                        & 7\\_13\\_2017             & AN\\_7\\_13               & 52                        &  5                       \\\\\n",
       "\\end{tabular}\n"
      ],
      "text/markdown": [
       "\n",
       "| <!--/--> | X | nGene | nUMI | orig.ident | day | protocol | cell_line | diff_harvest | passage | scientist | diff_exp | sci_exp | ctnt | cell_sample | \n",
       "|---|---|---|---|---|---|\n",
       "| 1 | AAACATCGAAACATCG_14_6 | 1577                  | 2986                  | SeuratProject         | D12                   | Lian                  | AICS11                | 08_8_2017             | 44                    | KG                    | 7_24_2017             | KG_7_24               | 90                    | 15                    | \n",
       "| 3 | AAACATCGAACAACCA_2_9  |  489                  |  606                  | SeuratProject         | D12                   | Lian                  | AICS37                | 07_24_2017            | 34                    | AN                    | 7_10_2017             | AN_7_10               | 89                    |  3                    | \n",
       "| 5 | AAACATCGAACGCTTA_32_8 |  940                  | 1599                  | SeuratProject         | D24                   | Lian                  | AICS11                | 08_18_2017            | 44                    | KG                    | 7_24_2017             | KG_7_24               | 92                    | 33                    | \n",
       "| 6 | AAACATCGAACTCACC_26_2 | 2282                  | 4392                  | SeuratProject         | D12                   | Lian                  | AICS37                | 08_11_2017            | 37                    | KG                    | 7_27_2017             | KG_7_27               | 87                    | 27                    | \n",
       "| 7 | AAACATCGAACTCACC_26_3 | 2279                  | 3624                  | SeuratProject         | D12                   | Lian                  | AICS37                | 08_11_2017            | 37                    | KG                    | 7_27_2017             | KG_7_27               | 87                    | 27                    | \n",
       "| 8 | AAACATCGAAGACGGA_4_9  |  414                  |  495                  | SeuratProject         | D12                   | Lian                  | AICS0                 | 07_28_2017            | 32                    | AN                    | 7_13_2017             | AN_7_13               | 52                    |  5                    | \n",
       "\n",
       "\n"
      ],
      "text/plain": [
       "  X                     nGene nUMI orig.ident    day protocol cell_line\n",
       "1 AAACATCGAAACATCG_14_6 1577  2986 SeuratProject D12 Lian     AICS11   \n",
       "3 AAACATCGAACAACCA_2_9   489   606 SeuratProject D12 Lian     AICS37   \n",
       "5 AAACATCGAACGCTTA_32_8  940  1599 SeuratProject D24 Lian     AICS11   \n",
       "6 AAACATCGAACTCACC_26_2 2282  4392 SeuratProject D12 Lian     AICS37   \n",
       "7 AAACATCGAACTCACC_26_3 2279  3624 SeuratProject D12 Lian     AICS37   \n",
       "8 AAACATCGAAGACGGA_4_9   414   495 SeuratProject D12 Lian     AICS0    \n",
       "  diff_harvest passage scientist diff_exp  sci_exp ctnt cell_sample\n",
       "1 08_8_2017    44      KG        7_24_2017 KG_7_24 90   15         \n",
       "3 07_24_2017   34      AN        7_10_2017 AN_7_10 89    3         \n",
       "5 08_18_2017   44      KG        7_24_2017 KG_7_24 92   33         \n",
       "6 08_11_2017   37      KG        7_27_2017 KG_7_27 87   27         \n",
       "7 08_11_2017   37      KG        7_27_2017 KG_7_27 87   27         \n",
       "8 07_28_2017   32      AN        7_13_2017 AN_7_13 52    5         "
      ]
     },
     "metadata": {},
     "output_type": "display_data"
    }
   ],
   "source": [
    "head(cell_metadata)"
   ]
  },
  {
   "cell_type": "code",
   "execution_count": 28,
   "metadata": {
    "collapsed": true
   },
   "outputs": [],
   "source": [
    "genes.use <- genes_intersect\n",
    "\n",
    "late_cells <- cell_metadata$X[cell_metadata$day %in% c(\"D24\", \"D26\")]\n",
    "early_cells <- cell_metadata$X[cell_metadata$day %in% c(\"D12\", \"D14\")]\n",
    "\n",
    "early_exp_mat <- cardioAICS[early_cells,]\n",
    "late_exp_mat <- cardioAICS[late_cells,]\n",
    "\n",
    "foldChange_list <- list()\n",
    "for (i in 1:length(genes.use)) {\n",
    "    gene <- genes.use[i]\n",
    "    early_exp <- early_exp_mat[,gene]\n",
    "    late_exp <- late_exp_mat[,gene]\n",
    "    log2fc <- log2(mean(expm1(early_exp)) + 1) - log2(mean(expm1(late_exp)) + 1)\n",
    "    foldChange_list[[gene]] <- log2fc\n",
    "    \n",
    "}\n",
    "\n",
    "lfc_df <- data.frame(\"log2fc\" = as.numeric(foldChange_list), \"gene\" = names(foldChange_list), row.names = names(foldChange_list))\n",
    "lfc_df <- dplyr::arrange(lfc_df, log2fc)"
   ]
  },
  {
   "cell_type": "code",
   "execution_count": 29,
   "metadata": {
    "scrolled": true
   },
   "outputs": [
    {
     "data": {
      "text/html": [
       "<table>\n",
       "<thead><tr><th scope=col>log2fc</th><th scope=col>gene</th></tr></thead>\n",
       "<tbody>\n",
       "\t<tr><td>-2.9033140     </td><td>CNTN5_HUMAN    </td></tr>\n",
       "\t<tr><td>-2.6826235     </td><td>MYH7_HUMAN     </td></tr>\n",
       "\t<tr><td>-1.7993498     </td><td>COL3A1_HUMAN   </td></tr>\n",
       "\t<tr><td>-1.1615466     </td><td>PLN_HUMAN      </td></tr>\n",
       "\t<tr><td>-1.1251242     </td><td>FBXL7_HUMAN    </td></tr>\n",
       "\t<tr><td>-1.1091843     </td><td>PDGFD_HUMAN    </td></tr>\n",
       "\t<tr><td>-1.0154456     </td><td>PRSS35_HUMAN   </td></tr>\n",
       "\t<tr><td>-0.9726669     </td><td>SPHKAP_HUMAN   </td></tr>\n",
       "\t<tr><td>-0.9130757     </td><td>H19_HUMAN      </td></tr>\n",
       "\t<tr><td>-0.8793547     </td><td>STK39_HUMAN    </td></tr>\n",
       "\t<tr><td>-0.7893914     </td><td>SV2C_HUMAN     </td></tr>\n",
       "\t<tr><td>-0.7779002     </td><td>RNF150_HUMAN   </td></tr>\n",
       "\t<tr><td>-0.7691694     </td><td>LINC00881_HUMAN</td></tr>\n",
       "\t<tr><td>-0.6516405     </td><td>NPNT_HUMAN     </td></tr>\n",
       "\t<tr><td>-0.5727746     </td><td>ATXN1_HUMAN    </td></tr>\n",
       "\t<tr><td>-0.4143693     </td><td>EPB41L4A_HUMAN </td></tr>\n",
       "\t<tr><td>-0.3218162     </td><td>QRFPR_HUMAN    </td></tr>\n",
       "\t<tr><td> 0.3927957     </td><td>NT5C2_HUMAN    </td></tr>\n",
       "\t<tr><td> 0.4151384     </td><td>MAML3_HUMAN    </td></tr>\n",
       "\t<tr><td> 0.4861667     </td><td>ANKRD1_HUMAN   </td></tr>\n",
       "\t<tr><td> 0.4898005     </td><td>KCNH7_HUMAN    </td></tr>\n",
       "\t<tr><td> 0.5186001     </td><td>RPL23_HUMAN    </td></tr>\n",
       "\t<tr><td> 0.5340538     </td><td>WWOX_HUMAN     </td></tr>\n",
       "\t<tr><td> 0.5928430     </td><td>LIN28A_HUMAN   </td></tr>\n",
       "\t<tr><td> 0.6328165     </td><td>ARHGAP42_HUMAN </td></tr>\n",
       "\t<tr><td> 0.6686758     </td><td>RPS6_HUMAN     </td></tr>\n",
       "\t<tr><td> 0.6890435     </td><td>FRMD4B_HUMAN   </td></tr>\n",
       "\t<tr><td> 0.7065304     </td><td>ADAM28_HUMAN   </td></tr>\n",
       "\t<tr><td> 0.7200755     </td><td>HAPLN1_HUMAN   </td></tr>\n",
       "\t<tr><td> 0.8006796     </td><td>ADAMTS12_HUMAN </td></tr>\n",
       "\t<tr><td> 0.8028773     </td><td>DOK4_HUMAN     </td></tr>\n",
       "\t<tr><td> 0.8400589     </td><td>PRTG_HUMAN     </td></tr>\n",
       "\t<tr><td> 0.9407212     </td><td>CCDC141_HUMAN  </td></tr>\n",
       "\t<tr><td> 1.0013095     </td><td>MEF2C_HUMAN    </td></tr>\n",
       "\t<tr><td> 1.1157463     </td><td>ACTA1_HUMAN    </td></tr>\n",
       "\t<tr><td> 1.1426743     </td><td>MYH6_HUMAN     </td></tr>\n",
       "\t<tr><td> 1.1624237     </td><td>GRIN2A_HUMAN   </td></tr>\n",
       "\t<tr><td> 1.3904064     </td><td>VCAN_HUMAN     </td></tr>\n",
       "\t<tr><td> 1.4075969     </td><td>BMPER_HUMAN    </td></tr>\n",
       "\t<tr><td> 1.6023821     </td><td>FAM19A4_HUMAN  </td></tr>\n",
       "</tbody>\n",
       "</table>\n"
      ],
      "text/latex": [
       "\\begin{tabular}{r|ll}\n",
       " log2fc & gene\\\\\n",
       "\\hline\n",
       "\t -2.9033140        & CNTN5\\_HUMAN    \\\\\n",
       "\t -2.6826235        & MYH7\\_HUMAN     \\\\\n",
       "\t -1.7993498        & COL3A1\\_HUMAN   \\\\\n",
       "\t -1.1615466        & PLN\\_HUMAN      \\\\\n",
       "\t -1.1251242        & FBXL7\\_HUMAN    \\\\\n",
       "\t -1.1091843        & PDGFD\\_HUMAN    \\\\\n",
       "\t -1.0154456        & PRSS35\\_HUMAN   \\\\\n",
       "\t -0.9726669        & SPHKAP\\_HUMAN   \\\\\n",
       "\t -0.9130757        & H19\\_HUMAN      \\\\\n",
       "\t -0.8793547        & STK39\\_HUMAN    \\\\\n",
       "\t -0.7893914        & SV2C\\_HUMAN     \\\\\n",
       "\t -0.7779002        & RNF150\\_HUMAN   \\\\\n",
       "\t -0.7691694        & LINC00881\\_HUMAN\\\\\n",
       "\t -0.6516405        & NPNT\\_HUMAN     \\\\\n",
       "\t -0.5727746        & ATXN1\\_HUMAN    \\\\\n",
       "\t -0.4143693        & EPB41L4A\\_HUMAN \\\\\n",
       "\t -0.3218162        & QRFPR\\_HUMAN    \\\\\n",
       "\t  0.3927957        & NT5C2\\_HUMAN    \\\\\n",
       "\t  0.4151384        & MAML3\\_HUMAN    \\\\\n",
       "\t  0.4861667        & ANKRD1\\_HUMAN   \\\\\n",
       "\t  0.4898005        & KCNH7\\_HUMAN    \\\\\n",
       "\t  0.5186001        & RPL23\\_HUMAN    \\\\\n",
       "\t  0.5340538        & WWOX\\_HUMAN     \\\\\n",
       "\t  0.5928430        & LIN28A\\_HUMAN   \\\\\n",
       "\t  0.6328165        & ARHGAP42\\_HUMAN \\\\\n",
       "\t  0.6686758        & RPS6\\_HUMAN     \\\\\n",
       "\t  0.6890435        & FRMD4B\\_HUMAN   \\\\\n",
       "\t  0.7065304        & ADAM28\\_HUMAN   \\\\\n",
       "\t  0.7200755        & HAPLN1\\_HUMAN   \\\\\n",
       "\t  0.8006796        & ADAMTS12\\_HUMAN \\\\\n",
       "\t  0.8028773        & DOK4\\_HUMAN     \\\\\n",
       "\t  0.8400589        & PRTG\\_HUMAN     \\\\\n",
       "\t  0.9407212        & CCDC141\\_HUMAN  \\\\\n",
       "\t  1.0013095        & MEF2C\\_HUMAN    \\\\\n",
       "\t  1.1157463        & ACTA1\\_HUMAN    \\\\\n",
       "\t  1.1426743        & MYH6\\_HUMAN     \\\\\n",
       "\t  1.1624237        & GRIN2A\\_HUMAN   \\\\\n",
       "\t  1.3904064        & VCAN\\_HUMAN     \\\\\n",
       "\t  1.4075969        & BMPER\\_HUMAN    \\\\\n",
       "\t  1.6023821        & FAM19A4\\_HUMAN  \\\\\n",
       "\\end{tabular}\n"
      ],
      "text/markdown": [
       "\n",
       "log2fc | gene | \n",
       "|---|---|---|---|---|---|---|---|---|---|---|---|---|---|---|---|---|---|---|---|---|---|---|---|---|---|---|---|---|---|---|---|---|---|---|---|---|---|---|---|\n",
       "| -2.9033140      | CNTN5_HUMAN     | \n",
       "| -2.6826235      | MYH7_HUMAN      | \n",
       "| -1.7993498      | COL3A1_HUMAN    | \n",
       "| -1.1615466      | PLN_HUMAN       | \n",
       "| -1.1251242      | FBXL7_HUMAN     | \n",
       "| -1.1091843      | PDGFD_HUMAN     | \n",
       "| -1.0154456      | PRSS35_HUMAN    | \n",
       "| -0.9726669      | SPHKAP_HUMAN    | \n",
       "| -0.9130757      | H19_HUMAN       | \n",
       "| -0.8793547      | STK39_HUMAN     | \n",
       "| -0.7893914      | SV2C_HUMAN      | \n",
       "| -0.7779002      | RNF150_HUMAN    | \n",
       "| -0.7691694      | LINC00881_HUMAN | \n",
       "| -0.6516405      | NPNT_HUMAN      | \n",
       "| -0.5727746      | ATXN1_HUMAN     | \n",
       "| -0.4143693      | EPB41L4A_HUMAN  | \n",
       "| -0.3218162      | QRFPR_HUMAN     | \n",
       "|  0.3927957      | NT5C2_HUMAN     | \n",
       "|  0.4151384      | MAML3_HUMAN     | \n",
       "|  0.4861667      | ANKRD1_HUMAN    | \n",
       "|  0.4898005      | KCNH7_HUMAN     | \n",
       "|  0.5186001      | RPL23_HUMAN     | \n",
       "|  0.5340538      | WWOX_HUMAN      | \n",
       "|  0.5928430      | LIN28A_HUMAN    | \n",
       "|  0.6328165      | ARHGAP42_HUMAN  | \n",
       "|  0.6686758      | RPS6_HUMAN      | \n",
       "|  0.6890435      | FRMD4B_HUMAN    | \n",
       "|  0.7065304      | ADAM28_HUMAN    | \n",
       "|  0.7200755      | HAPLN1_HUMAN    | \n",
       "|  0.8006796      | ADAMTS12_HUMAN  | \n",
       "|  0.8028773      | DOK4_HUMAN      | \n",
       "|  0.8400589      | PRTG_HUMAN      | \n",
       "|  0.9407212      | CCDC141_HUMAN   | \n",
       "|  1.0013095      | MEF2C_HUMAN     | \n",
       "|  1.1157463      | ACTA1_HUMAN     | \n",
       "|  1.1426743      | MYH6_HUMAN      | \n",
       "|  1.1624237      | GRIN2A_HUMAN    | \n",
       "|  1.3904064      | VCAN_HUMAN      | \n",
       "|  1.4075969      | BMPER_HUMAN     | \n",
       "|  1.6023821      | FAM19A4_HUMAN   | \n",
       "\n",
       "\n"
      ],
      "text/plain": [
       "   log2fc     gene           \n",
       "1  -2.9033140 CNTN5_HUMAN    \n",
       "2  -2.6826235 MYH7_HUMAN     \n",
       "3  -1.7993498 COL3A1_HUMAN   \n",
       "4  -1.1615466 PLN_HUMAN      \n",
       "5  -1.1251242 FBXL7_HUMAN    \n",
       "6  -1.1091843 PDGFD_HUMAN    \n",
       "7  -1.0154456 PRSS35_HUMAN   \n",
       "8  -0.9726669 SPHKAP_HUMAN   \n",
       "9  -0.9130757 H19_HUMAN      \n",
       "10 -0.8793547 STK39_HUMAN    \n",
       "11 -0.7893914 SV2C_HUMAN     \n",
       "12 -0.7779002 RNF150_HUMAN   \n",
       "13 -0.7691694 LINC00881_HUMAN\n",
       "14 -0.6516405 NPNT_HUMAN     \n",
       "15 -0.5727746 ATXN1_HUMAN    \n",
       "16 -0.4143693 EPB41L4A_HUMAN \n",
       "17 -0.3218162 QRFPR_HUMAN    \n",
       "18  0.3927957 NT5C2_HUMAN    \n",
       "19  0.4151384 MAML3_HUMAN    \n",
       "20  0.4861667 ANKRD1_HUMAN   \n",
       "21  0.4898005 KCNH7_HUMAN    \n",
       "22  0.5186001 RPL23_HUMAN    \n",
       "23  0.5340538 WWOX_HUMAN     \n",
       "24  0.5928430 LIN28A_HUMAN   \n",
       "25  0.6328165 ARHGAP42_HUMAN \n",
       "26  0.6686758 RPS6_HUMAN     \n",
       "27  0.6890435 FRMD4B_HUMAN   \n",
       "28  0.7065304 ADAM28_HUMAN   \n",
       "29  0.7200755 HAPLN1_HUMAN   \n",
       "30  0.8006796 ADAMTS12_HUMAN \n",
       "31  0.8028773 DOK4_HUMAN     \n",
       "32  0.8400589 PRTG_HUMAN     \n",
       "33  0.9407212 CCDC141_HUMAN  \n",
       "34  1.0013095 MEF2C_HUMAN    \n",
       "35  1.1157463 ACTA1_HUMAN    \n",
       "36  1.1426743 MYH6_HUMAN     \n",
       "37  1.1624237 GRIN2A_HUMAN   \n",
       "38  1.3904064 VCAN_HUMAN     \n",
       "39  1.4075969 BMPER_HUMAN    \n",
       "40  1.6023821 FAM19A4_HUMAN  "
      ]
     },
     "metadata": {},
     "output_type": "display_data"
    }
   ],
   "source": [
    "lfc_df"
   ]
  },
  {
   "cell_type": "markdown",
   "metadata": {},
   "source": [
    "### Fit using 40 genes"
   ]
  },
  {
   "cell_type": "code",
   "execution_count": 30,
   "metadata": {
    "collapsed": true
   },
   "outputs": [],
   "source": [
    "diff_day <- as.factor(diff_day)"
   ]
  },
  {
   "cell_type": "code",
   "execution_count": 32,
   "metadata": {
    "collapsed": true
   },
   "outputs": [],
   "source": [
    "library(boot)"
   ]
  },
  {
   "cell_type": "code",
   "execution_count": 33,
   "metadata": {
    "collapsed": true
   },
   "outputs": [],
   "source": [
    "subset_cardio <- cardioAICS[,genes.use]\n",
    "subset_cardio <- as.data.frame(as.matrix(subset_cardio))"
   ]
  },
  {
   "cell_type": "code",
   "execution_count": 35,
   "metadata": {
    "collapsed": true
   },
   "outputs": [],
   "source": [
    "fit <- glm(diff_day ~ .,\n",
    "    data = subset_cardio, family = binomial(\"logit\")\n",
    "   )"
   ]
  },
  {
   "cell_type": "code",
   "execution_count": 36,
   "metadata": {},
   "outputs": [
    {
     "data": {
      "text/plain": [
       "\n",
       "Call:  glm(formula = diff_day ~ ., family = binomial(\"logit\"), data = subset_cardio)\n",
       "\n",
       "Coefficients:\n",
       "    (Intercept)      ACTA1_HUMAN       MYH6_HUMAN      ATXN1_HUMAN  \n",
       "         2.3177          -1.1533          -0.4366           0.4502  \n",
       " ADAMTS12_HUMAN    CCDC141_HUMAN     GRIN2A_HUMAN       PRTG_HUMAN  \n",
       "        -0.3844          -0.5177          -0.4736          -0.4766  \n",
       "    RPL23_HUMAN        PLN_HUMAN       VCAN_HUMAN      CNTN5_HUMAN  \n",
       "        -0.4461           0.7481          -0.5069           0.8163  \n",
       "    BMPER_HUMAN      KCNH7_HUMAN    FAM19A4_HUMAN   ARHGAP42_HUMAN  \n",
       "        -0.5351          -0.3644          -0.7023          -0.2952  \n",
       "     WWOX_HUMAN     ANKRD1_HUMAN      MAML3_HUMAN      STK39_HUMAN  \n",
       "        -0.3668          -0.2340          -0.2295           0.3055  \n",
       "   FRMD4B_HUMAN     SPHKAP_HUMAN       MYH7_HUMAN      FBXL7_HUMAN  \n",
       "        -0.4189           0.4501           0.6429           0.3135  \n",
       "    PDGFD_HUMAN     RNF150_HUMAN     ADAM28_HUMAN      NT5C2_HUMAN  \n",
       "         0.4795           0.3246          -0.2863          -0.3670  \n",
       "   COL3A1_HUMAN      MEF2C_HUMAN        H19_HUMAN     HAPLN1_HUMAN  \n",
       "         0.4239          -0.3152           0.2461          -0.6846  \n",
       "LINC00881_HUMAN   EPB41L4A_HUMAN       SV2C_HUMAN       RPS6_HUMAN  \n",
       "         1.6982           0.6711           0.8077          -0.6177  \n",
       "   PRSS35_HUMAN      QRFPR_HUMAN       DOK4_HUMAN       NPNT_HUMAN  \n",
       "         0.8557           1.2774          -0.5634           0.9280  \n",
       "   LIN28A_HUMAN  \n",
       "        -0.9392  \n",
       "\n",
       "Degrees of Freedom: 7109 Total (i.e. Null);  7069 Residual\n",
       "Null Deviance:\t    8823 \n",
       "Residual Deviance: 1701 \tAIC: 1783"
      ]
     },
     "metadata": {},
     "output_type": "display_data"
    }
   ],
   "source": [
    "fit"
   ]
  },
  {
   "cell_type": "code",
   "execution_count": 37,
   "metadata": {
    "collapsed": true
   },
   "outputs": [],
   "source": [
    "subset_cardio$diff_day <- diff_day"
   ]
  },
  {
   "cell_type": "code",
   "execution_count": 38,
   "metadata": {
    "collapsed": true
   },
   "outputs": [],
   "source": [
    "cost <- function(r, pi = 0) mean(abs(r-pi) > 0.5)\n",
    "cv.test <- cv.glm(subset_cardio, cost = cost, fit, K = 5)"
   ]
  },
  {
   "cell_type": "code",
   "execution_count": 39,
   "metadata": {},
   "outputs": [
    {
     "data": {
      "text/html": [
       "<ol class=list-inline>\n",
       "\t<li>0.0504922644163151</li>\n",
       "\t<li>0.049901547116737</li>\n",
       "</ol>\n"
      ],
      "text/latex": [
       "\\begin{enumerate*}\n",
       "\\item 0.0504922644163151\n",
       "\\item 0.049901547116737\n",
       "\\end{enumerate*}\n"
      ],
      "text/markdown": [
       "1. 0.0504922644163151\n",
       "2. 0.049901547116737\n",
       "\n",
       "\n"
      ],
      "text/plain": [
       "[1] 0.05049226 0.04990155"
      ]
     },
     "metadata": {},
     "output_type": "display_data"
    }
   ],
   "source": [
    "cv.test$delta"
   ]
  },
  {
   "cell_type": "code",
   "execution_count": 40,
   "metadata": {
    "collapsed": true,
    "scrolled": false
   },
   "outputs": [],
   "source": [
    "load(\"/allen/aics/gene-editing/RNA_seq/scRNAseq_SeeligCollaboration/12012017_cardio/seurat/all_cells/regressions/reg1/holdout_cm_filtered_cells_entrez_only_normalized_counts.RData\")\n",
    "holdout_cell_metadata <- read.csv(\"/allen/aics/gene-editing/RNA_seq/scRNAseq_SeeligCollaboration/12012017_cardio/seurat/all_cells/regressions/reg1/holdout_cm_filtered_cells_entrez_only_metadata.csv\")"
   ]
  },
  {
   "cell_type": "code",
   "execution_count": 41,
   "metadata": {
    "collapsed": true
   },
   "outputs": [],
   "source": [
    "holdout_cardioAICS <- t(holdout_cardioAICS)\n",
    "holdout_small_mol_cells <- holdout_cell_metadata$protocol == \"Lian\"\n",
    "holdout_cardioAICS <- holdout_cardioAICS[holdout_small_mol_cells,]\n",
    "\n",
    "diff_day <- holdout_cell_metadata$day[holdout_small_mol_cells]\n",
    "\n",
    "diff_day <- gsub('D12|D14', \"early\", diff_day)\n",
    "diff_day <- gsub('D24|D26', \"late\", diff_day)\n",
    "names(diff_day) <- holdout_cell_metadata$X[holdout_small_mol_cells]\n",
    "\n",
    "holdout_cell_metadata <- holdout_cell_metadata[holdout_small_mol_cells,]"
   ]
  },
  {
   "cell_type": "code",
   "execution_count": 43,
   "metadata": {
    "collapsed": true
   },
   "outputs": [],
   "source": [
    "holdout_mat <- holdout_cardioAICS[,genes.use]\n",
    "holdout_mat <- as.data.frame(as.matrix(holdout_mat))"
   ]
  },
  {
   "cell_type": "code",
   "execution_count": 45,
   "metadata": {},
   "outputs": [
    {
     "data": {
      "text/html": [
       "<ol class=list-inline>\n",
       "\t<li>801</li>\n",
       "\t<li>40</li>\n",
       "</ol>\n"
      ],
      "text/latex": [
       "\\begin{enumerate*}\n",
       "\\item 801\n",
       "\\item 40\n",
       "\\end{enumerate*}\n"
      ],
      "text/markdown": [
       "1. 801\n",
       "2. 40\n",
       "\n",
       "\n"
      ],
      "text/plain": [
       "[1] 801  40"
      ]
     },
     "metadata": {},
     "output_type": "display_data"
    }
   ],
   "source": [
    "dim(holdout_mat)"
   ]
  },
  {
   "cell_type": "code",
   "execution_count": 46,
   "metadata": {
    "collapsed": true
   },
   "outputs": [],
   "source": [
    "holdout_predict <- predict(fit, newdata = holdout_mat, type = c(\"response\"))"
   ]
  },
  {
   "cell_type": "code",
   "execution_count": 49,
   "metadata": {
    "collapsed": true
   },
   "outputs": [],
   "source": [
    "get_predicted_time <- function(predict_prob) {\n",
    "    if (predict_prob < 0.5) {\n",
    "        return(\"early\")\n",
    "    } else {\n",
    "        return(\"late\")\n",
    "    }\n",
    "}"
   ]
  },
  {
   "cell_type": "code",
   "execution_count": 50,
   "metadata": {
    "collapsed": true
   },
   "outputs": [],
   "source": [
    "predicted_day <- sapply(holdout_predict, get_predicted_time, simplify = TRUE)"
   ]
  },
  {
   "cell_type": "code",
   "execution_count": 52,
   "metadata": {},
   "outputs": [
    {
     "data": {
      "text/plain": [
       "         actual\n",
       "predicted early late\n",
       "    early   534   30\n",
       "    late     16  221"
      ]
     },
     "metadata": {},
     "output_type": "display_data"
    }
   ],
   "source": [
    "predict_actual_df <- data.frame(\"predicted\" = predicted_day, \"actual\" = diff_day)\n",
    "xtabs(~ predicted + actual, data = predict_actual_df)"
   ]
  },
  {
   "cell_type": "code",
   "execution_count": null,
   "metadata": {
    "collapsed": true
   },
   "outputs": [],
   "source": []
  }
 ],
 "metadata": {
  "kernelspec": {
   "display_name": "R",
   "language": "R",
   "name": "ir"
  },
  "language_info": {
   "codemirror_mode": "r",
   "file_extension": ".r",
   "mimetype": "text/x-r-source",
   "name": "R",
   "pygments_lexer": "r",
   "version": "3.4.1"
  }
 },
 "nbformat": 4,
 "nbformat_minor": 2
}
